{
 "cells": [
  {
   "cell_type": "markdown",
   "source": [
    "# Mapping Deprived Area"
   ],
   "metadata": {
    "collapsed": false
   }
  },
  {
   "cell_type": "code",
   "execution_count": 3,
   "outputs": [],
   "source": [
    "# import libraries\n",
    "\n",
    "import sys\n",
    "import numpy as np\n",
    "import pandas as pd\n",
    "from osgeo import gdal\n",
    "import matplotlib.pyplot as plt\n",
    "from matplotlib.pyplot import figure\n",
    "import os\n",
    "\n",
    "import utils\n",
    "import util_preprocess"
   ],
   "metadata": {
    "collapsed": false
   }
  },
  {
   "cell_type": "markdown",
   "source": [
    "## Set working directory"
   ],
   "metadata": {
    "collapsed": false
   }
  },
  {
   "cell_type": "code",
   "execution_count": 4,
   "outputs": [],
   "source": [
    "# Get abosolute path of the current folder\n",
    "FPATH = '/media/owusu/Extreme SSD/IDEAMAPS/Training_Dataset/Accra'\n",
    "\n",
    "# Get abosolute output path of te current folder\n",
    "OUTPUT = '/media/owusu/Extreme SSD/IDEAMAPS/Training_Dataset/Accra/'\n",
    "\n",
    "target = 'class'\n",
    "\n",
    "# Random seed\n",
    "random_seed = 42\n",
    "# Set random seed in numpy\n",
    "np.random.seed(random_seed)"
   ],
   "metadata": {
    "collapsed": false
   }
  },
  {
   "cell_type": "markdown",
   "source": [
    "## Load covariate features"
   ],
   "metadata": {
    "collapsed": false
   }
  },
  {
   "cell_type": "code",
   "execution_count": 5,
   "outputs": [
    {
     "name": "stdout",
     "output_type": "stream",
     "text": [
      "53\n",
      "562\n",
      "842\n"
     ]
    }
   ],
   "source": [
    "PATH= f'/media/owusu/Extreme SSD/IDEAMAPS/covariate_feature_53bands/acc_covariate_compilation_53bands.tif'\n",
    "img = utils.read_image(PATH)\n",
    "img_arr=img[0]\n",
    "img_gt=img[1]\n",
    "img_georef=img[2]\n",
    "\n",
    "# Process spfea features, get the width, height and number of bands\n",
    "n = img_arr.shape[0]\n",
    "print (n) # number of bands\n",
    "h = img_arr.shape[1]\n",
    "print (h) # height\n",
    "w = img_arr.shape[2]\n",
    "print (w) # width"
   ],
   "metadata": {
    "collapsed": false
   }
  },
  {
   "cell_type": "markdown",
   "source": [
    "## Convert covariate array to pandas dataframe"
   ],
   "metadata": {
    "collapsed": false
   }
  },
  {
   "cell_type": "code",
   "execution_count": 6,
   "outputs": [
    {
     "name": "stdout",
     "output_type": "stream",
     "text": [
      "(53, 562, 842)\n"
     ]
    },
    {
     "data": {
      "text/plain": "   fs_dist_fs_2020  fs_dist_school_2020  in_dist_rd_2016  \\\n0          -9999.0              -9999.0          -9999.0   \n1          -9999.0              -9999.0          -9999.0   \n2          -9999.0              -9999.0          -9999.0   \n3          -9999.0              -9999.0          -9999.0   \n4          -9999.0              -9999.0          -9999.0   \n\n   in_dist_rd_intersect_2016  in_dist_waterway_2016  in_night_light_2016  \\\n0                    -9999.0                -9999.0              -9999.0   \n1                    -9999.0                -9999.0              -9999.0   \n2                    -9999.0                -9999.0              -9999.0   \n3                    -9999.0                -9999.0              -9999.0   \n4                    -9999.0                -9999.0              -9999.0   \n\n   ph_base_water_2010  ph_bio_dvst_2015  ph_climate_risk_2020  \\\n0             -9999.0           -9999.0               -9999.0   \n1             -9999.0           -9999.0               -9999.0   \n2             -9999.0           -9999.0               -9999.0   \n3             -9999.0           -9999.0               -9999.0   \n4             -9999.0           -9999.0               -9999.0   \n\n   ph_dist_aq_veg_2015  ...  sh_ethno_den_2020  uu_bld_count_2020  \\\n0              -9999.0  ...            -9999.0            -9999.0   \n1              -9999.0  ...            -9999.0            -9999.0   \n2              -9999.0  ...            -9999.0            -9999.0   \n3              -9999.0  ...            -9999.0            -9999.0   \n4              -9999.0  ...            -9999.0            -9999.0   \n\n   uu_bld_den_2020  ho_impr_housing_2015  fs_dist_hf_2019  po_hrsl_2018  \\\n0          -9999.0               -9999.0    -3.402823e+38       -9999.0   \n1          -9999.0               -9999.0    -3.402823e+38       -9999.0   \n2          -9999.0               -9999.0    -3.402823e+38       -9999.0   \n3          -9999.0               -9999.0    -3.402823e+38       -9999.0   \n4          -9999.0               -9999.0    -3.402823e+38       -9999.0   \n\n   po_wp_2020  ph_dist_riv_network_2007  uu_urb_bldg_2018  \\\n0     -9999.0                     255.0           -9999.0   \n1     -9999.0                     255.0           -9999.0   \n2     -9999.0                     255.0           -9999.0   \n3     -9999.0                     255.0           -9999.0   \n4     -9999.0                     255.0           -9999.0   \n\n   ses_dist_gov_office_2022  \n0                  0.344877  \n1                  0.344203  \n2                  0.343529  \n3                  0.342857  \n4                  0.342185  \n\n[5 rows x 53 columns]",
      "text/html": "<div>\n<style scoped>\n    .dataframe tbody tr th:only-of-type {\n        vertical-align: middle;\n    }\n\n    .dataframe tbody tr th {\n        vertical-align: top;\n    }\n\n    .dataframe thead th {\n        text-align: right;\n    }\n</style>\n<table border=\"1\" class=\"dataframe\">\n  <thead>\n    <tr style=\"text-align: right;\">\n      <th></th>\n      <th>fs_dist_fs_2020</th>\n      <th>fs_dist_school_2020</th>\n      <th>in_dist_rd_2016</th>\n      <th>in_dist_rd_intersect_2016</th>\n      <th>in_dist_waterway_2016</th>\n      <th>in_night_light_2016</th>\n      <th>ph_base_water_2010</th>\n      <th>ph_bio_dvst_2015</th>\n      <th>ph_climate_risk_2020</th>\n      <th>ph_dist_aq_veg_2015</th>\n      <th>...</th>\n      <th>sh_ethno_den_2020</th>\n      <th>uu_bld_count_2020</th>\n      <th>uu_bld_den_2020</th>\n      <th>ho_impr_housing_2015</th>\n      <th>fs_dist_hf_2019</th>\n      <th>po_hrsl_2018</th>\n      <th>po_wp_2020</th>\n      <th>ph_dist_riv_network_2007</th>\n      <th>uu_urb_bldg_2018</th>\n      <th>ses_dist_gov_office_2022</th>\n    </tr>\n  </thead>\n  <tbody>\n    <tr>\n      <th>0</th>\n      <td>-9999.0</td>\n      <td>-9999.0</td>\n      <td>-9999.0</td>\n      <td>-9999.0</td>\n      <td>-9999.0</td>\n      <td>-9999.0</td>\n      <td>-9999.0</td>\n      <td>-9999.0</td>\n      <td>-9999.0</td>\n      <td>-9999.0</td>\n      <td>...</td>\n      <td>-9999.0</td>\n      <td>-9999.0</td>\n      <td>-9999.0</td>\n      <td>-9999.0</td>\n      <td>-3.402823e+38</td>\n      <td>-9999.0</td>\n      <td>-9999.0</td>\n      <td>255.0</td>\n      <td>-9999.0</td>\n      <td>0.344877</td>\n    </tr>\n    <tr>\n      <th>1</th>\n      <td>-9999.0</td>\n      <td>-9999.0</td>\n      <td>-9999.0</td>\n      <td>-9999.0</td>\n      <td>-9999.0</td>\n      <td>-9999.0</td>\n      <td>-9999.0</td>\n      <td>-9999.0</td>\n      <td>-9999.0</td>\n      <td>-9999.0</td>\n      <td>...</td>\n      <td>-9999.0</td>\n      <td>-9999.0</td>\n      <td>-9999.0</td>\n      <td>-9999.0</td>\n      <td>-3.402823e+38</td>\n      <td>-9999.0</td>\n      <td>-9999.0</td>\n      <td>255.0</td>\n      <td>-9999.0</td>\n      <td>0.344203</td>\n    </tr>\n    <tr>\n      <th>2</th>\n      <td>-9999.0</td>\n      <td>-9999.0</td>\n      <td>-9999.0</td>\n      <td>-9999.0</td>\n      <td>-9999.0</td>\n      <td>-9999.0</td>\n      <td>-9999.0</td>\n      <td>-9999.0</td>\n      <td>-9999.0</td>\n      <td>-9999.0</td>\n      <td>...</td>\n      <td>-9999.0</td>\n      <td>-9999.0</td>\n      <td>-9999.0</td>\n      <td>-9999.0</td>\n      <td>-3.402823e+38</td>\n      <td>-9999.0</td>\n      <td>-9999.0</td>\n      <td>255.0</td>\n      <td>-9999.0</td>\n      <td>0.343529</td>\n    </tr>\n    <tr>\n      <th>3</th>\n      <td>-9999.0</td>\n      <td>-9999.0</td>\n      <td>-9999.0</td>\n      <td>-9999.0</td>\n      <td>-9999.0</td>\n      <td>-9999.0</td>\n      <td>-9999.0</td>\n      <td>-9999.0</td>\n      <td>-9999.0</td>\n      <td>-9999.0</td>\n      <td>...</td>\n      <td>-9999.0</td>\n      <td>-9999.0</td>\n      <td>-9999.0</td>\n      <td>-9999.0</td>\n      <td>-3.402823e+38</td>\n      <td>-9999.0</td>\n      <td>-9999.0</td>\n      <td>255.0</td>\n      <td>-9999.0</td>\n      <td>0.342857</td>\n    </tr>\n    <tr>\n      <th>4</th>\n      <td>-9999.0</td>\n      <td>-9999.0</td>\n      <td>-9999.0</td>\n      <td>-9999.0</td>\n      <td>-9999.0</td>\n      <td>-9999.0</td>\n      <td>-9999.0</td>\n      <td>-9999.0</td>\n      <td>-9999.0</td>\n      <td>-9999.0</td>\n      <td>...</td>\n      <td>-9999.0</td>\n      <td>-9999.0</td>\n      <td>-9999.0</td>\n      <td>-9999.0</td>\n      <td>-3.402823e+38</td>\n      <td>-9999.0</td>\n      <td>-9999.0</td>\n      <td>255.0</td>\n      <td>-9999.0</td>\n      <td>0.342185</td>\n    </tr>\n  </tbody>\n</table>\n<p>5 rows × 53 columns</p>\n</div>"
     },
     "execution_count": 6,
     "metadata": {},
     "output_type": "execute_result"
    }
   ],
   "source": [
    "bandname = ['fs_dist_fs_2020', 'fs_dist_school_2020', 'in_dist_rd_2016', 'in_dist_rd_intersect_2016', 'in_dist_waterway_2016', 'in_night_light_2016',\n",
    "'ph_base_water_2010', 'ph_bio_dvst_2015', 'ph_climate_risk_2020', 'ph_dist_aq_veg_2015', 'ph_dist_art_surface_2015', 'ph_dist_bare_2015',\n",
    "'ph_dist_cultivated_2015', 'ph_dist_herb_2015', 'ph_dist_inland_water_2018', 'ph_dist_open_coast_2020', 'ph_dist_shrub_2015', 'ph_dist_sparse_veg_2015',\n",
    "'ph_dist_woody_tree_2015', 'ph_gdmhz_2005', 'ph_grd_water_2000', 'ph_hzd_index_2011', 'ph_land_c1_2019', 'ph_land_c2_2020', 'ph_max_tem_2019',\n",
    "'ph_ndvi_2019', 'ph_pm25_2016', 'ph_slope_2000', 'ses_an_visits_2016', 'ses_child_stunted_2016', 'ses_dpt3_2016', 'ses_hf_delivery_2016',\n",
    "'ses_impr_water_src_2016', 'ses_ITN_2016', 'ses_m_lit_2016', 'ses_measles_2016', 'ses_odef_2016', 'ses_pfpr_2016', 'ses_preg_2016',\n",
    "'ses_unmet_need_2016', 'ses_w_lit_2016', 'sh_dist_mnr_pofw_2019', 'sh_dist_pofw_2019', 'sh_ethno_den_2020', 'uu_bld_count_2020',\n",
    "'uu_bld_den_2020', 'ho_impr_housing_2015', 'fs_dist_hf_2019', 'po_hrsl_2018', 'po_wp_2020', 'ph_dist_riv_network_2007', 'uu_urb_bldg_2018', 'ses_dist_gov_office_2022']\n",
    "\n",
    "\n",
    "# Make dataframe\n",
    "df_data=utils.make_data_frame(img_arr, bandname)\n",
    "df_data.head()"
   ],
   "metadata": {
    "collapsed": false
   }
  },
  {
   "cell_type": "markdown",
   "source": [
    "## Inference"
   ],
   "metadata": {
    "collapsed": false
   }
  },
  {
   "cell_type": "code",
   "execution_count": 7,
   "outputs": [
    {
     "name": "stdout",
     "output_type": "stream",
     "text": [
      "(473204, 11)\n"
     ]
    },
    {
     "data": {
      "text/plain": "   po_wp_2020  po_hrsl_2018  uu_bld_den_2020  uu_bld_count_2020  \\\n0     -9999.0       -9999.0          -9999.0            -9999.0   \n1     -9999.0       -9999.0          -9999.0            -9999.0   \n2     -9999.0       -9999.0          -9999.0            -9999.0   \n3     -9999.0       -9999.0          -9999.0            -9999.0   \n4     -9999.0       -9999.0          -9999.0            -9999.0   \n\n   ph_slope_2000  ph_pm25_2016  ph_ndvi_2019  ph_bio_dvst_2015  \\\n0        -9999.0       -9999.0       -9999.0           -9999.0   \n1        -9999.0       -9999.0       -9999.0           -9999.0   \n2        -9999.0       -9999.0       -9999.0           -9999.0   \n3        -9999.0       -9999.0       -9999.0           -9999.0   \n4        -9999.0       -9999.0       -9999.0           -9999.0   \n\n   ph_max_tem_2019  in_night_light_2016  uid  \n0          -9999.0              -9999.0    0  \n1          -9999.0              -9999.0    1  \n2          -9999.0              -9999.0    2  \n3          -9999.0              -9999.0    3  \n4          -9999.0              -9999.0    4  ",
      "text/html": "<div>\n<style scoped>\n    .dataframe tbody tr th:only-of-type {\n        vertical-align: middle;\n    }\n\n    .dataframe tbody tr th {\n        vertical-align: top;\n    }\n\n    .dataframe thead th {\n        text-align: right;\n    }\n</style>\n<table border=\"1\" class=\"dataframe\">\n  <thead>\n    <tr style=\"text-align: right;\">\n      <th></th>\n      <th>po_wp_2020</th>\n      <th>po_hrsl_2018</th>\n      <th>uu_bld_den_2020</th>\n      <th>uu_bld_count_2020</th>\n      <th>ph_slope_2000</th>\n      <th>ph_pm25_2016</th>\n      <th>ph_ndvi_2019</th>\n      <th>ph_bio_dvst_2015</th>\n      <th>ph_max_tem_2019</th>\n      <th>in_night_light_2016</th>\n      <th>uid</th>\n    </tr>\n  </thead>\n  <tbody>\n    <tr>\n      <th>0</th>\n      <td>-9999.0</td>\n      <td>-9999.0</td>\n      <td>-9999.0</td>\n      <td>-9999.0</td>\n      <td>-9999.0</td>\n      <td>-9999.0</td>\n      <td>-9999.0</td>\n      <td>-9999.0</td>\n      <td>-9999.0</td>\n      <td>-9999.0</td>\n      <td>0</td>\n    </tr>\n    <tr>\n      <th>1</th>\n      <td>-9999.0</td>\n      <td>-9999.0</td>\n      <td>-9999.0</td>\n      <td>-9999.0</td>\n      <td>-9999.0</td>\n      <td>-9999.0</td>\n      <td>-9999.0</td>\n      <td>-9999.0</td>\n      <td>-9999.0</td>\n      <td>-9999.0</td>\n      <td>1</td>\n    </tr>\n    <tr>\n      <th>2</th>\n      <td>-9999.0</td>\n      <td>-9999.0</td>\n      <td>-9999.0</td>\n      <td>-9999.0</td>\n      <td>-9999.0</td>\n      <td>-9999.0</td>\n      <td>-9999.0</td>\n      <td>-9999.0</td>\n      <td>-9999.0</td>\n      <td>-9999.0</td>\n      <td>2</td>\n    </tr>\n    <tr>\n      <th>3</th>\n      <td>-9999.0</td>\n      <td>-9999.0</td>\n      <td>-9999.0</td>\n      <td>-9999.0</td>\n      <td>-9999.0</td>\n      <td>-9999.0</td>\n      <td>-9999.0</td>\n      <td>-9999.0</td>\n      <td>-9999.0</td>\n      <td>-9999.0</td>\n      <td>3</td>\n    </tr>\n    <tr>\n      <th>4</th>\n      <td>-9999.0</td>\n      <td>-9999.0</td>\n      <td>-9999.0</td>\n      <td>-9999.0</td>\n      <td>-9999.0</td>\n      <td>-9999.0</td>\n      <td>-9999.0</td>\n      <td>-9999.0</td>\n      <td>-9999.0</td>\n      <td>-9999.0</td>\n      <td>4</td>\n    </tr>\n  </tbody>\n</table>\n</div>"
     },
     "execution_count": 7,
     "metadata": {},
     "output_type": "execute_result"
    }
   ],
   "source": [
    "df_data['uid'] = np.arange(start=0,stop = len(df_data), dtype=int)\n",
    "# df_data = df_data.drop(columns=['ph_gdmhz_2005', 'ph_grd_water_2000', 'ph_hzd_index_2011', 'ph_base_water_2010', 'ses_pfpr_2016', 'ph_land_c1_2019', 'ph_land_c2_2020'])\n",
    "df_data = df_data[['po_wp_2020', 'po_hrsl_2018', 'uu_bld_den_2020', 'uu_bld_count_2020', 'ph_slope_2000', 'ph_pm25_2016', 'ph_ndvi_2019', 'ph_bio_dvst_2015', 'ph_max_tem_2019', 'in_night_light_2016', 'uid']]\n",
    "print(df_data.shape)\n",
    "df_data.head()"
   ],
   "metadata": {
    "collapsed": false
   }
  },
  {
   "cell_type": "code",
   "execution_count": 8,
   "outputs": [],
   "source": [
    "data_X1 = df_data.copy()\n",
    "data_X = data_X1.loc[ data_X1['po_wp_2020'] != -9999 ]\n",
    "data_X = data_X.copy()\n",
    "# data_X = data_X.loc[ data_X['po_wp_2020'] != 0 ]\n",
    "data_uid = data_X\n",
    "data_x  = data_X.drop(columns=['uid'])\n",
    "\n",
    "data_uid['catid'] = np.arange(start=0,stop = len(data_uid), dtype=int)\n"
   ],
   "metadata": {
    "collapsed": false
   }
  },
  {
   "cell_type": "code",
   "execution_count": 11,
   "outputs": [],
   "source": [
    "from sklearn.impute import SimpleImputer\n",
    "\n",
    "# The SimpleImputer\n",
    "si = SimpleImputer(missing_values=np.nan, strategy='mean')\n",
    "data_x_tran = si.fit_transform(data_x)\n",
    "\n",
    "from sklearn.preprocessing import StandardScaler\n",
    "ss = StandardScaler()\n",
    "# # Standardize  data\n",
    "data_x_scale = ss.fit_transform(data_x_tran)"
   ],
   "metadata": {
    "collapsed": false
   }
  },
  {
   "cell_type": "code",
   "execution_count": 23,
   "outputs": [],
   "source": [
    "# PREDICTION\n",
    "from catboost import CatBoostClassifier, Pool\n",
    "from xgboost import XGBClassifier\n",
    "\n",
    "# load\n",
    "new_model = XGBClassifier()\n",
    "new_model.load_model(\"/media/owusu/Extreme SSD/IDEAMAPS/outputs/accra_models/xgboost_subset_11_221119124516\")\n",
    "pred_map = new_model.predict(data_x_scale)"
   ],
   "metadata": {
    "collapsed": false
   }
  },
  {
   "cell_type": "code",
   "execution_count": 24,
   "outputs": [
    {
     "name": "stdout",
     "output_type": "stream",
     "text": [
      "(250376, 2)\n"
     ]
    },
    {
     "data": {
      "text/plain": "   pred  catid\n0     1      0\n1     1      1\n2     1      2\n3     1      3\n4     1      4",
      "text/html": "<div>\n<style scoped>\n    .dataframe tbody tr th:only-of-type {\n        vertical-align: middle;\n    }\n\n    .dataframe tbody tr th {\n        vertical-align: top;\n    }\n\n    .dataframe thead th {\n        text-align: right;\n    }\n</style>\n<table border=\"1\" class=\"dataframe\">\n  <thead>\n    <tr style=\"text-align: right;\">\n      <th></th>\n      <th>pred</th>\n      <th>catid</th>\n    </tr>\n  </thead>\n  <tbody>\n    <tr>\n      <th>0</th>\n      <td>1</td>\n      <td>0</td>\n    </tr>\n    <tr>\n      <th>1</th>\n      <td>1</td>\n      <td>1</td>\n    </tr>\n    <tr>\n      <th>2</th>\n      <td>1</td>\n      <td>2</td>\n    </tr>\n    <tr>\n      <th>3</th>\n      <td>1</td>\n      <td>3</td>\n    </tr>\n    <tr>\n      <th>4</th>\n      <td>1</td>\n      <td>4</td>\n    </tr>\n  </tbody>\n</table>\n</div>"
     },
     "execution_count": 24,
     "metadata": {},
     "output_type": "execute_result"
    }
   ],
   "source": [
    "# Convert narray to dataframe\n",
    "col_name = ['pred']\n",
    "predictions_image = pd.DataFrame(pred_map, columns=col_name)\n",
    "predictions_image['catid'] = np.arange(start=0,stop = len(predictions_image), dtype=int) # add a uniques id to merge\n",
    "print(predictions_image.shape)\n",
    "predictions_image.head()"
   ],
   "metadata": {
    "collapsed": false
   }
  },
  {
   "cell_type": "code",
   "execution_count": 25,
   "outputs": [
    {
     "name": "stdout",
     "output_type": "stream",
     "text": [
      "(250376, 13)\n"
     ]
    }
   ],
   "source": [
    "# merge prediction to data_x (data with useful info)\n",
    "map_data = predictions_image.merge(data_uid, how='inner', on='catid')\n",
    "# map_data = pd.concat([predictions_image, data_x], axis=1 )\n",
    "print (map_data.shape)\n",
    "#\n",
    "# set index for merging with big image data\n",
    "map_data  = map_data.set_index('uid')\n",
    "df1  = df_data.set_index('uid')"
   ],
   "metadata": {
    "collapsed": false
   }
  },
  {
   "cell_type": "code",
   "execution_count": 26,
   "outputs": [
    {
     "name": "stdout",
     "output_type": "stream",
     "text": [
      "(473204,)\n"
     ]
    }
   ],
   "source": [
    "# merge to bg image data\n",
    "predictions_image_merge = pd.merge(df1, map_data, how='outer', right_index=True, left_index=True)\n",
    "\n",
    "\n",
    "predictions_image = predictions_image_merge['pred'].values\n",
    "\n",
    "print(predictions_image.shape)"
   ],
   "metadata": {
    "collapsed": false
   }
  },
  {
   "cell_type": "code",
   "execution_count": 27,
   "outputs": [
    {
     "data": {
      "text/plain": "array([[0.00000e+00, 4.48740e+04],\n       [1.00000e+00, 2.05502e+05],\n       [        nan, 2.22828e+05]])"
     },
     "execution_count": 27,
     "metadata": {},
     "output_type": "execute_result"
    }
   ],
   "source": [
    "(unique, counts) = np.unique(predictions_image, return_counts=True)\n",
    "frequencies = np.asarray((unique, counts)).T\n",
    "frequencies"
   ],
   "metadata": {
    "collapsed": false
   }
  },
  {
   "cell_type": "code",
   "execution_count": 28,
   "outputs": [
    {
     "data": {
      "text/plain": "<Figure size 800x400 with 1 Axes>",
      "image/png": "[encoded data removed]"
     },
     "metadata": {},
     "output_type": "display_data"
    }
   ],
   "source": [
    "from matplotlib.pyplot import figure\n",
    "import matplotlib.patches as mpatches\n",
    "\n",
    "h = img_arr.shape[1]\n",
    "w = img_arr.shape[2]\n",
    "\n",
    "pred_map = predictions_image.reshape(h, w)\n",
    "\n",
    "\n",
    "values = np.unique(pred_map.ravel())\n",
    "\n",
    "plt.figure(figsize=(8,4))\n",
    "im = plt.imshow(pred_map, interpolation='none')\n",
    "\n",
    "# get the colors of the values, according to the\n",
    "# colormap used by imshow\n",
    "colors = [ im.cmap(im.norm(value)) for value in values]\n",
    "# create a patch (proxy artist) for every color\n",
    "patches = [ mpatches.Patch(color=colors[i], label=\"Class {l}\".format(l=values[i]) ) for i in range(len(values)) ]\n",
    "# put those patched as legend-handles into the legend\n",
    "plt.legend(handles=patches, bbox_to_anchor=(1.05, 1), loc=2, borderaxespad=0. )\n",
    "\n",
    "plt.show()"
   ],
   "metadata": {
    "collapsed": false
   }
  },
  {
   "cell_type": "code",
   "execution_count": 30,
   "outputs": [],
   "source": [
    "import datetime\n",
    "import rasterio as rio\n",
    "T = datetime.datetime.now()\n",
    "time = T.strftime(\"%y%m%d%H%M%S\")\n",
    "MPATH = '/media/owusu/Extreme SSD/IDEAMAPS/outputs/accra_maps'\n",
    "filename = 'catboost_subset_11'\n",
    "out_file = f\"{MPATH}/{filename}_{time}_RF.tif\"\n",
    "# out_file = \"/home/ubuntu/max/output/lag_lgb_map.tif\"\n",
    "# update profile from red band\n",
    "fp = f'/media/owusu/Extreme SSD/IDEAMAPS/covariate_feature_53bands/acc_covariate_compilation_53bands.tif'\n",
    "with rio.open(fp, mode=\"r\") as src:\n",
    "    out_profile = src.profile.copy()\n",
    "    out_profile.update(count=1,\n",
    "                       nodata=-9999,\n",
    "                       dtype='float32',\n",
    "                       width=src.width,\n",
    "                       height=src.height,\n",
    "                       crs=src.crs)\n",
    "\n",
    "# open in 'write' mode, unpack profile info to dst\n",
    "with rio.open(out_file,\n",
    "                   'w', **out_profile) as dst:\n",
    "    dst.write_band(1, pred_map)"
   ],
   "metadata": {
    "collapsed": false
   }
  },
  {
   "cell_type": "code",
   "execution_count": null,
   "outputs": [],
   "source": [],
   "metadata": {
    "collapsed": false
   }
  }
 ],
 "metadata": {
  "kernelspec": {
   "display_name": "Python 3",
   "language": "python",
   "name": "python3"
  },
  "language_info": {
   "codemirror_mode": {
    "name": "ipython",
    "version": 2
   },
   "file_extension": ".py",
   "mimetype": "text/x-python",
   "name": "python",
   "nbconvert_exporter": "python",
   "pygments_lexer": "ipython2",
   "version": "2.7.6"
  }
 },
 "nbformat": 4,
 "nbformat_minor": 0
}
