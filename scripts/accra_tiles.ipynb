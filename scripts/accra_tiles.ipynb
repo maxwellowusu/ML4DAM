{
 "cells": [
  {
   "cell_type": "markdown",
   "source": [
    "# Mapping Deprived Area"
   ],
   "metadata": {
    "collapsed": false
   }
  },
  {
   "cell_type": "code",
   "execution_count": 1,
   "outputs": [],
   "source": [
    "# import libraries\n",
    "\n",
    "import os\n",
    "import numpy as np\n",
    "from osgeo import gdal\n",
    "\n",
    "import matplotlib.pyplot as plt\n",
    "import matplotlib.patches as mpatches\n",
    "from skimage import exposure\n",
    "\n",
    "%matplotlib inline\n",
    "plt.rcParams['figure.figsize'] = (15, 10)"
   ],
   "metadata": {
    "collapsed": false
   }
  },
  {
   "cell_type": "markdown",
   "source": [
    "## Set Path"
   ],
   "metadata": {
    "collapsed": false
   }
  },
  {
   "cell_type": "code",
   "execution_count": 18,
   "outputs": [],
   "source": [
    "BASE_PATH = '/media/owusu/Extreme SSD/IDEAMAPS/Training_Dataset/Accra'\n",
    "IMAGE_PATH = os.path.join(BASE_PATH, \"Tiles_covariate_T1000m_100m\")\n",
    "LABEL_PATH = os.path.join(BASE_PATH, \"Tiles_masks_T1000m_100m\")"
   ],
   "metadata": {
    "collapsed": false
   }
  },
  {
   "cell_type": "code",
   "execution_count": 30,
   "outputs": [],
   "source": [
    "def gtiff_to_array(file_path):\n",
    "    \"\"\"Takes a file path and returns a tif file as a 3-dimensional numpy array, width x height x bands.\"\"\"\n",
    "    data = gdal.Open(file_path)\n",
    "    bands = [data.GetRasterBand(i+1).ReadAsArray() for i in range(data.RasterCount)]\n",
    "    return np.stack(bands, axis=2)\n",
    "\n",
    "\n",
    "def fetch_tiles(path):\n",
    "    \"\"\"Parse the images into a dictionary of numpy arrays.\n",
    "\n",
    "    The following keys are used:\n",
    "    sat -- satellite image\n",
    "    bldg -- for the building locations reference image\n",
    "    road -- for the road locations reference image\n",
    "    \"\"\"\n",
    "    tiles = {}\n",
    "    for f in sorted(os.listdir(path)):\n",
    "        fdir = os.path.join(path, f)\n",
    "        _, ext = os.path.splitext(f)\n",
    "        if ext.lower() == \".tif\":\n",
    "            imgtype = f[-9:-4]\n",
    "            tiles[imgtype] = gtiff_to_array(fdir)\n",
    "    return tiles\n",
    "\n",
    "\n",
    "def visualize_labels(labels, fig_width=15, fig_height=12):\n",
    "    \"\"\"Visualize the labels prepared from the reference images.\"\"\"\n",
    "    fig = plt.figure(figsize=(fig_width, fig_height))\n",
    "    a=fig.add_subplot(1,1,1)\n",
    "    values = np.unique(labels.ravel())\n",
    "    im = plt.imshow(labels[:,:,0])\n",
    "    a.set_title(\"Labeled image\")\n",
    "    # get the colors of the values, according to the\n",
    "    # colormap used by imshow\n",
    "    colors = [im.cmap(im.norm(value)) for value in values]\n",
    "    # create a patch (proxy artist) for every color\n",
    "    labels = [\"Other\", \"Informal Settlements\"]\n",
    "    patches = [mpatches.Patch(color=colors[i], label=j) for i, j in zip(range(len(values)), labels)]\n",
    "    # put those patched as legend-handles into the legend\n",
    "    plt.legend(handles=patches, bbox_to_anchor=(1.05, 1), loc=2, borderaxespad=0. )\n",
    "\n",
    "\n",
    "def visualize_data(data, title, fig_width=15, fig_height=12):\n",
    "    \"\"\"Visualize the satellite image data.\"\"\"\n",
    "    # visualize only RGB bands\n",
    "    data = data[:, :, 0:-1]\n",
    "    _ = data[:, :, 0].copy()\n",
    "    data[:, :, 0] = data[:, :, 2]\n",
    "    data[:, :, 2] = _\n",
    "    data = data.astype(np.float)\n",
    "    # perform stretching for better visualization\n",
    "    for i in range(data.shape[2]):\n",
    "        p2, p98 = np.percentile(data[:, :, i], (2, 98))\n",
    "        data[:, :, i] = exposure.rescale_intensity(data[:, :, i],\n",
    "                                                      in_range=(p2, p98))\n",
    "    fig = plt.figure(figsize=(fig_width, fig_height))\n",
    "    a=fig.add_subplot(1,1,1)\n",
    "    a.set_title(title)\n",
    "    plt.imshow(data)\n"
   ],
   "metadata": {
    "collapsed": false
   }
  },
  {
   "cell_type": "code",
   "execution_count": 31,
   "outputs": [
    {
     "data": {
      "text/plain": "<Figure size 1500x1200 with 1 Axes>",
      "image/png": "[encoded data removed]"
     },
     "metadata": {},
     "output_type": "display_data"
    }
   ],
   "source": [
    "image_tiles = fetch_tiles(IMAGE_PATH)\n",
    "label_tiles = fetch_tiles(LABEL_PATH)\n",
    "\n",
    "# visualize_data(image_tiles[\"area1\"], \"Sample training image tile 1\")\n",
    "visualize_labels(label_tiles[\"area1\"])"
   ],
   "metadata": {
    "collapsed": false
   }
  },
  {
   "cell_type": "code",
   "execution_count": 9,
   "outputs": [
    {
     "name": "stdout",
     "output_type": "stream",
     "text": [
      "There are 8 number of training patches\n",
      "(8, 22, 22, 53)\n"
     ]
    }
   ],
   "source": [
    "PATCHSIZE = 22\n",
    "NBANDS = image_tiles[\"area1\"].shape[-1]\n",
    "\n",
    "def gridwise_sample(imgarray, patchsize):\n",
    "    \"\"\"Extract sample patches of size patchsize x patchsize from an image (imgarray) in a gridwise manner.\n",
    "    \"\"\"\n",
    "    nrows, ncols, nbands = imgarray.shape\n",
    "    patchsamples = np.zeros(shape=(0, patchsize, patchsize, nbands),\n",
    "                            dtype=imgarray.dtype)\n",
    "    for i in range(int(nrows/patchsize)):\n",
    "        for j in range(int(ncols/patchsize)):\n",
    "            tocat = imgarray[i*patchsize:(i+1)*patchsize,\n",
    "                             j*patchsize:(j+1)*patchsize, :]\n",
    "            tocat = np.expand_dims(tocat, axis=0)\n",
    "            patchsamples = np.concatenate((patchsamples, tocat),\n",
    "                                          axis=0)\n",
    "    return patchsamples\n",
    "\n",
    "Xtrain = np.zeros(shape=(0, PATCHSIZE, PATCHSIZE, NBANDS), dtype=np.float32)\n",
    "Ytrain = np.zeros(shape=(0, PATCHSIZE, PATCHSIZE, 1), dtype=np.uint8)\n",
    "\n",
    "# sample each training tile systematically in a gridwise manner\n",
    "train_areas = [\"area1\", \"area2\", \"area3\", \"area4\", \"area5\", \"area6\", \"area7\", \"area8\"]\n",
    "for area in train_areas:\n",
    "    X_toadd = gridwise_sample(image_tiles[area], PATCHSIZE)\n",
    "    Y_toadd = gridwise_sample(label_tiles[area], PATCHSIZE)\n",
    "    Xtrain = np.concatenate((Xtrain, X_toadd), axis=0)\n",
    "    Ytrain = np.concatenate((Ytrain, Y_toadd), axis=0)\n",
    "# encode all non-informal settlement classes as one class\n",
    "Ytrain[Ytrain!=2] = 1\n",
    "print(\"There are %i number of training patches\" % (Xtrain.shape[0]))\n",
    "print(Xtrain.shape)"
   ],
   "metadata": {
    "collapsed": false
   }
  },
  {
   "cell_type": "code",
   "execution_count": 10,
   "outputs": [],
   "source": [
    "\n",
    "# test tile\n",
    "Xtest = image_tiles[\"area7\"]\n",
    "Ytest = label_tiles[\"area7\"]\n",
    "\n",
    "\n"
   ],
   "metadata": {
    "collapsed": false
   }
  },
  {
   "cell_type": "code",
   "execution_count": 11,
   "outputs": [
    {
     "name": "stdout",
     "output_type": "stream",
     "text": [
      "(506, 53)\n",
      "(506,)\n"
     ]
    }
   ],
   "source": [
    "# let's compare a pixel-based classifier as a baseline\n",
    "from sklearn.ensemble import RandomForestClassifier\n",
    "\n",
    "\n",
    "# sample training points for random forest classifier\n",
    "NSAMPLES_PER_PATCH = 43\n",
    "npatches = Xtrain.shape[0]\n",
    "nbands = Xtrain.shape[3]\n",
    "nsamples = NSAMPLES_PER_PATCH*npatches\n",
    "row_idx = np.random.randint(0, Xtrain.shape[1]-1, NSAMPLES_PER_PATCH)\n",
    "col_idx = np.random.randint(0, Xtrain.shape[2]-1, NSAMPLES_PER_PATCH)\n",
    "Xtrain_RF = np.zeros((nsamples, nbands), dtype=np.float32)\n",
    "Ytrain_RF = np.zeros((nsamples), dtype=int)\n",
    "idx = 0\n",
    "for i in range(npatches):\n",
    "    for r, c in zip(row_idx, col_idx):\n",
    "        Xtrain_RF[idx, :] = Xtrain[i, r, c, :]\n",
    "        Ytrain_RF[idx] = np.argmax(Ytrain[i, r, c, :], axis=0)\n",
    "        idx += 1\n",
    "# train random forest classifier\n",
    "# and predict test set\n",
    "clf = RandomForestClassifier(n_estimators=2000, max_depth=20, random_state=0)\n",
    "clf.fit(Xtrain_RF, Ytrain_RF)\n",
    "Xtest_RF = Xtest.reshape(Xtest.shape[0]*Xtest.shape[1], Xtest.shape[2])\n",
    "print(Xtest_RF.shape)\n",
    "predictions_RF = clf.predict(Xtest_RF)\n",
    "print(predictions_RF.shape)\n",
    "predictions_RF = predictions_RF.reshape(Xtest.shape[0], Xtest.shape[1])"
   ],
   "metadata": {
    "collapsed": false
   }
  },
  {
   "cell_type": "code",
   "execution_count": 11,
   "outputs": [],
   "source": [],
   "metadata": {
    "collapsed": false
   }
  },
  {
   "cell_type": "code",
   "execution_count": 12,
   "outputs": [],
   "source": [
    "# from sklearn.metrics import classification_report\n",
    "#\n",
    "# print(classification_report(Xtest_RF, predictions_RF))"
   ],
   "metadata": {
    "collapsed": false
   }
  },
  {
   "cell_type": "code",
   "execution_count": 13,
   "outputs": [
    {
     "data": {
      "text/plain": "<Figure size 1500x1000 with 1 Axes>",
      "image/png": "[encoded data removed]"
     },
     "metadata": {},
     "output_type": "display_data"
    },
    {
     "name": "stdout",
     "output_type": "stream",
     "text": [
      "Accuracy metrics of Random Forest results\n",
      "Overall Accuracy: 1.000000\n",
      "PA of others: 1.000000\n",
      "PA of informal settlements: nan\n"
     ]
    },
    {
     "name": "stderr",
     "output_type": "stream",
     "text": [
      "/tmp/ipykernel_9901/1591616404.py:116: RuntimeWarning: invalid value encountered in long_scalars\n",
      "  PA_slums_RF = ((predictions_RF[labels==1]==labels[labels==1]).sum())/(labels[labels==1].size)\n"
     ]
    }
   ],
   "source": [
    "import string\n",
    "from matplotlib import colors\n",
    "\n",
    "# set color codes of the classes\n",
    "_others = [221, 61, 14]\n",
    "_slums = [200, 199, 219]\n",
    "ccolors = (_slums, _others)\n",
    "NROWS, NCOLS, NBANDS = Xtest.shape\n",
    "\n",
    "\n",
    "def print_map(predictions, idxarray, filename=None, title=None, ccolors=None):\n",
    "    \"\"\"Print the classified map.\n",
    "\n",
    "    Keyword arguments:\n",
    "    predictions -- the array output labels from the classification\n",
    "    results\n",
    "    idxarray -- the array of indices of the classified samples\n",
    "    to be plotted.\n",
    "    filename -- the name (with the directory) of the file where to\n",
    "    write the map.\n",
    "    ccolors -- an array of tuples containing rgb values for the classes\n",
    "    Both arrays should match and be arranged accordingly. And the\n",
    "    index of the color should match the value of the of prediction.\n",
    "    \"\"\"\n",
    "    if predictions.size != idxarray.shape[0]:\n",
    "        raise ValueError(\"There should be the same number of \" +\n",
    "                         \"predictions and indices.\")\n",
    "    nrows, ncols = np.max(idxarray[:, 0])+1, np.max(idxarray[:, 1])+1\n",
    "    classifiedmap = np.zeros((nrows, ncols, 3), dtype=\"uint8\")\n",
    "    idx = 0\n",
    "    for prediction in predictions:\n",
    "        classifiedmap[idxarray[idx, 0],\n",
    "                      idxarray[idx, 1]] = np.asarray(ccolors[prediction])\n",
    "        idx += 1\n",
    "    if filename is None:\n",
    "        fig = plt.figure()\n",
    "        plt.imshow(classifiedmap)\n",
    "        if title:\n",
    "            plt.suptitle(title)\n",
    "        plt.show()\n",
    "    else:\n",
    "        output_raster = gdal.GetDriverByName('GTiff').Create(filename,\n",
    "                                                             NCOLS,\n",
    "                                                             NROWS,\n",
    "                                                             NUMBER_CLASSES,\n",
    "                                                             gdal.GDT_Byte)\n",
    "        for i in range(NUMBER_CLASSES):\n",
    "            output_raster.GetRasterBand(i+1).WriteArray(classifiedmap.astype(np.uint8)[:, :, i])\n",
    "\n",
    "\n",
    "def get_confusion_matrix(predictions, labels):\n",
    "    \"\"\"Compute the confusion matrix.\n",
    "\n",
    "    Keyword arguments:\n",
    "    prediction -- the array output labels from the classification\n",
    "    results\n",
    "    labels -- the  array of \"true\" labels from the test set\n",
    "    Both arrays should match, be arranged accordingly, and\n",
    "    have non-negative values.\n",
    "    \"\"\"\n",
    "    classes = np.unique(labels)\n",
    "    nbclasses = classes.size\n",
    "    if labels.size != predictions.size:\n",
    "        raise ValueError(\"There should be the same number of \" +\n",
    "                         \"predictions and labels.\")\n",
    "    merged = np.concatenate((predictions.reshape(predictions.size, 1),\n",
    "                             labels.reshape(labels.size, 1)), axis=1)\n",
    "    CM = np.zeros((classes[-1] + 1, classes[-1] + 1))\n",
    "    for c1 in classes:\n",
    "        for c2 in classes:\n",
    "            CM[c1, c2] = np.sum(np.logical_and(merged[:, 1] == c1,\n",
    "                                               merged[:, 0] == c2))\n",
    "    return CM\n",
    "\n",
    "\n",
    "def cartesian(arrays, out=None):\n",
    "    \"\"\"Utility function to create cartesian image coordinates.\"\"\"\n",
    "    arrays = [np.asarray(x) for x in arrays]\n",
    "    dtype = arrays[0].dtype\n",
    "    n = np.prod([x.size for x in arrays])\n",
    "    if out is None:\n",
    "        out = np.zeros([n, len(arrays)], dtype=dtype)\n",
    "    m = int(n / arrays[0].size)\n",
    "    out[:, 0] = np.repeat(arrays[0], m)\n",
    "    if arrays[1:]:\n",
    "        cartesian(arrays[1:], out=out[0:m, 1:])\n",
    "        for j in range(1, arrays[0].size):\n",
    "            out[j*m:(j+1)*m, 1:] = out[0:m, 1:]\n",
    "    return out\n",
    "\n",
    "\n",
    "# plot reference map\n",
    "norm_ccolors = np.array(ccolors)/255.0\n",
    "fig = plt.figure(figsize=(15, 10))\n",
    "ax = fig.add_subplot(1, 1, 1)\n",
    "cmap = colors.ListedColormap(norm_ccolors)\n",
    "bounds=[0,1,2]\n",
    "norm = colors.BoundaryNorm(bounds, cmap.N)\n",
    "labels = Ytest[:, :, 0].copy()\n",
    "labels[labels!=2] = 0\n",
    "labels[labels==2] = 1\n",
    "ax.imshow(labels, cmap=cmap, norm=norm, interpolation=\"nearest\", origin=\"upper\")\n",
    "ax.set_title(\"Reference map\")\n",
    "rectangles = [mpatches.Rectangle((0, 0), 1, 1, color=norm_ccolors[r]) for r in range(norm_ccolors.shape[0])]\n",
    "classes = [\"Others\", \"Informal Settlements\"]\n",
    "#Create legend from custom artist/label lists\n",
    "ax.legend(rectangles, classes)\n",
    "plt.show()\n",
    "labels = labels.astype(\"uint8\")\n",
    "\n",
    "# evaluate Random Forest\n",
    "mapidx = cartesian([range(predictions_RF.shape[0]), range(predictions_RF.shape[1])])\n",
    "CM = get_confusion_matrix(predictions_RF, labels)\n",
    "OA = np.sum(np.diag(CM))/predictions_RF.size\n",
    "PA_others_RF = ((predictions_RF[labels==0]==labels[labels==0]).sum())/(labels[labels==0].size)\n",
    "PA_slums_RF = ((predictions_RF[labels==1]==labels[labels==1]).sum())/(labels[labels==1].size)\n",
    "mapfname = \"map_random_forests.tif\"\n",
    "print(\"Accuracy metrics of Random Forest results\")\n",
    "print(\"Overall Accuracy: %f\" % OA)\n",
    "print(\"PA of others: %f\" % PA_others_RF)\n",
    "print(\"PA of informal settlements: %f\" % PA_slums_RF)"
   ],
   "metadata": {
    "collapsed": false
   }
  },
  {
   "cell_type": "code",
   "execution_count": 13,
   "outputs": [],
   "source": [],
   "metadata": {
    "collapsed": false
   }
  },
  {
   "cell_type": "code",
   "execution_count": 70,
   "outputs": [],
   "source": [],
   "metadata": {
    "collapsed": false
   }
  }
 ],
 "metadata": {
  "kernelspec": {
   "display_name": "Python 3",
   "language": "python",
   "name": "python3"
  },
  "language_info": {
   "codemirror_mode": {
    "name": "ipython",
    "version": 2
   },
   "file_extension": ".py",
   "mimetype": "text/x-python",
   "name": "python",
   "nbconvert_exporter": "python",
   "pygments_lexer": "ipython2",
   "version": "2.7.6"
  }
 },
 "nbformat": 4,
 "nbformat_minor": 0
}
