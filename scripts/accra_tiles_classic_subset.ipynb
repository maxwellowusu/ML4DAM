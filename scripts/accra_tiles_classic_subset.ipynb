{
 "cells": [
  {
   "cell_type": "markdown",
   "source": [
    "# Mapping Deprived Area"
   ],
   "metadata": {
    "collapsed": false
   }
  },
  {
   "cell_type": "code",
   "execution_count": 1,
   "outputs": [],
   "source": [
    "# import libraries\n",
    "\n",
    "import sys\n",
    "import numpy as np\n",
    "import pandas as pd\n",
    "from osgeo import gdal\n",
    "import matplotlib.pyplot as plt\n",
    "from matplotlib.pyplot import figure\n",
    "import os\n",
    "\n",
    "import utils\n",
    "import util_preprocess"
   ],
   "metadata": {
    "collapsed": false
   }
  },
  {
   "cell_type": "markdown",
   "source": [
    "## Set working directory"
   ],
   "metadata": {
    "collapsed": false
   }
  },
  {
   "cell_type": "code",
   "execution_count": 6,
   "outputs": [],
   "source": [
    "# Get abosolute path of the current folder\n",
    "FPATH = '/media/owusu/Extreme SSD/IDEAMAPS/Training_Dataset/Accra'\n",
    "\n",
    "# Get abosolute output path of te current folder\n",
    "OUTPUT = '/media/owusu/Extreme SSD/IDEAMAPS/Training_Dataset/Accra/output'\n",
    "\n",
    "target = 'class'\n",
    "\n",
    "# Random seed\n",
    "random_seed = 42\n",
    "# Set random seed in numpy\n",
    "np.random.seed(random_seed)"
   ],
   "metadata": {
    "collapsed": false
   }
  },
  {
   "cell_type": "markdown",
   "source": [
    "## Load covariate features"
   ],
   "metadata": {
    "collapsed": false
   }
  },
  {
   "cell_type": "code",
   "execution_count": 7,
   "outputs": [
    {
     "name": "stdout",
     "output_type": "stream",
     "text": [
      "53\n",
      "562\n",
      "842\n"
     ]
    }
   ],
   "source": [
    "PATH= f'/media/owusu/Extreme SSD/IDEAMAPS/covariate_feature_53bands/acc_covariate_compilation_53bands.tif'\n",
    "img = utils.read_image(PATH)\n",
    "img_arr=img[0]\n",
    "img_gt=img[1]\n",
    "img_georef=img[2]\n",
    "\n",
    "# Process spfea features, get the width, height and number of bands\n",
    "n = img_arr.shape[0]\n",
    "print (n) # number of bands\n",
    "h = img_arr.shape[1]\n",
    "print (h) # height\n",
    "w = img_arr.shape[2]\n",
    "print (w) # width"
   ],
   "metadata": {
    "collapsed": false
   }
  },
  {
   "cell_type": "markdown",
   "source": [
    "## Convert covariate array to pandas dataframe"
   ],
   "metadata": {
    "collapsed": false
   }
  },
  {
   "cell_type": "code",
   "execution_count": 8,
   "outputs": [
    {
     "name": "stdout",
     "output_type": "stream",
     "text": [
      "(53, 562, 842)\n"
     ]
    },
    {
     "data": {
      "text/plain": "   fs_dist_fs_2020  fs_dist_school_2020  in_dist_rd_2016  \\\n0          -9999.0              -9999.0          -9999.0   \n1          -9999.0              -9999.0          -9999.0   \n2          -9999.0              -9999.0          -9999.0   \n3          -9999.0              -9999.0          -9999.0   \n4          -9999.0              -9999.0          -9999.0   \n\n   in_dist_rd_intersect_2016  in_dist_waterway_2016  in_night_light_2016  \\\n0                    -9999.0                -9999.0              -9999.0   \n1                    -9999.0                -9999.0              -9999.0   \n2                    -9999.0                -9999.0              -9999.0   \n3                    -9999.0                -9999.0              -9999.0   \n4                    -9999.0                -9999.0              -9999.0   \n\n   ph_base_water_2010  ph_bio_dvst_2015  ph_climate_risk_2020  \\\n0             -9999.0           -9999.0               -9999.0   \n1             -9999.0           -9999.0               -9999.0   \n2             -9999.0           -9999.0               -9999.0   \n3             -9999.0           -9999.0               -9999.0   \n4             -9999.0           -9999.0               -9999.0   \n\n   ph_dist_aq_veg_2015  ...  sh_ethno_den_2020  uu_bld_count_2020  \\\n0              -9999.0  ...            -9999.0            -9999.0   \n1              -9999.0  ...            -9999.0            -9999.0   \n2              -9999.0  ...            -9999.0            -9999.0   \n3              -9999.0  ...            -9999.0            -9999.0   \n4              -9999.0  ...            -9999.0            -9999.0   \n\n   uu_bld_den_2020  ho_impr_housing_2015  fs_dist_hf_2019  po_hrsl_2018  \\\n0          -9999.0               -9999.0    -3.402823e+38       -9999.0   \n1          -9999.0               -9999.0    -3.402823e+38       -9999.0   \n2          -9999.0               -9999.0    -3.402823e+38       -9999.0   \n3          -9999.0               -9999.0    -3.402823e+38       -9999.0   \n4          -9999.0               -9999.0    -3.402823e+38       -9999.0   \n\n   po_wp_2020  ph_dist_riv_network_2007  uu_urb_bldg_2018  \\\n0     -9999.0                     255.0           -9999.0   \n1     -9999.0                     255.0           -9999.0   \n2     -9999.0                     255.0           -9999.0   \n3     -9999.0                     255.0           -9999.0   \n4     -9999.0                     255.0           -9999.0   \n\n   ses_dist_gov_office_2022  \n0                  0.344877  \n1                  0.344203  \n2                  0.343529  \n3                  0.342857  \n4                  0.342185  \n\n[5 rows x 53 columns]",
      "text/html": "<div>\n<style scoped>\n    .dataframe tbody tr th:only-of-type {\n        vertical-align: middle;\n    }\n\n    .dataframe tbody tr th {\n        vertical-align: top;\n    }\n\n    .dataframe thead th {\n        text-align: right;\n    }\n</style>\n<table border=\"1\" class=\"dataframe\">\n  <thead>\n    <tr style=\"text-align: right;\">\n      <th></th>\n      <th>fs_dist_fs_2020</th>\n      <th>fs_dist_school_2020</th>\n      <th>in_dist_rd_2016</th>\n      <th>in_dist_rd_intersect_2016</th>\n      <th>in_dist_waterway_2016</th>\n      <th>in_night_light_2016</th>\n      <th>ph_base_water_2010</th>\n      <th>ph_bio_dvst_2015</th>\n      <th>ph_climate_risk_2020</th>\n      <th>ph_dist_aq_veg_2015</th>\n      <th>...</th>\n      <th>sh_ethno_den_2020</th>\n      <th>uu_bld_count_2020</th>\n      <th>uu_bld_den_2020</th>\n      <th>ho_impr_housing_2015</th>\n      <th>fs_dist_hf_2019</th>\n      <th>po_hrsl_2018</th>\n      <th>po_wp_2020</th>\n      <th>ph_dist_riv_network_2007</th>\n      <th>uu_urb_bldg_2018</th>\n      <th>ses_dist_gov_office_2022</th>\n    </tr>\n  </thead>\n  <tbody>\n    <tr>\n      <th>0</th>\n      <td>-9999.0</td>\n      <td>-9999.0</td>\n      <td>-9999.0</td>\n      <td>-9999.0</td>\n      <td>-9999.0</td>\n      <td>-9999.0</td>\n      <td>-9999.0</td>\n      <td>-9999.0</td>\n      <td>-9999.0</td>\n      <td>-9999.0</td>\n      <td>...</td>\n      <td>-9999.0</td>\n      <td>-9999.0</td>\n      <td>-9999.0</td>\n      <td>-9999.0</td>\n      <td>-3.402823e+38</td>\n      <td>-9999.0</td>\n      <td>-9999.0</td>\n      <td>255.0</td>\n      <td>-9999.0</td>\n      <td>0.344877</td>\n    </tr>\n    <tr>\n      <th>1</th>\n      <td>-9999.0</td>\n      <td>-9999.0</td>\n      <td>-9999.0</td>\n      <td>-9999.0</td>\n      <td>-9999.0</td>\n      <td>-9999.0</td>\n      <td>-9999.0</td>\n      <td>-9999.0</td>\n      <td>-9999.0</td>\n      <td>-9999.0</td>\n      <td>...</td>\n      <td>-9999.0</td>\n      <td>-9999.0</td>\n      <td>-9999.0</td>\n      <td>-9999.0</td>\n      <td>-3.402823e+38</td>\n      <td>-9999.0</td>\n      <td>-9999.0</td>\n      <td>255.0</td>\n      <td>-9999.0</td>\n      <td>0.344203</td>\n    </tr>\n    <tr>\n      <th>2</th>\n      <td>-9999.0</td>\n      <td>-9999.0</td>\n      <td>-9999.0</td>\n      <td>-9999.0</td>\n      <td>-9999.0</td>\n      <td>-9999.0</td>\n      <td>-9999.0</td>\n      <td>-9999.0</td>\n      <td>-9999.0</td>\n      <td>-9999.0</td>\n      <td>...</td>\n      <td>-9999.0</td>\n      <td>-9999.0</td>\n      <td>-9999.0</td>\n      <td>-9999.0</td>\n      <td>-3.402823e+38</td>\n      <td>-9999.0</td>\n      <td>-9999.0</td>\n      <td>255.0</td>\n      <td>-9999.0</td>\n      <td>0.343529</td>\n    </tr>\n    <tr>\n      <th>3</th>\n      <td>-9999.0</td>\n      <td>-9999.0</td>\n      <td>-9999.0</td>\n      <td>-9999.0</td>\n      <td>-9999.0</td>\n      <td>-9999.0</td>\n      <td>-9999.0</td>\n      <td>-9999.0</td>\n      <td>-9999.0</td>\n      <td>-9999.0</td>\n      <td>...</td>\n      <td>-9999.0</td>\n      <td>-9999.0</td>\n      <td>-9999.0</td>\n      <td>-9999.0</td>\n      <td>-3.402823e+38</td>\n      <td>-9999.0</td>\n      <td>-9999.0</td>\n      <td>255.0</td>\n      <td>-9999.0</td>\n      <td>0.342857</td>\n    </tr>\n    <tr>\n      <th>4</th>\n      <td>-9999.0</td>\n      <td>-9999.0</td>\n      <td>-9999.0</td>\n      <td>-9999.0</td>\n      <td>-9999.0</td>\n      <td>-9999.0</td>\n      <td>-9999.0</td>\n      <td>-9999.0</td>\n      <td>-9999.0</td>\n      <td>-9999.0</td>\n      <td>...</td>\n      <td>-9999.0</td>\n      <td>-9999.0</td>\n      <td>-9999.0</td>\n      <td>-9999.0</td>\n      <td>-3.402823e+38</td>\n      <td>-9999.0</td>\n      <td>-9999.0</td>\n      <td>255.0</td>\n      <td>-9999.0</td>\n      <td>0.342185</td>\n    </tr>\n  </tbody>\n</table>\n<p>5 rows × 53 columns</p>\n</div>"
     },
     "execution_count": 8,
     "metadata": {},
     "output_type": "execute_result"
    }
   ],
   "source": [
    "bandname = ['fs_dist_fs_2020', 'fs_dist_school_2020', 'in_dist_rd_2016', 'in_dist_rd_intersect_2016', 'in_dist_waterway_2016', 'in_night_light_2016',\n",
    "'ph_base_water_2010', 'ph_bio_dvst_2015', 'ph_climate_risk_2020', 'ph_dist_aq_veg_2015', 'ph_dist_art_surface_2015', 'ph_dist_bare_2015',\n",
    "'ph_dist_cultivated_2015', 'ph_dist_herb_2015', 'ph_dist_inland_water_2018', 'ph_dist_open_coast_2020', 'ph_dist_shrub_2015', 'ph_dist_sparse_veg_2015',\n",
    "'ph_dist_woody_tree_2015', 'ph_gdmhz_2005', 'ph_grd_water_2000', 'ph_hzd_index_2011', 'ph_land_c1_2019', 'ph_land_c2_2020', 'ph_max_tem_2019',\n",
    "'ph_ndvi_2019', 'ph_pm25_2016', 'ph_slope_2000', 'ses_an_visits_2016', 'ses_child_stunted_2016', 'ses_dpt3_2016', 'ses_hf_delivery_2016',\n",
    "'ses_impr_water_src_2016', 'ses_ITN_2016', 'ses_m_lit_2016', 'ses_measles_2016', 'ses_odef_2016', 'ses_pfpr_2016', 'ses_preg_2016',\n",
    "'ses_unmet_need_2016', 'ses_w_lit_2016', 'sh_dist_mnr_pofw_2019', 'sh_dist_pofw_2019', 'sh_ethno_den_2020', 'uu_bld_count_2020',\n",
    "'uu_bld_den_2020', 'ho_impr_housing_2015', 'fs_dist_hf_2019', 'po_hrsl_2018', 'po_wp_2020', 'ph_dist_riv_network_2007', 'uu_urb_bldg_2018', 'ses_dist_gov_office_2022']\n",
    "\n",
    "\n",
    "# Make dataframe\n",
    "df_data=utils.make_data_frame(img_arr, bandname)\n",
    "df_data.head()"
   ],
   "metadata": {
    "collapsed": false
   }
  },
  {
   "cell_type": "markdown",
   "source": [
    "## Load training data"
   ],
   "metadata": {
    "collapsed": false
   }
  },
  {
   "cell_type": "code",
   "execution_count": 9,
   "outputs": [
    {
     "name": "stdout",
     "output_type": "stream",
     "text": [
      "(562, 842)\n"
     ]
    },
    {
     "data": {
      "text/plain": "array([[     0,   5085],\n       [     1,   1739],\n       [     3, 466380]])"
     },
     "execution_count": 9,
     "metadata": {},
     "output_type": "execute_result"
    }
   ],
   "source": [
    "# PATH = f'{FPATH}/Tiles_merge.tif'\n",
    "PATH = '/media/owusu/Extreme SSD/IDEAMAPS/Training_Dataset/Accra/New Folder/acc_150m_1000m_raster.tif'\n",
    "train_set = utils.read_image(PATH)\n",
    "train_array=train_set[0]\n",
    "train_array = train_array.astype(int)\n",
    "train_gt=train_set[1]\n",
    "train_georef=train_set[2]\n",
    "print (train_array.shape)\n",
    "\n",
    "# Check unique values\n",
    "(unique, counts) = np.unique(train_array, return_counts=True)\n",
    "frequencies = np.asarray((unique, counts)).T\n",
    "frequencies"
   ],
   "metadata": {
    "collapsed": false
   }
  },
  {
   "cell_type": "code",
   "execution_count": 10,
   "outputs": [
    {
     "data": {
      "text/plain": "[array([3, 1, 0])]"
     },
     "execution_count": 10,
     "metadata": {},
     "output_type": "execute_result"
    }
   ],
   "source": [
    "train_col_name = [\"class\"]\n",
    "tr_img_data = train_array.flatten()\n",
    "df_train = pd.DataFrame(tr_img_data, columns=train_col_name)\n",
    "df_train.head()\n",
    "[df_train['class'].unique()]"
   ],
   "metadata": {
    "collapsed": false
   }
  },
  {
   "cell_type": "markdown",
   "source": [
    "## Concatenate training and covariate features"
   ],
   "metadata": {
    "collapsed": false
   }
  },
  {
   "cell_type": "code",
   "execution_count": 11,
   "outputs": [
    {
     "name": "stdout",
     "output_type": "stream",
     "text": [
      "(473204, 54)\n"
     ]
    }
   ],
   "source": [
    "# concat trainset and data\n",
    "data_concat = pd.concat([df_train, df_data], axis=1)\n",
    "print (data_concat.shape)\n"
   ],
   "metadata": {
    "collapsed": false
   }
  },
  {
   "cell_type": "code",
   "execution_count": 12,
   "outputs": [
    {
     "data": {
      "text/plain": "[array([3, 1, 0])]"
     },
     "execution_count": 12,
     "metadata": {},
     "output_type": "execute_result"
    }
   ],
   "source": [
    "[data_concat['class'].unique()]"
   ],
   "metadata": {
    "collapsed": false
   }
  },
  {
   "cell_type": "code",
   "execution_count": 13,
   "outputs": [
    {
     "name": "stdout",
     "output_type": "stream",
     "text": [
      "(6824, 54)\n"
     ]
    },
    {
     "data": {
      "text/plain": "[array([1, 0])]"
     },
     "execution_count": 13,
     "metadata": {},
     "output_type": "execute_result"
    }
   ],
   "source": [
    "df_full = data_concat.loc[data_concat['class'] != 3]\n",
    "print(df_full.shape)\n",
    "df_full.head()\n",
    "[df_full['class'].unique()]"
   ],
   "metadata": {
    "collapsed": false
   }
  },
  {
   "cell_type": "markdown",
   "source": [
    "## Drop unwanted columns"
   ],
   "metadata": {
    "collapsed": false
   }
  },
  {
   "cell_type": "code",
   "execution_count": 14,
   "outputs": [],
   "source": [
    "# df_full = df_full.drop(columns=['ph_gdmhz_2005', 'ph_grd_water_2000', 'ph_hzd_index_2011', 'ph_base_water_2010', 'ses_pfpr_2016', 'ph_land_c1_2019', 'ph_land_c2_2020'])\n",
    "df_full = df_full[['class', 'po_wp_2020', 'po_hrsl_2018', 'uu_bld_den_2020', 'uu_bld_count_2020', 'ph_slope_2000', 'ph_pm25_2016', 'ph_ndvi_2019', 'ph_bio_dvst_2015', 'ph_max_tem_2019', 'in_night_light_2016']]"
   ],
   "metadata": {
    "collapsed": false
   }
  },
  {
   "cell_type": "markdown",
   "source": [
    "## Split into train, validation and test"
   ],
   "metadata": {
    "collapsed": false
   }
  },
  {
   "cell_type": "code",
   "execution_count": 15,
   "outputs": [
    {
     "name": "stdout",
     "output_type": "stream",
     "text": [
      "df_train (4045, 11)\n",
      "df_val (1209, 11)\n",
      "df_test (1570, 11)\n"
     ]
    }
   ],
   "source": [
    "from sklearn.model_selection import train_test_split\n",
    "\n",
    "# Divide the training data into training (80%) and testing (20%)\n",
    "df_train, df_test = train_test_split(df_full, train_size=0.77, random_state=random_seed)\n",
    "# Reset the index\n",
    "df_train, df_test = df_train.reset_index(drop=True), df_test.reset_index(drop=True)\n",
    "\n",
    "# Divide the training data into training (80%) and validation (20%)\n",
    "df_train, df_val = train_test_split(df_train, train_size=0.77, random_state=random_seed)\n",
    "# Reset the index\n",
    "df_train, df_val = df_train.reset_index(drop=True), df_val.reset_index(drop=True)\n",
    "\n",
    "print('df_train', df_train.shape)\n",
    "print('df_val', df_val.shape)\n",
    "print('df_test', df_test.shape)"
   ],
   "metadata": {
    "collapsed": false
   }
  },
  {
   "cell_type": "markdown",
   "source": [
    "## Handling missing data"
   ],
   "metadata": {
    "collapsed": false
   }
  },
  {
   "cell_type": "code",
   "execution_count": 16,
   "outputs": [
    {
     "data": {
      "text/plain": "                 var  proportion    dtype\n0       po_hrsl_2018    0.150791  float64\n1      ph_slope_2000    0.101407  float64\n2         po_wp_2020    0.061401  float64\n3    uu_bld_den_2020    0.061254  float64\n4  uu_bld_count_2020    0.061254  float64",
      "text/html": "<div>\n<style scoped>\n    .dataframe tbody tr th:only-of-type {\n        vertical-align: middle;\n    }\n\n    .dataframe tbody tr th {\n        vertical-align: top;\n    }\n\n    .dataframe thead th {\n        text-align: right;\n    }\n</style>\n<table border=\"1\" class=\"dataframe\">\n  <thead>\n    <tr style=\"text-align: right;\">\n      <th></th>\n      <th>var</th>\n      <th>proportion</th>\n      <th>dtype</th>\n    </tr>\n  </thead>\n  <tbody>\n    <tr>\n      <th>0</th>\n      <td>po_hrsl_2018</td>\n      <td>0.150791</td>\n      <td>float64</td>\n    </tr>\n    <tr>\n      <th>1</th>\n      <td>ph_slope_2000</td>\n      <td>0.101407</td>\n      <td>float64</td>\n    </tr>\n    <tr>\n      <th>2</th>\n      <td>po_wp_2020</td>\n      <td>0.061401</td>\n      <td>float64</td>\n    </tr>\n    <tr>\n      <th>3</th>\n      <td>uu_bld_den_2020</td>\n      <td>0.061254</td>\n      <td>float64</td>\n    </tr>\n    <tr>\n      <th>4</th>\n      <td>uu_bld_count_2020</td>\n      <td>0.061254</td>\n      <td>float64</td>\n    </tr>\n  </tbody>\n</table>\n</div>"
     },
     "execution_count": 16,
     "metadata": {},
     "output_type": "execute_result"
    }
   ],
   "source": [
    "# Handling missing data\n",
    "# Combine df_train, df_val and df_test\n",
    "df = pd.concat([df_train, df_val, df_test], sort=False)\n",
    "\n",
    "# Call nan_checker on df\n",
    "df_nan = util_preprocess.nan_checker(df)\n",
    "\n",
    "# Print df_nan\n",
    "df_nan\n",
    "\n",
    "# Print the unique data type of variables with NaN\n",
    "pd.DataFrame(df_nan['dtype'].unique(), columns=['dtype'])\n",
    "\n",
    "# Get the variables with missing values, their proportion of missing values and data type\n",
    "df_miss = df_nan[df_nan['dtype'] == 'float64'].reset_index(drop=True)\n",
    "\n",
    "# Print df_miss\n",
    "df_miss"
   ],
   "metadata": {
    "collapsed": false
   }
  },
  {
   "cell_type": "code",
   "execution_count": 16,
   "outputs": [],
   "source": [],
   "metadata": {
    "collapsed": false
   }
  },
  {
   "cell_type": "code",
   "execution_count": 17,
   "outputs": [],
   "source": [
    "# Imputing missing values\n",
    "from sklearn.impute import SimpleImputer\n",
    "\n",
    "# If there are missing values\n",
    "if len(df_miss['var']) > 0:\n",
    "    # The SimpleImputer\n",
    "    si = SimpleImputer(missing_values=np.nan, strategy='mean')\n",
    "\n",
    "    # Impute the variables with missing values in df_train, df_val and df_test\n",
    "    df_train[df_miss['var']] = si.fit_transform(df_train[df_miss['var']])\n",
    "    df_val[df_miss['var']] = si.transform(df_val[df_miss['var']])\n",
    "    df_test[df_miss['var']] = si.transform(df_test[df_miss['var']])"
   ],
   "metadata": {
    "collapsed": false
   }
  },
  {
   "cell_type": "markdown",
   "source": [
    "## Encoding data"
   ],
   "metadata": {
    "collapsed": false
   }
  },
  {
   "cell_type": "code",
   "execution_count": 18,
   "outputs": [
    {
     "data": {
      "text/plain": "Empty DataFrame\nColumns: [var, nunique]\nIndex: []",
      "text/html": "<div>\n<style scoped>\n    .dataframe tbody tr th:only-of-type {\n        vertical-align: middle;\n    }\n\n    .dataframe tbody tr th {\n        vertical-align: top;\n    }\n\n    .dataframe thead th {\n        text-align: right;\n    }\n</style>\n<table border=\"1\" class=\"dataframe\">\n  <thead>\n    <tr style=\"text-align: right;\">\n      <th></th>\n      <th>var</th>\n      <th>nunique</th>\n    </tr>\n  </thead>\n  <tbody>\n  </tbody>\n</table>\n</div>"
     },
     "execution_count": 18,
     "metadata": {},
     "output_type": "execute_result"
    }
   ],
   "source": [
    "# Combine df_train, df_val and df_test\n",
    "df = pd.concat([df_train, df_val, df_test], sort=False)\n",
    "\n",
    "# Print the unique data type of variables in df\n",
    "pd.DataFrame(df.dtypes.unique(), columns=['dtype'])\n",
    "\n",
    "# Call cat_var_checker on df\n",
    "# See the implementation in pmlm_utilities.ipynb\n",
    "df_cat = util_preprocess.cat_var_checker(df)\n",
    "\n",
    "# Print the dataframe\n",
    "df_cat"
   ],
   "metadata": {
    "collapsed": false
   }
  },
  {
   "cell_type": "code",
   "execution_count": 19,
   "outputs": [
    {
     "data": {
      "text/plain": "   class  po_wp_2020  po_hrsl_2018  uu_bld_den_2020  uu_bld_count_2020  \\\n0      0  126.389076    123.367966      1175.391724               10.0   \n1      1  158.944595    128.190315      7874.813965               67.0   \n2      0  140.574585    123.367966      1292.932617               11.0   \n3      0  180.606354    123.367966      2350.657471               20.0   \n4      1   57.879581     10.144100      6229.076660               53.0   \n\n   ph_slope_2000  ph_pm25_2016  ph_ndvi_2019  ph_bio_dvst_2015  \\\n0        2.00000     19.587614      0.298321          0.262951   \n1        1.00000     19.570431      0.130161          0.262951   \n2        2.00000     19.532793      0.427922          0.262951   \n3      -22.94513     20.684578      0.341253          0.262951   \n4        2.00000     16.512249      0.276962          0.260973   \n\n   ph_max_tem_2019  in_night_light_2016  \n0        33.734529            27.198030  \n1        33.721405            25.595955  \n2        33.736202            27.198030  \n3        33.722603            18.679823  \n4        33.539795             6.012518  ",
      "text/html": "<div>\n<style scoped>\n    .dataframe tbody tr th:only-of-type {\n        vertical-align: middle;\n    }\n\n    .dataframe tbody tr th {\n        vertical-align: top;\n    }\n\n    .dataframe thead th {\n        text-align: right;\n    }\n</style>\n<table border=\"1\" class=\"dataframe\">\n  <thead>\n    <tr style=\"text-align: right;\">\n      <th></th>\n      <th>class</th>\n      <th>po_wp_2020</th>\n      <th>po_hrsl_2018</th>\n      <th>uu_bld_den_2020</th>\n      <th>uu_bld_count_2020</th>\n      <th>ph_slope_2000</th>\n      <th>ph_pm25_2016</th>\n      <th>ph_ndvi_2019</th>\n      <th>ph_bio_dvst_2015</th>\n      <th>ph_max_tem_2019</th>\n      <th>in_night_light_2016</th>\n    </tr>\n  </thead>\n  <tbody>\n    <tr>\n      <th>0</th>\n      <td>0</td>\n      <td>126.389076</td>\n      <td>123.367966</td>\n      <td>1175.391724</td>\n      <td>10.0</td>\n      <td>2.00000</td>\n      <td>19.587614</td>\n      <td>0.298321</td>\n      <td>0.262951</td>\n      <td>33.734529</td>\n      <td>27.198030</td>\n    </tr>\n    <tr>\n      <th>1</th>\n      <td>1</td>\n      <td>158.944595</td>\n      <td>128.190315</td>\n      <td>7874.813965</td>\n      <td>67.0</td>\n      <td>1.00000</td>\n      <td>19.570431</td>\n      <td>0.130161</td>\n      <td>0.262951</td>\n      <td>33.721405</td>\n      <td>25.595955</td>\n    </tr>\n    <tr>\n      <th>2</th>\n      <td>0</td>\n      <td>140.574585</td>\n      <td>123.367966</td>\n      <td>1292.932617</td>\n      <td>11.0</td>\n      <td>2.00000</td>\n      <td>19.532793</td>\n      <td>0.427922</td>\n      <td>0.262951</td>\n      <td>33.736202</td>\n      <td>27.198030</td>\n    </tr>\n    <tr>\n      <th>3</th>\n      <td>0</td>\n      <td>180.606354</td>\n      <td>123.367966</td>\n      <td>2350.657471</td>\n      <td>20.0</td>\n      <td>-22.94513</td>\n      <td>20.684578</td>\n      <td>0.341253</td>\n      <td>0.262951</td>\n      <td>33.722603</td>\n      <td>18.679823</td>\n    </tr>\n    <tr>\n      <th>4</th>\n      <td>1</td>\n      <td>57.879581</td>\n      <td>10.144100</td>\n      <td>6229.076660</td>\n      <td>53.0</td>\n      <td>2.00000</td>\n      <td>16.512249</td>\n      <td>0.276962</td>\n      <td>0.260973</td>\n      <td>33.539795</td>\n      <td>6.012518</td>\n    </tr>\n  </tbody>\n</table>\n</div>"
     },
     "execution_count": 19,
     "metadata": {},
     "output_type": "execute_result"
    }
   ],
   "source": [
    "df.head()"
   ],
   "metadata": {
    "collapsed": false
   }
  },
  {
   "cell_type": "code",
   "execution_count": 20,
   "outputs": [],
   "source": [
    "# Separating the training, validation and test data\n",
    "# Separating the training data\n",
    "df_train = df.iloc[:df_train.shape[0], :]\n",
    "\n",
    "# Separating the validation data\n",
    "df_val = df.iloc[df_train.shape[0]:df_train.shape[0] + df_val.shape[0], :]\n",
    "\n",
    "# Separating the test data\n",
    "df_test = df.iloc[df_train.shape[0] + df_val.shape[0]:, :]"
   ],
   "metadata": {
    "collapsed": false
   }
  },
  {
   "cell_type": "code",
   "execution_count": 21,
   "outputs": [],
   "source": [
    "# Get the feature matrix\n",
    "X_train = df_train[np.setdiff1d(df_train.columns, [target])].values\n",
    "X_val = df_val[np.setdiff1d(df_val.columns, [target])].values\n",
    "X_test = df_test[np.setdiff1d(df_test.columns, [target])].values\n",
    "\n",
    "# Get the target vector\n",
    "y_train = df_train[target].values\n",
    "y_val = df_val[target].values\n",
    "y_test = df_test[target].values"
   ],
   "metadata": {
    "collapsed": false
   }
  },
  {
   "cell_type": "code",
   "execution_count": 22,
   "outputs": [],
   "source": [
    "# The StandardScaler\n",
    "from sklearn.preprocessing import StandardScaler\n",
    "ss = StandardScaler()\n",
    "\n",
    "# Standardize the training data\n",
    "X_train = ss.fit_transform(X_train)\n",
    "\n",
    "# Standardize the validation data\n",
    "X_val = ss.transform(X_val)\n",
    "\n",
    "# Standardize the test data\n",
    "X_test = ss.transform(X_test)"
   ],
   "metadata": {
    "collapsed": false
   }
  },
  {
   "cell_type": "markdown",
   "source": [
    "## CatBoost"
   ],
   "metadata": {
    "collapsed": false
   }
  },
  {
   "cell_type": "code",
   "execution_count": 23,
   "outputs": [
    {
     "data": {
      "text/plain": "MetricVisualizer(layout=Layout(align_self='stretch', height='500px'))",
      "application/vnd.jupyter.widget-view+json": {
       "version_major": 2,
       "version_minor": 0,
       "model_id": "3e0bb8051eaf4e1e834b43175a67eebf"
      }
     },
     "metadata": {},
     "output_type": "display_data"
    },
    {
     "name": "stdout",
     "output_type": "stream",
     "text": [
      "Learning rate set to 0.044753\n",
      "0:\tlearn: 0.8177524\ttest: 0.8038147\tbest: 0.8038147 (0)\ttotal: 51ms\tremaining: 51s\n",
      "100:\tlearn: 0.8893892\ttest: 0.8833011\tbest: 0.8833011 (100)\ttotal: 243ms\tremaining: 2.16s\n",
      "200:\tlearn: 0.9185784\ttest: 0.8898169\tbest: 0.8921694 (189)\ttotal: 390ms\tremaining: 1.55s\n",
      "300:\tlearn: 0.9424182\ttest: 0.8937824\tbest: 0.8973947 (229)\ttotal: 559ms\tremaining: 1.3s\n",
      "400:\tlearn: 0.9592803\ttest: 0.9008130\tbest: 0.9008130 (400)\ttotal: 761ms\tremaining: 1.14s\n",
      "500:\tlearn: 0.9744802\ttest: 0.9008130\tbest: 0.9031839 (430)\ttotal: 926ms\tremaining: 922ms\n",
      "600:\tlearn: 0.9806708\ttest: 0.9019608\tbest: 0.9049330 (591)\ttotal: 1.09s\tremaining: 723ms\n",
      "700:\tlearn: 0.9861164\ttest: 0.9000989\tbest: 0.9049330 (591)\ttotal: 1.24s\tremaining: 527ms\n",
      "800:\tlearn: 0.9921125\ttest: 0.9006928\tbest: 0.9049330 (591)\ttotal: 1.39s\tremaining: 346ms\n",
      "900:\tlearn: 0.9944804\ttest: 0.9012876\tbest: 0.9049330 (591)\ttotal: 1.54s\tremaining: 169ms\n",
      "999:\tlearn: 0.9961868\ttest: 0.9043078\tbest: 0.9061064 (948)\ttotal: 1.69s\tremaining: 0us\n",
      "\n",
      "bestTest = 0.906106369\n",
      "bestIteration = 948\n",
      "\n",
      "Shrink model to first 949 iterations.\n"
     ]
    }
   ],
   "source": [
    "import catboost\n",
    "from catboost import CatBoostClassifier, Pool\n",
    "\n",
    "params = {'loss_function':'Logloss', # objective function\n",
    "          'eval_metric':'F1', # metric\n",
    "          'early_stopping_rounds': 2000, # early stopping\n",
    "          'verbose': 100, # output to stdout info about training process every 200 iterations\n",
    "          'random_seed': random_seed,\n",
    "         }\n",
    "# model = CatBoostClassifier(**params, class_weights=[0.2, 0.8])\n",
    "model = CatBoostClassifier(**params, scale_pos_weight=2.5)\n",
    "\n",
    "model.fit(X_train, y_train, # data to train on (required parameters, unless we provide X as a pool object, will be shown below)\n",
    "          eval_set=(X_val, y_val), # data to validate on\n",
    "          use_best_model=True, # True if we don't want to save trees created after iteration with the best validation score\n",
    "          plot=True, # True for visualization of the training process (it is not shown in a published kernel - try executing this code)\n",
    "\n",
    "         );"
   ],
   "metadata": {
    "collapsed": false
   }
  },
  {
   "cell_type": "markdown",
   "source": [
    "### Model evaluation"
   ],
   "metadata": {
    "collapsed": false
   }
  },
  {
   "cell_type": "code",
   "execution_count": 24,
   "outputs": [
    {
     "name": "stdout",
     "output_type": "stream",
     "text": [
      "F1: [0.8557213930348259]\n",
      "Recall: [0.8911917098445595]\n",
      "Precision: [0.8229665071770335]\n"
     ]
    }
   ],
   "source": [
    "from catboost.utils import eval_metric\n",
    "# import CatBoost\n",
    "\n",
    "predictions = model.predict(X_test)\n",
    "\n",
    "F1 = eval_metric(y_test, predictions, 'F1')\n",
    "Precision = eval_metric(y_test, predictions, 'Precision')\n",
    "Recall = eval_metric(y_test, predictions, 'Recall')\n",
    "print(\"F1:\", F1)\n",
    "print(\"Recall:\", Recall)\n",
    "print(\"Precision:\", Precision)"
   ],
   "metadata": {
    "collapsed": false
   }
  },
  {
   "cell_type": "markdown",
   "source": [
    "## XGBoost"
   ],
   "metadata": {
    "collapsed": false
   }
  },
  {
   "cell_type": "code",
   "execution_count": 46,
   "outputs": [
    {
     "name": "stdout",
     "output_type": "stream",
     "text": [
      "[09:38:22] WARNING: ../src/learner.cc:767: \n",
      "Parameters: { \"loss_function\", \"random_seed\", \"verbose\" } are not used.\n",
      "\n",
      "[0]\tvalidation_0-error:0.12903\n",
      "[1]\tvalidation_0-error:0.13151\n",
      "[2]\tvalidation_0-error:0.12821\n",
      "[3]\tvalidation_0-error:0.12655\n",
      "[4]\tvalidation_0-error:0.12159\n",
      "[5]\tvalidation_0-error:0.12076\n",
      "[6]\tvalidation_0-error:0.11580\n",
      "[7]\tvalidation_0-error:0.10587\n",
      "[8]\tvalidation_0-error:0.10174\n",
      "[9]\tvalidation_0-error:0.10174\n",
      "[10]\tvalidation_0-error:0.09512\n",
      "[11]\tvalidation_0-error:0.09595\n",
      "[12]\tvalidation_0-error:0.09843\n",
      "[13]\tvalidation_0-error:0.09760\n",
      "[14]\tvalidation_0-error:0.09264\n",
      "[15]\tvalidation_0-error:0.09347\n",
      "[16]\tvalidation_0-error:0.09677\n",
      "[17]\tvalidation_0-error:0.09016\n",
      "[18]\tvalidation_0-error:0.09264\n",
      "[19]\tvalidation_0-error:0.09098\n",
      "[20]\tvalidation_0-error:0.08768\n",
      "[21]\tvalidation_0-error:0.09181\n",
      "[22]\tvalidation_0-error:0.09016\n",
      "[23]\tvalidation_0-error:0.09016\n",
      "[24]\tvalidation_0-error:0.09016\n",
      "[25]\tvalidation_0-error:0.08602\n",
      "[26]\tvalidation_0-error:0.08768\n",
      "[27]\tvalidation_0-error:0.08602\n",
      "[28]\tvalidation_0-error:0.08850\n",
      "[29]\tvalidation_0-error:0.08768\n",
      "[30]\tvalidation_0-error:0.08602\n",
      "[31]\tvalidation_0-error:0.09264\n",
      "[32]\tvalidation_0-error:0.08850\n",
      "[33]\tvalidation_0-error:0.09016\n",
      "[34]\tvalidation_0-error:0.09098\n",
      "[35]\tvalidation_0-error:0.08850\n",
      "[36]\tvalidation_0-error:0.08933\n",
      "[37]\tvalidation_0-error:0.08933\n",
      "[38]\tvalidation_0-error:0.08850\n",
      "[39]\tvalidation_0-error:0.08768\n",
      "[40]\tvalidation_0-error:0.08685\n",
      "[41]\tvalidation_0-error:0.08602\n",
      "[42]\tvalidation_0-error:0.08519\n",
      "[43]\tvalidation_0-error:0.08519\n",
      "[44]\tvalidation_0-error:0.08437\n",
      "[45]\tvalidation_0-error:0.08519\n",
      "[46]\tvalidation_0-error:0.08519\n",
      "[47]\tvalidation_0-error:0.08685\n",
      "[48]\tvalidation_0-error:0.08685\n",
      "[49]\tvalidation_0-error:0.08768\n",
      "[50]\tvalidation_0-error:0.08850\n",
      "[51]\tvalidation_0-error:0.08850\n",
      "[52]\tvalidation_0-error:0.08850\n",
      "[53]\tvalidation_0-error:0.08768\n",
      "[54]\tvalidation_0-error:0.08850\n",
      "[55]\tvalidation_0-error:0.08850\n",
      "[56]\tvalidation_0-error:0.08768\n",
      "[57]\tvalidation_0-error:0.08685\n",
      "[58]\tvalidation_0-error:0.08602\n",
      "[59]\tvalidation_0-error:0.08519\n",
      "[60]\tvalidation_0-error:0.08602\n",
      "[61]\tvalidation_0-error:0.08602\n",
      "[62]\tvalidation_0-error:0.08850\n",
      "[63]\tvalidation_0-error:0.08685\n",
      "[64]\tvalidation_0-error:0.08685\n",
      "[65]\tvalidation_0-error:0.08685\n",
      "[66]\tvalidation_0-error:0.08768\n",
      "[67]\tvalidation_0-error:0.08685\n",
      "[68]\tvalidation_0-error:0.08850\n",
      "[69]\tvalidation_0-error:0.08768\n",
      "[70]\tvalidation_0-error:0.08850\n",
      "[71]\tvalidation_0-error:0.08850\n",
      "[72]\tvalidation_0-error:0.08768\n",
      "[73]\tvalidation_0-error:0.08768\n",
      "[74]\tvalidation_0-error:0.08602\n",
      "[75]\tvalidation_0-error:0.08685\n",
      "[76]\tvalidation_0-error:0.08768\n",
      "[77]\tvalidation_0-error:0.08850\n",
      "[78]\tvalidation_0-error:0.08850\n",
      "[79]\tvalidation_0-error:0.08850\n",
      "[80]\tvalidation_0-error:0.08768\n",
      "[81]\tvalidation_0-error:0.08768\n",
      "[82]\tvalidation_0-error:0.08850\n",
      "[83]\tvalidation_0-error:0.08602\n",
      "[84]\tvalidation_0-error:0.08602\n",
      "[85]\tvalidation_0-error:0.08437\n",
      "[86]\tvalidation_0-error:0.08437\n",
      "[87]\tvalidation_0-error:0.08519\n",
      "[88]\tvalidation_0-error:0.08602\n",
      "[89]\tvalidation_0-error:0.08354\n",
      "[90]\tvalidation_0-error:0.08437\n",
      "[91]\tvalidation_0-error:0.08519\n",
      "[92]\tvalidation_0-error:0.08602\n",
      "[93]\tvalidation_0-error:0.08519\n",
      "[94]\tvalidation_0-error:0.08519\n",
      "[95]\tvalidation_0-error:0.08685\n",
      "[96]\tvalidation_0-error:0.08768\n",
      "[97]\tvalidation_0-error:0.08519\n",
      "[98]\tvalidation_0-error:0.08519\n",
      "[99]\tvalidation_0-error:0.08602\n"
     ]
    }
   ],
   "source": [
    "from xgboost import XGBClassifier\n",
    "\n",
    "# params = {\n",
    "#     'max_depth':7,\n",
    "#     'learning_rate':0.1,\n",
    "#     'early_stopping_rounds': 5\n",
    "#     'num_estimators':1000,\n",
    "#     'num_boost_round':1000\n",
    "# }\n",
    "\n",
    "params = {'loss_function':'Logloss', # objective function\n",
    "         # 'num_estimators':1000,\n",
    "          # 'learning_rate':0.001,\n",
    "          'eval_metric':'error',\n",
    "          # 'num_boost_round':1000,\n",
    "          'early_stopping_rounds': 200, # early stopping\n",
    "          'verbose': 200, # output to stdout info about training process every 200 iterations\n",
    "          'random_seed': random_seed,\n",
    "         }\n",
    "\n",
    "model = XGBClassifier( **params, scale_pos_weight=2)\n",
    "model.fit(X_train, y_train,\n",
    "             eval_set=[(X_val, y_val)], verbose=True);"
   ],
   "metadata": {
    "collapsed": false
   }
  },
  {
   "cell_type": "code",
   "execution_count": 47,
   "outputs": [
    {
     "name": "stdout",
     "output_type": "stream",
     "text": [
      "F1: [0.8564167725540025]\n",
      "Recall: [0.8730569948186528]\n",
      "Precision: [0.8403990024937655]\n"
     ]
    }
   ],
   "source": [
    "from catboost.utils import eval_metric\n",
    "# import CatBoost\n",
    "\n",
    "predictions = model.predict(X_test)\n",
    "\n",
    "F1 = eval_metric(y_test, predictions, 'F1')\n",
    "Precision = eval_metric(y_test, predictions, 'Precision')\n",
    "Recall = eval_metric(y_test, predictions, 'Recall')\n",
    "print(\"F1:\", F1)\n",
    "print(\"Recall:\", Recall)\n",
    "print(\"Precision:\", Precision)"
   ],
   "metadata": {
    "collapsed": false
   }
  },
  {
   "cell_type": "code",
   "execution_count": 159,
   "outputs": [],
   "source": [
    "# from sklearn.metrics import classification_report\n",
    "# print(classification_report(y_test, predictions))"
   ],
   "metadata": {
    "collapsed": false
   }
  },
  {
   "cell_type": "code",
   "execution_count": 160,
   "outputs": [],
   "source": [
    "from catboost.utils import get_confusion_matrix\n",
    "\n",
    "test_data = Pool(data=X_test,\n",
    "                  label=y_test,\n",
    "                  )\n",
    "# Set column names\n",
    "# col_names = [ 'fs_dist_fs_2020', 'fs_dist_school_2020', 'in_dist_rd_2016',\n",
    "#        'in_dist_rd_intersect_2016', 'in_dist_waterway_2016',\n",
    "#        'in_night_light_2016', 'ph_bio_dvst_2015', 'ph_climate_risk_2020',\n",
    "#        'ph_dist_aq_veg_2015', 'ph_dist_art_surface_2015', 'ph_dist_bare_2015',\n",
    "#        'ph_dist_cultivated_2015', 'ph_dist_herb_2015',\n",
    "#        'ph_dist_inland_water_2018', 'ph_dist_open_coast_2020',\n",
    "#        'ph_dist_shrub_2015', 'ph_dist_sparse_veg_2015',\n",
    "#        'ph_dist_woody_tree_2015',\n",
    "#        'ph_max_tem_2019', 'ph_ndvi_2019', 'ph_pm25_2016', 'ph_slope_2000',\n",
    "#        'ses_an_visits_2016', 'ses_child_stunted_2016', 'ses_dpt3_2016',\n",
    "#        'ses_hf_delivery_2016', 'ses_impr_water_src_2016', 'ses_ITN_2016',\n",
    "#        'ses_m_lit_2016', 'ses_measles_2016', 'ses_odef_2016', 'ses_preg_2016',\n",
    "#        'ses_unmet_need_2016', 'ses_w_lit_2016', 'sh_dist_mnr_pofw_2019',\n",
    "#        'sh_dist_pofw_2019', 'sh_ethno_den_2020', 'uu_bld_count_2020',\n",
    "#        'uu_bld_den_2020', 'ho_impr_housing_2015', 'fs_dist_hf_2019',\n",
    "#        'po_hrsl_2018', 'po_wp_2020', 'ph_dist_riv_network_2007',\n",
    "#        'uu_urb_bldg_2018', 'ses_dist_gov_office_2022']\n",
    "\n",
    "col_names = ['uu_urb_bldg_2018', 'po_wp_2020', 'po_hrsl_2018', 'uu_bld_den_2020', 'uu_bld_count_2020', 'ph_slope_2000', 'ph_pm25_2016', 'ph_ndvi_2019', 'ph_climate_risk_2020', 'ph_bio_dvst_2015', 'ph_max_tem_2019', 'in_night_light_2016']\n",
    "# test_data.set_feature_names(col_names)\n",
    "\n",
    "# confusion = get_confusion_matrix(model, test_data, thread_count=-1)\n",
    "# confusion"
   ],
   "metadata": {
    "collapsed": false
   }
  },
  {
   "cell_type": "markdown",
   "source": [
    "### Feature of importance"
   ],
   "metadata": {
    "collapsed": false
   }
  },
  {
   "cell_type": "code",
   "execution_count": 161,
   "outputs": [
    {
     "ename": "AttributeError",
     "evalue": "'XGBClassifier' object has no attribute 'get_feature_importance'",
     "output_type": "error",
     "traceback": [
      "\u001B[0;31m---------------------------------------------------------------------------\u001B[0m",
      "\u001B[0;31mAttributeError\u001B[0m                            Traceback (most recent call last)",
      "Cell \u001B[0;32mIn [161], line 1\u001B[0m\n\u001B[0;32m----> 1\u001B[0m data \u001B[38;5;241m=\u001B[39m pd\u001B[38;5;241m.\u001B[39mDataFrame({\u001B[38;5;124m'\u001B[39m\u001B[38;5;124mfeature_importance\u001B[39m\u001B[38;5;124m'\u001B[39m: \u001B[43mmodel\u001B[49m\u001B[38;5;241;43m.\u001B[39;49m\u001B[43mget_feature_importance\u001B[49m(test_data),\n\u001B[1;32m      2\u001B[0m               \u001B[38;5;124m'\u001B[39m\u001B[38;5;124mfeature_names\u001B[39m\u001B[38;5;124m'\u001B[39m: col_names})\u001B[38;5;241m.\u001B[39msort_values(by\u001B[38;5;241m=\u001B[39m[\u001B[38;5;124m'\u001B[39m\u001B[38;5;124mfeature_importance\u001B[39m\u001B[38;5;124m'\u001B[39m],\n\u001B[1;32m      3\u001B[0m                                                      ascending\u001B[38;5;241m=\u001B[39m\u001B[38;5;28;01mFalse\u001B[39;00m)\n\u001B[1;32m      4\u001B[0m data\u001B[38;5;241m.\u001B[39mhead(\u001B[38;5;241m15\u001B[39m)\n",
      "\u001B[0;31mAttributeError\u001B[0m: 'XGBClassifier' object has no attribute 'get_feature_importance'"
     ]
    }
   ],
   "source": [
    "data = pd.DataFrame({'feature_importance': model.get_feature_importance(test_data),\n",
    "              'feature_names': col_names}).sort_values(by=['feature_importance'],\n",
    "                                                     ascending=False)\n",
    "data.head(15)"
   ],
   "metadata": {
    "collapsed": false
   }
  },
  {
   "cell_type": "markdown",
   "source": [
    "## Inference"
   ],
   "metadata": {
    "collapsed": false
   }
  },
  {
   "cell_type": "code",
   "execution_count": 48,
   "outputs": [
    {
     "name": "stdout",
     "output_type": "stream",
     "text": [
      "(473204, 11)\n"
     ]
    },
    {
     "name": "stderr",
     "output_type": "stream",
     "text": [
      "/tmp/ipykernel_7692/2239855496.py:1: SettingWithCopyWarning: \n",
      "A value is trying to be set on a copy of a slice from a DataFrame.\n",
      "Try using .loc[row_indexer,col_indexer] = value instead\n",
      "\n",
      "See the caveats in the documentation: https://pandas.pydata.org/pandas-docs/stable/user_guide/indexing.html#returning-a-view-versus-a-copy\n",
      "  df_data['uid'] = np.arange(start=0,stop = len(df_data), dtype=int)\n"
     ]
    },
    {
     "data": {
      "text/plain": "   po_wp_2020  po_hrsl_2018  uu_bld_den_2020  uu_bld_count_2020  \\\n0     -9999.0       -9999.0          -9999.0            -9999.0   \n1     -9999.0       -9999.0          -9999.0            -9999.0   \n2     -9999.0       -9999.0          -9999.0            -9999.0   \n3     -9999.0       -9999.0          -9999.0            -9999.0   \n4     -9999.0       -9999.0          -9999.0            -9999.0   \n\n   ph_slope_2000  ph_pm25_2016  ph_ndvi_2019  ph_bio_dvst_2015  \\\n0        -9999.0       -9999.0       -9999.0           -9999.0   \n1        -9999.0       -9999.0       -9999.0           -9999.0   \n2        -9999.0       -9999.0       -9999.0           -9999.0   \n3        -9999.0       -9999.0       -9999.0           -9999.0   \n4        -9999.0       -9999.0       -9999.0           -9999.0   \n\n   ph_max_tem_2019  in_night_light_2016  uid  \n0          -9999.0              -9999.0    0  \n1          -9999.0              -9999.0    1  \n2          -9999.0              -9999.0    2  \n3          -9999.0              -9999.0    3  \n4          -9999.0              -9999.0    4  ",
      "text/html": "<div>\n<style scoped>\n    .dataframe tbody tr th:only-of-type {\n        vertical-align: middle;\n    }\n\n    .dataframe tbody tr th {\n        vertical-align: top;\n    }\n\n    .dataframe thead th {\n        text-align: right;\n    }\n</style>\n<table border=\"1\" class=\"dataframe\">\n  <thead>\n    <tr style=\"text-align: right;\">\n      <th></th>\n      <th>po_wp_2020</th>\n      <th>po_hrsl_2018</th>\n      <th>uu_bld_den_2020</th>\n      <th>uu_bld_count_2020</th>\n      <th>ph_slope_2000</th>\n      <th>ph_pm25_2016</th>\n      <th>ph_ndvi_2019</th>\n      <th>ph_bio_dvst_2015</th>\n      <th>ph_max_tem_2019</th>\n      <th>in_night_light_2016</th>\n      <th>uid</th>\n    </tr>\n  </thead>\n  <tbody>\n    <tr>\n      <th>0</th>\n      <td>-9999.0</td>\n      <td>-9999.0</td>\n      <td>-9999.0</td>\n      <td>-9999.0</td>\n      <td>-9999.0</td>\n      <td>-9999.0</td>\n      <td>-9999.0</td>\n      <td>-9999.0</td>\n      <td>-9999.0</td>\n      <td>-9999.0</td>\n      <td>0</td>\n    </tr>\n    <tr>\n      <th>1</th>\n      <td>-9999.0</td>\n      <td>-9999.0</td>\n      <td>-9999.0</td>\n      <td>-9999.0</td>\n      <td>-9999.0</td>\n      <td>-9999.0</td>\n      <td>-9999.0</td>\n      <td>-9999.0</td>\n      <td>-9999.0</td>\n      <td>-9999.0</td>\n      <td>1</td>\n    </tr>\n    <tr>\n      <th>2</th>\n      <td>-9999.0</td>\n      <td>-9999.0</td>\n      <td>-9999.0</td>\n      <td>-9999.0</td>\n      <td>-9999.0</td>\n      <td>-9999.0</td>\n      <td>-9999.0</td>\n      <td>-9999.0</td>\n      <td>-9999.0</td>\n      <td>-9999.0</td>\n      <td>2</td>\n    </tr>\n    <tr>\n      <th>3</th>\n      <td>-9999.0</td>\n      <td>-9999.0</td>\n      <td>-9999.0</td>\n      <td>-9999.0</td>\n      <td>-9999.0</td>\n      <td>-9999.0</td>\n      <td>-9999.0</td>\n      <td>-9999.0</td>\n      <td>-9999.0</td>\n      <td>-9999.0</td>\n      <td>3</td>\n    </tr>\n    <tr>\n      <th>4</th>\n      <td>-9999.0</td>\n      <td>-9999.0</td>\n      <td>-9999.0</td>\n      <td>-9999.0</td>\n      <td>-9999.0</td>\n      <td>-9999.0</td>\n      <td>-9999.0</td>\n      <td>-9999.0</td>\n      <td>-9999.0</td>\n      <td>-9999.0</td>\n      <td>4</td>\n    </tr>\n  </tbody>\n</table>\n</div>"
     },
     "execution_count": 48,
     "metadata": {},
     "output_type": "execute_result"
    }
   ],
   "source": [
    "df_data['uid'] = np.arange(start=0,stop = len(df_data), dtype=int)\n",
    "# df_data = df_data.drop(columns=['ph_gdmhz_2005', 'ph_grd_water_2000', 'ph_hzd_index_2011', 'ph_base_water_2010', 'ses_pfpr_2016', 'ph_land_c1_2019', 'ph_land_c2_2020'])\n",
    "df_data = df_data[['po_wp_2020', 'po_hrsl_2018', 'uu_bld_den_2020', 'uu_bld_count_2020', 'ph_slope_2000', 'ph_pm25_2016', 'ph_ndvi_2019', 'ph_bio_dvst_2015', 'ph_max_tem_2019', 'in_night_light_2016', 'uid']]\n",
    "print(df_data.shape)\n",
    "df_data.head()"
   ],
   "metadata": {
    "collapsed": false
   }
  },
  {
   "cell_type": "code",
   "execution_count": 49,
   "outputs": [],
   "source": [
    "# df_data['orb_sc40_mean'] = df_data['orb_sc40_mean'].fillna(value=-9999)\n",
    "data_X1 = df_data.copy()\n",
    "data_X = data_X1.loc[ data_X1['po_wp_2020'] != -9999 ]\n",
    "data_X = data_X.copy()\n",
    "# data_X = data_X.loc[ data_X['po_wp_2020'] != 0 ]\n",
    "data_uid = data_X\n",
    "data_x  = data_X.drop(columns=['uid'])\n",
    "\n",
    "data_uid['catid'] = np.arange(start=0,stop = len(data_uid), dtype=int)\n",
    "\n"
   ],
   "metadata": {
    "collapsed": false
   }
  },
  {
   "cell_type": "code",
   "execution_count": 50,
   "outputs": [
    {
     "name": "stdout",
     "output_type": "stream",
     "text": [
      "Column 'po_wp_2020' have 101836 NULL values\n",
      "Column 'po_hrsl_2018' have 144484 NULL values\n",
      "Column 'uu_bld_den_2020' have 101796 NULL values\n",
      "Column 'uu_bld_count_2020' have 101796 NULL values\n",
      "Column 'ph_slope_2000' have 25565 NULL values\n",
      "Column 'ph_ndvi_2019' have 21 NULL values\n",
      "No infinite values in dataframe\n"
     ]
    }
   ],
   "source": [
    "# Handling missing data\n",
    "\n",
    "## Check and count for NaN values by column in the table\n",
    "if data_X.isnull().any().any():\n",
    "    for colomn in list(data_X.columns.values):\n",
    "        if data_X[colomn].isnull().any():\n",
    "            print (\"Column '\"+str(colomn)+\"' have \"+str(data_X[colomn].isnull().sum())+\" NULL values\")\n",
    "else: print (\"No missing values in dataframe\")\n",
    "\n",
    "## Check and count for Inf values by column in the table\n",
    "if np.isinf(data_X).any().any():\n",
    "    for colomn in list(data_X.columns.values):\n",
    "        if np.isinf(data_X[colomn]).any():\n",
    "            print (\"Column '\"+str(colomn)+\"' have \"+str(np.isinf(data_X[colomn]).sum())+\" Infinite values\")\n",
    "else: print (\"No infinite values in dataframe\")"
   ],
   "metadata": {
    "collapsed": false
   }
  },
  {
   "cell_type": "code",
   "execution_count": 51,
   "outputs": [],
   "source": [
    "\n",
    "from sklearn.impute import SimpleImputer\n",
    "\n",
    "# The SimpleImputer\n",
    "si = SimpleImputer(missing_values=np.nan, strategy='mean')\n",
    "data_x_tran = si.fit_transform(data_x)\n",
    "\n",
    "\n",
    "# # Standardize  data\n",
    "data_x_scale = ss.fit_transform(data_x_tran)"
   ],
   "metadata": {
    "collapsed": false
   }
  },
  {
   "cell_type": "code",
   "execution_count": 52,
   "outputs": [],
   "source": [
    "# REDICTION\n",
    "pred_map = model.predict(data_x_scale)\n"
   ],
   "metadata": {
    "collapsed": false
   }
  },
  {
   "cell_type": "code",
   "execution_count": 53,
   "outputs": [
    {
     "name": "stdout",
     "output_type": "stream",
     "text": [
      "(250376, 2)\n"
     ]
    },
    {
     "data": {
      "text/plain": "   pred  catid\n0     0      0\n1     0      1\n2     0      2\n3     0      3\n4     0      4",
      "text/html": "<div>\n<style scoped>\n    .dataframe tbody tr th:only-of-type {\n        vertical-align: middle;\n    }\n\n    .dataframe tbody tr th {\n        vertical-align: top;\n    }\n\n    .dataframe thead th {\n        text-align: right;\n    }\n</style>\n<table border=\"1\" class=\"dataframe\">\n  <thead>\n    <tr style=\"text-align: right;\">\n      <th></th>\n      <th>pred</th>\n      <th>catid</th>\n    </tr>\n  </thead>\n  <tbody>\n    <tr>\n      <th>0</th>\n      <td>0</td>\n      <td>0</td>\n    </tr>\n    <tr>\n      <th>1</th>\n      <td>0</td>\n      <td>1</td>\n    </tr>\n    <tr>\n      <th>2</th>\n      <td>0</td>\n      <td>2</td>\n    </tr>\n    <tr>\n      <th>3</th>\n      <td>0</td>\n      <td>3</td>\n    </tr>\n    <tr>\n      <th>4</th>\n      <td>0</td>\n      <td>4</td>\n    </tr>\n  </tbody>\n</table>\n</div>"
     },
     "execution_count": 53,
     "metadata": {},
     "output_type": "execute_result"
    }
   ],
   "source": [
    "# Convert narray to dataframe\n",
    "col_name = ['pred']\n",
    "predictions_image = pd.DataFrame(pred_map, columns=col_name)\n",
    "predictions_image['catid'] = np.arange(start=0,stop = len(predictions_image), dtype=int) # add a uniques id to merge\n",
    "print(predictions_image.shape)\n",
    "predictions_image.head()"
   ],
   "metadata": {
    "collapsed": false
   }
  },
  {
   "cell_type": "code",
   "execution_count": 54,
   "outputs": [
    {
     "name": "stdout",
     "output_type": "stream",
     "text": [
      "(250376, 13)\n"
     ]
    }
   ],
   "source": [
    "# merge prediction to data_x (data with useful info)\n",
    "map_data = predictions_image.merge(data_uid, how='inner', on='catid')\n",
    "# map_data = pd.concat([predictions_image, data_x], axis=1 )\n",
    "print (map_data.shape)\n",
    "#\n",
    "# set index for merging with big image data\n",
    "map_data  = map_data.set_index('uid')\n",
    "df1  = df_data.set_index('uid')"
   ],
   "metadata": {
    "collapsed": false
   }
  },
  {
   "cell_type": "code",
   "execution_count": 55,
   "outputs": [
    {
     "name": "stdout",
     "output_type": "stream",
     "text": [
      "(473204,)\n"
     ]
    }
   ],
   "source": [
    "# merge to bg image data\n",
    "predictions_image_merge = pd.merge(df1, map_data, how='outer', right_index=True, left_index=True)\n",
    "\n",
    "\n",
    "predictions_image = predictions_image_merge['pred'].values\n",
    "\n",
    "print(predictions_image.shape)"
   ],
   "metadata": {
    "collapsed": false
   }
  },
  {
   "cell_type": "code",
   "execution_count": 56,
   "outputs": [
    {
     "data": {
      "text/plain": "array([[0.00000e+00, 1.51440e+05],\n       [1.00000e+00, 9.89360e+04],\n       [        nan, 2.22828e+05]])"
     },
     "execution_count": 56,
     "metadata": {},
     "output_type": "execute_result"
    }
   ],
   "source": [
    "(unique, counts) = np.unique(predictions_image, return_counts=True)\n",
    "frequencies = np.asarray((unique, counts)).T\n",
    "frequencies"
   ],
   "metadata": {
    "collapsed": false
   }
  },
  {
   "cell_type": "code",
   "execution_count": 57,
   "outputs": [
    {
     "data": {
      "text/plain": "<Figure size 800x400 with 1 Axes>",
      "image/png": "[encoded data removed]"
     },
     "metadata": {},
     "output_type": "display_data"
    }
   ],
   "source": [
    "from matplotlib.pyplot import figure\n",
    "import matplotlib.patches as mpatches\n",
    "\n",
    "h = img_arr.shape[1]\n",
    "w = img_arr.shape[2]\n",
    "\n",
    "pred_map = predictions_image.reshape(h, w)\n",
    "\n",
    "\n",
    "values = np.unique(pred_map.ravel())\n",
    "\n",
    "plt.figure(figsize=(8,4))\n",
    "im = plt.imshow(pred_map, interpolation='none')\n",
    "\n",
    "# get the colors of the values, according to the\n",
    "# colormap used by imshow\n",
    "colors = [ im.cmap(im.norm(value)) for value in values]\n",
    "# create a patch (proxy artist) for every color\n",
    "patches = [ mpatches.Patch(color=colors[i], label=\"Class {l}\".format(l=values[i]) ) for i in range(len(values)) ]\n",
    "# put those patched as legend-handles into the legend\n",
    "plt.legend(handles=patches, bbox_to_anchor=(1.05, 1), loc=2, borderaxespad=0. )\n",
    "\n",
    "plt.show()"
   ],
   "metadata": {
    "collapsed": false
   }
  },
  {
   "cell_type": "code",
   "execution_count": null,
   "outputs": [],
   "source": [],
   "metadata": {
    "collapsed": false
   }
  },
  {
   "cell_type": "code",
   "execution_count": 175,
   "outputs": [],
   "source": [],
   "metadata": {
    "collapsed": false
   }
  }
 ],
 "metadata": {
  "kernelspec": {
   "display_name": "Python 3",
   "language": "python",
   "name": "python3"
  },
  "language_info": {
   "codemirror_mode": {
    "name": "ipython",
    "version": 2
   },
   "file_extension": ".py",
   "mimetype": "text/x-python",
   "name": "python",
   "nbconvert_exporter": "python",
   "pygments_lexer": "ipython2",
   "version": "2.7.6"
  }
 },
 "nbformat": 4,
 "nbformat_minor": 0
}
