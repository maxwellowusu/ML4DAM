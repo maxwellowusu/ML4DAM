{
 "cells": [
  {
   "cell_type": "markdown",
   "source": [
    "# Mapping Deprived Area"
   ],
   "metadata": {
    "collapsed": false
   }
  },
  {
   "cell_type": "code",
   "execution_count": 1,
   "outputs": [],
   "source": [
    "# import libraries\n",
    "\n",
    "import sys\n",
    "import numpy as np\n",
    "import pandas as pd\n",
    "from osgeo import gdal\n",
    "import matplotlib.pyplot as plt\n",
    "from matplotlib.pyplot import figure\n",
    "import os\n",
    "\n",
    "import utils\n",
    "import util_preprocess"
   ],
   "metadata": {
    "collapsed": false
   }
  },
  {
   "cell_type": "markdown",
   "source": [
    "## Set working directory"
   ],
   "metadata": {
    "collapsed": false
   }
  },
  {
   "cell_type": "code",
   "execution_count": 2,
   "outputs": [],
   "source": [
    "# Get abosolute path of the current folder\n",
    "FPATH = '/media/owusu/Extreme SSD/IDEAMAPS/Training_Dataset/Accra'\n",
    "\n",
    "# Get abosolute output path of te current folder\n",
    "OUTPUT = '/media/owusu/Extreme SSD/IDEAMAPS/Training_Dataset/Accra/output'\n",
    "\n",
    "target = 'class'\n",
    "\n",
    "# Random seed\n",
    "random_seed = 42\n",
    "# Set random seed in numpy\n",
    "np.random.seed(random_seed)"
   ],
   "metadata": {
    "collapsed": false
   }
  },
  {
   "cell_type": "markdown",
   "source": [
    "## Load covariate features"
   ],
   "metadata": {
    "collapsed": false
   }
  },
  {
   "cell_type": "code",
   "execution_count": 3,
   "outputs": [
    {
     "name": "stdout",
     "output_type": "stream",
     "text": [
      "53\n",
      "562\n",
      "842\n"
     ]
    }
   ],
   "source": [
    "PATH= f'/media/owusu/Extreme SSD/IDEAMAPS/covariate_feature_53bands/acc_covariate_compilation_53bands.tif'\n",
    "img = utils.read_image(PATH)\n",
    "img_arr=img[0]\n",
    "img_gt=img[1]\n",
    "img_georef=img[2]\n",
    "\n",
    "# Process spfea features, get the width, height and number of bands\n",
    "n = img_arr.shape[0]\n",
    "print (n) # number of bands\n",
    "h = img_arr.shape[1]\n",
    "print (h) # height\n",
    "w = img_arr.shape[2]\n",
    "print (w) # width"
   ],
   "metadata": {
    "collapsed": false
   }
  },
  {
   "cell_type": "markdown",
   "source": [
    "## Convert covariate array to pandas dataframe"
   ],
   "metadata": {
    "collapsed": false
   }
  },
  {
   "cell_type": "code",
   "execution_count": 4,
   "outputs": [
    {
     "name": "stdout",
     "output_type": "stream",
     "text": [
      "(53, 562, 842)\n"
     ]
    },
    {
     "data": {
      "text/plain": "   fs_dist_fs_2020  fs_dist_school_2020  in_dist_rd_2016  \\\n0          -9999.0              -9999.0          -9999.0   \n1          -9999.0              -9999.0          -9999.0   \n2          -9999.0              -9999.0          -9999.0   \n3          -9999.0              -9999.0          -9999.0   \n4          -9999.0              -9999.0          -9999.0   \n\n   in_dist_rd_intersect_2016  in_dist_waterway_2016  in_night_light_2016  \\\n0                    -9999.0                -9999.0              -9999.0   \n1                    -9999.0                -9999.0              -9999.0   \n2                    -9999.0                -9999.0              -9999.0   \n3                    -9999.0                -9999.0              -9999.0   \n4                    -9999.0                -9999.0              -9999.0   \n\n   ph_base_water_2010  ph_bio_dvst_2015  ph_climate_risk_2020  \\\n0             -9999.0           -9999.0               -9999.0   \n1             -9999.0           -9999.0               -9999.0   \n2             -9999.0           -9999.0               -9999.0   \n3             -9999.0           -9999.0               -9999.0   \n4             -9999.0           -9999.0               -9999.0   \n\n   ph_dist_aq_veg_2015  ...  sh_ethno_den_2020  uu_bld_count_2020  \\\n0              -9999.0  ...            -9999.0            -9999.0   \n1              -9999.0  ...            -9999.0            -9999.0   \n2              -9999.0  ...            -9999.0            -9999.0   \n3              -9999.0  ...            -9999.0            -9999.0   \n4              -9999.0  ...            -9999.0            -9999.0   \n\n   uu_bld_den_2020  ho_impr_housing_2015  fs_dist_hf_2019  po_hrsl_2018  \\\n0          -9999.0               -9999.0    -3.402823e+38       -9999.0   \n1          -9999.0               -9999.0    -3.402823e+38       -9999.0   \n2          -9999.0               -9999.0    -3.402823e+38       -9999.0   \n3          -9999.0               -9999.0    -3.402823e+38       -9999.0   \n4          -9999.0               -9999.0    -3.402823e+38       -9999.0   \n\n   po_wp_2020  ph_dist_riv_network_2007  uu_urb_bldg_2018  \\\n0     -9999.0                     255.0           -9999.0   \n1     -9999.0                     255.0           -9999.0   \n2     -9999.0                     255.0           -9999.0   \n3     -9999.0                     255.0           -9999.0   \n4     -9999.0                     255.0           -9999.0   \n\n   ses_dist_gov_office_2022  \n0                  0.344877  \n1                  0.344203  \n2                  0.343529  \n3                  0.342857  \n4                  0.342185  \n\n[5 rows x 53 columns]",
      "text/html": "<div>\n<style scoped>\n    .dataframe tbody tr th:only-of-type {\n        vertical-align: middle;\n    }\n\n    .dataframe tbody tr th {\n        vertical-align: top;\n    }\n\n    .dataframe thead th {\n        text-align: right;\n    }\n</style>\n<table border=\"1\" class=\"dataframe\">\n  <thead>\n    <tr style=\"text-align: right;\">\n      <th></th>\n      <th>fs_dist_fs_2020</th>\n      <th>fs_dist_school_2020</th>\n      <th>in_dist_rd_2016</th>\n      <th>in_dist_rd_intersect_2016</th>\n      <th>in_dist_waterway_2016</th>\n      <th>in_night_light_2016</th>\n      <th>ph_base_water_2010</th>\n      <th>ph_bio_dvst_2015</th>\n      <th>ph_climate_risk_2020</th>\n      <th>ph_dist_aq_veg_2015</th>\n      <th>...</th>\n      <th>sh_ethno_den_2020</th>\n      <th>uu_bld_count_2020</th>\n      <th>uu_bld_den_2020</th>\n      <th>ho_impr_housing_2015</th>\n      <th>fs_dist_hf_2019</th>\n      <th>po_hrsl_2018</th>\n      <th>po_wp_2020</th>\n      <th>ph_dist_riv_network_2007</th>\n      <th>uu_urb_bldg_2018</th>\n      <th>ses_dist_gov_office_2022</th>\n    </tr>\n  </thead>\n  <tbody>\n    <tr>\n      <th>0</th>\n      <td>-9999.0</td>\n      <td>-9999.0</td>\n      <td>-9999.0</td>\n      <td>-9999.0</td>\n      <td>-9999.0</td>\n      <td>-9999.0</td>\n      <td>-9999.0</td>\n      <td>-9999.0</td>\n      <td>-9999.0</td>\n      <td>-9999.0</td>\n      <td>...</td>\n      <td>-9999.0</td>\n      <td>-9999.0</td>\n      <td>-9999.0</td>\n      <td>-9999.0</td>\n      <td>-3.402823e+38</td>\n      <td>-9999.0</td>\n      <td>-9999.0</td>\n      <td>255.0</td>\n      <td>-9999.0</td>\n      <td>0.344877</td>\n    </tr>\n    <tr>\n      <th>1</th>\n      <td>-9999.0</td>\n      <td>-9999.0</td>\n      <td>-9999.0</td>\n      <td>-9999.0</td>\n      <td>-9999.0</td>\n      <td>-9999.0</td>\n      <td>-9999.0</td>\n      <td>-9999.0</td>\n      <td>-9999.0</td>\n      <td>-9999.0</td>\n      <td>...</td>\n      <td>-9999.0</td>\n      <td>-9999.0</td>\n      <td>-9999.0</td>\n      <td>-9999.0</td>\n      <td>-3.402823e+38</td>\n      <td>-9999.0</td>\n      <td>-9999.0</td>\n      <td>255.0</td>\n      <td>-9999.0</td>\n      <td>0.344203</td>\n    </tr>\n    <tr>\n      <th>2</th>\n      <td>-9999.0</td>\n      <td>-9999.0</td>\n      <td>-9999.0</td>\n      <td>-9999.0</td>\n      <td>-9999.0</td>\n      <td>-9999.0</td>\n      <td>-9999.0</td>\n      <td>-9999.0</td>\n      <td>-9999.0</td>\n      <td>-9999.0</td>\n      <td>...</td>\n      <td>-9999.0</td>\n      <td>-9999.0</td>\n      <td>-9999.0</td>\n      <td>-9999.0</td>\n      <td>-3.402823e+38</td>\n      <td>-9999.0</td>\n      <td>-9999.0</td>\n      <td>255.0</td>\n      <td>-9999.0</td>\n      <td>0.343529</td>\n    </tr>\n    <tr>\n      <th>3</th>\n      <td>-9999.0</td>\n      <td>-9999.0</td>\n      <td>-9999.0</td>\n      <td>-9999.0</td>\n      <td>-9999.0</td>\n      <td>-9999.0</td>\n      <td>-9999.0</td>\n      <td>-9999.0</td>\n      <td>-9999.0</td>\n      <td>-9999.0</td>\n      <td>...</td>\n      <td>-9999.0</td>\n      <td>-9999.0</td>\n      <td>-9999.0</td>\n      <td>-9999.0</td>\n      <td>-3.402823e+38</td>\n      <td>-9999.0</td>\n      <td>-9999.0</td>\n      <td>255.0</td>\n      <td>-9999.0</td>\n      <td>0.342857</td>\n    </tr>\n    <tr>\n      <th>4</th>\n      <td>-9999.0</td>\n      <td>-9999.0</td>\n      <td>-9999.0</td>\n      <td>-9999.0</td>\n      <td>-9999.0</td>\n      <td>-9999.0</td>\n      <td>-9999.0</td>\n      <td>-9999.0</td>\n      <td>-9999.0</td>\n      <td>-9999.0</td>\n      <td>...</td>\n      <td>-9999.0</td>\n      <td>-9999.0</td>\n      <td>-9999.0</td>\n      <td>-9999.0</td>\n      <td>-3.402823e+38</td>\n      <td>-9999.0</td>\n      <td>-9999.0</td>\n      <td>255.0</td>\n      <td>-9999.0</td>\n      <td>0.342185</td>\n    </tr>\n  </tbody>\n</table>\n<p>5 rows × 53 columns</p>\n</div>"
     },
     "execution_count": 4,
     "metadata": {},
     "output_type": "execute_result"
    }
   ],
   "source": [
    "bandname = ['fs_dist_fs_2020', 'fs_dist_school_2020', 'in_dist_rd_2016', 'in_dist_rd_intersect_2016', 'in_dist_waterway_2016', 'in_night_light_2016',\n",
    "'ph_base_water_2010', 'ph_bio_dvst_2015', 'ph_climate_risk_2020', 'ph_dist_aq_veg_2015', 'ph_dist_art_surface_2015', 'ph_dist_bare_2015',\n",
    "'ph_dist_cultivated_2015', 'ph_dist_herb_2015', 'ph_dist_inland_water_2018', 'ph_dist_open_coast_2020', 'ph_dist_shrub_2015', 'ph_dist_sparse_veg_2015',\n",
    "'ph_dist_woody_tree_2015', 'ph_gdmhz_2005', 'ph_grd_water_2000', 'ph_hzd_index_2011', 'ph_land_c1_2019', 'ph_land_c2_2020', 'ph_max_tem_2019',\n",
    "'ph_ndvi_2019', 'ph_pm25_2016', 'ph_slope_2000', 'ses_an_visits_2016', 'ses_child_stunted_2016', 'ses_dpt3_2016', 'ses_hf_delivery_2016',\n",
    "'ses_impr_water_src_2016', 'ses_ITN_2016', 'ses_m_lit_2016', 'ses_measles_2016', 'ses_odef_2016', 'ses_pfpr_2016', 'ses_preg_2016',\n",
    "'ses_unmet_need_2016', 'ses_w_lit_2016', 'sh_dist_mnr_pofw_2019', 'sh_dist_pofw_2019', 'sh_ethno_den_2020', 'uu_bld_count_2020',\n",
    "'uu_bld_den_2020', 'ho_impr_housing_2015', 'fs_dist_hf_2019', 'po_hrsl_2018', 'po_wp_2020', 'ph_dist_riv_network_2007', 'uu_urb_bldg_2018', 'ses_dist_gov_office_2022']\n",
    "\n",
    "\n",
    "# Make dataframe\n",
    "df_data=utils.make_data_frame(img_arr, bandname)\n",
    "df_data.head()"
   ],
   "metadata": {
    "collapsed": false
   }
  },
  {
   "cell_type": "markdown",
   "source": [
    "## Load training data"
   ],
   "metadata": {
    "collapsed": false
   }
  },
  {
   "cell_type": "code",
   "execution_count": 6,
   "outputs": [
    {
     "name": "stdout",
     "output_type": "stream",
     "text": [
      "(562, 842)\n"
     ]
    },
    {
     "data": {
      "text/plain": "array([[ -9999, 466668],\n       [     0,   5074],\n       [     1,   1462]])"
     },
     "execution_count": 6,
     "metadata": {},
     "output_type": "execute_result"
    }
   ],
   "source": [
    "PATH = f'{FPATH}/Tiles_merge.tif'\n",
    "train_set = utils.read_image(PATH)\n",
    "train_array=train_set[0]\n",
    "train_array = train_array.astype(int)\n",
    "train_gt=train_set[1]\n",
    "train_georef=train_set[2]\n",
    "print (train_array.shape)\n",
    "\n",
    "# Check unique values\n",
    "(unique, counts) = np.unique(train_array, return_counts=True)\n",
    "frequencies = np.asarray((unique, counts)).T\n",
    "frequencies"
   ],
   "metadata": {
    "collapsed": false
   }
  },
  {
   "cell_type": "code",
   "execution_count": 7,
   "outputs": [
    {
     "data": {
      "text/plain": "[array([-9999,     0,     1])]"
     },
     "execution_count": 7,
     "metadata": {},
     "output_type": "execute_result"
    }
   ],
   "source": [
    "train_col_name = [\"class\"]\n",
    "tr_img_data = train_array.flatten()\n",
    "df_train = pd.DataFrame(tr_img_data, columns=train_col_name)\n",
    "df_train.head()\n",
    "[df_train['class'].unique()]"
   ],
   "metadata": {
    "collapsed": false
   }
  },
  {
   "cell_type": "markdown",
   "source": [
    "## Concatenate training and covariate features"
   ],
   "metadata": {
    "collapsed": false
   }
  },
  {
   "cell_type": "code",
   "execution_count": 8,
   "outputs": [
    {
     "name": "stdout",
     "output_type": "stream",
     "text": [
      "(473204, 54)\n"
     ]
    }
   ],
   "source": [
    "# concat trainset and data\n",
    "data_concat = pd.concat([df_train, df_data], axis=1)\n",
    "print (data_concat.shape)\n"
   ],
   "metadata": {
    "collapsed": false
   }
  },
  {
   "cell_type": "code",
   "execution_count": 9,
   "outputs": [
    {
     "data": {
      "text/plain": "[array([-9999,     0,     1])]"
     },
     "execution_count": 9,
     "metadata": {},
     "output_type": "execute_result"
    }
   ],
   "source": [
    "[data_concat['class'].unique()]"
   ],
   "metadata": {
    "collapsed": false
   }
  },
  {
   "cell_type": "code",
   "execution_count": 10,
   "outputs": [
    {
     "name": "stdout",
     "output_type": "stream",
     "text": [
      "(6536, 54)\n"
     ]
    },
    {
     "data": {
      "text/plain": "[array([0, 1])]"
     },
     "execution_count": 10,
     "metadata": {},
     "output_type": "execute_result"
    }
   ],
   "source": [
    "df_full = data_concat.loc[data_concat['class'] != -9999]\n",
    "print(df_full.shape)\n",
    "df_full.head()\n",
    "[df_full['class'].unique()]"
   ],
   "metadata": {
    "collapsed": false
   }
  },
  {
   "cell_type": "markdown",
   "source": [
    "## Drop unwanted columns"
   ],
   "metadata": {
    "collapsed": false
   }
  },
  {
   "cell_type": "code",
   "execution_count": 11,
   "outputs": [],
   "source": [
    "df_full = df_full.drop(columns=['ph_gdmhz_2005', 'ph_grd_water_2000', 'ph_hzd_index_2011', 'ph_base_water_2010', 'ses_pfpr_2016'])"
   ],
   "metadata": {
    "collapsed": false
   }
  },
  {
   "cell_type": "markdown",
   "source": [
    "## Split into train, validation and test"
   ],
   "metadata": {
    "collapsed": false
   }
  },
  {
   "cell_type": "code",
   "execution_count": 12,
   "outputs": [
    {
     "name": "stdout",
     "output_type": "stream",
     "text": [
      "df_train (4025, 49)\n",
      "df_val (1007, 49)\n",
      "df_test (1504, 49)\n"
     ]
    }
   ],
   "source": [
    "from sklearn.model_selection import train_test_split\n",
    "\n",
    "# Divide the training data into training (80%) and testing (20%)\n",
    "df_train, df_test = train_test_split(df_full, train_size=0.77, random_state=random_seed)\n",
    "# Reset the index\n",
    "df_train, df_test = df_train.reset_index(drop=True), df_test.reset_index(drop=True)\n",
    "\n",
    "# Divide the training data into training (80%) and validation (20%)\n",
    "df_train, df_val = train_test_split(df_train, train_size=0.80, random_state=random_seed)\n",
    "# Reset the index\n",
    "df_train, df_val = df_train.reset_index(drop=True), df_val.reset_index(drop=True)\n",
    "\n",
    "print('df_train', df_train.shape)\n",
    "print('df_val', df_val.shape)\n",
    "print('df_test', df_test.shape)"
   ],
   "metadata": {
    "collapsed": false
   }
  },
  {
   "cell_type": "markdown",
   "source": [
    "## Handling missing data"
   ],
   "metadata": {
    "collapsed": false
   }
  },
  {
   "cell_type": "code",
   "execution_count": 13,
   "outputs": [
    {
     "data": {
      "text/plain": "                          var  proportion    dtype\n0             in_dist_rd_2016    0.152693  float64\n1                po_hrsl_2018    0.150092  float64\n2               ph_slope_2000    0.101438  float64\n3    ph_dist_riv_network_2007    0.094859  float64\n4        ho_impr_housing_2015    0.087209  float64\n5                  po_wp_2020    0.062576  float64\n6             uu_bld_den_2020    0.062424  float64\n7           uu_bld_count_2020    0.062424  float64\n8   ph_dist_inland_water_2018    0.025398  float64\n9    ph_dist_art_surface_2015    0.017748  float64\n10  in_dist_rd_intersect_2016    0.013617  float64\n11      in_dist_waterway_2016    0.011169  float64\n12    ph_dist_cultivated_2015    0.004131  float64\n13   ses_dist_gov_office_2022    0.003825  float64\n14          ph_dist_herb_2015    0.001224  float64\n15            fs_dist_hf_2019    0.001071  float64\n16           uu_urb_bldg_2018    0.000765  float64\n17            fs_dist_fs_2020    0.000765  float64\n18        fs_dist_school_2020    0.000153  float64\n19          sh_dist_pofw_2019    0.000153  float64",
      "text/html": "<div>\n<style scoped>\n    .dataframe tbody tr th:only-of-type {\n        vertical-align: middle;\n    }\n\n    .dataframe tbody tr th {\n        vertical-align: top;\n    }\n\n    .dataframe thead th {\n        text-align: right;\n    }\n</style>\n<table border=\"1\" class=\"dataframe\">\n  <thead>\n    <tr style=\"text-align: right;\">\n      <th></th>\n      <th>var</th>\n      <th>proportion</th>\n      <th>dtype</th>\n    </tr>\n  </thead>\n  <tbody>\n    <tr>\n      <th>0</th>\n      <td>in_dist_rd_2016</td>\n      <td>0.152693</td>\n      <td>float64</td>\n    </tr>\n    <tr>\n      <th>1</th>\n      <td>po_hrsl_2018</td>\n      <td>0.150092</td>\n      <td>float64</td>\n    </tr>\n    <tr>\n      <th>2</th>\n      <td>ph_slope_2000</td>\n      <td>0.101438</td>\n      <td>float64</td>\n    </tr>\n    <tr>\n      <th>3</th>\n      <td>ph_dist_riv_network_2007</td>\n      <td>0.094859</td>\n      <td>float64</td>\n    </tr>\n    <tr>\n      <th>4</th>\n      <td>ho_impr_housing_2015</td>\n      <td>0.087209</td>\n      <td>float64</td>\n    </tr>\n    <tr>\n      <th>5</th>\n      <td>po_wp_2020</td>\n      <td>0.062576</td>\n      <td>float64</td>\n    </tr>\n    <tr>\n      <th>6</th>\n      <td>uu_bld_den_2020</td>\n      <td>0.062424</td>\n      <td>float64</td>\n    </tr>\n    <tr>\n      <th>7</th>\n      <td>uu_bld_count_2020</td>\n      <td>0.062424</td>\n      <td>float64</td>\n    </tr>\n    <tr>\n      <th>8</th>\n      <td>ph_dist_inland_water_2018</td>\n      <td>0.025398</td>\n      <td>float64</td>\n    </tr>\n    <tr>\n      <th>9</th>\n      <td>ph_dist_art_surface_2015</td>\n      <td>0.017748</td>\n      <td>float64</td>\n    </tr>\n    <tr>\n      <th>10</th>\n      <td>in_dist_rd_intersect_2016</td>\n      <td>0.013617</td>\n      <td>float64</td>\n    </tr>\n    <tr>\n      <th>11</th>\n      <td>in_dist_waterway_2016</td>\n      <td>0.011169</td>\n      <td>float64</td>\n    </tr>\n    <tr>\n      <th>12</th>\n      <td>ph_dist_cultivated_2015</td>\n      <td>0.004131</td>\n      <td>float64</td>\n    </tr>\n    <tr>\n      <th>13</th>\n      <td>ses_dist_gov_office_2022</td>\n      <td>0.003825</td>\n      <td>float64</td>\n    </tr>\n    <tr>\n      <th>14</th>\n      <td>ph_dist_herb_2015</td>\n      <td>0.001224</td>\n      <td>float64</td>\n    </tr>\n    <tr>\n      <th>15</th>\n      <td>fs_dist_hf_2019</td>\n      <td>0.001071</td>\n      <td>float64</td>\n    </tr>\n    <tr>\n      <th>16</th>\n      <td>uu_urb_bldg_2018</td>\n      <td>0.000765</td>\n      <td>float64</td>\n    </tr>\n    <tr>\n      <th>17</th>\n      <td>fs_dist_fs_2020</td>\n      <td>0.000765</td>\n      <td>float64</td>\n    </tr>\n    <tr>\n      <th>18</th>\n      <td>fs_dist_school_2020</td>\n      <td>0.000153</td>\n      <td>float64</td>\n    </tr>\n    <tr>\n      <th>19</th>\n      <td>sh_dist_pofw_2019</td>\n      <td>0.000153</td>\n      <td>float64</td>\n    </tr>\n  </tbody>\n</table>\n</div>"
     },
     "execution_count": 13,
     "metadata": {},
     "output_type": "execute_result"
    }
   ],
   "source": [
    "# Handling missing data\n",
    "# Combine df_train, df_val and df_test\n",
    "df = pd.concat([df_train, df_val, df_test], sort=False)\n",
    "\n",
    "# Call nan_checker on df\n",
    "df_nan = util_preprocess.nan_checker(df)\n",
    "\n",
    "# Print df_nan\n",
    "df_nan\n",
    "\n",
    "# Print the unique data type of variables with NaN\n",
    "pd.DataFrame(df_nan['dtype'].unique(), columns=['dtype'])\n",
    "\n",
    "# Get the variables with missing values, their proportion of missing values and data type\n",
    "df_miss = df_nan[df_nan['dtype'] == 'float64'].reset_index(drop=True)\n",
    "\n",
    "# Print df_miss\n",
    "df_miss"
   ],
   "metadata": {
    "collapsed": false
   }
  },
  {
   "cell_type": "code",
   "execution_count": 13,
   "outputs": [],
   "source": [],
   "metadata": {
    "collapsed": false
   }
  },
  {
   "cell_type": "code",
   "execution_count": 14,
   "outputs": [],
   "source": [
    "# Imputing missing values\n",
    "from sklearn.impute import SimpleImputer\n",
    "\n",
    "# If there are missing values\n",
    "if len(df_miss['var']) > 0:\n",
    "    # The SimpleImputer\n",
    "    si = SimpleImputer(missing_values=np.nan, strategy='mean')\n",
    "\n",
    "    # Impute the variables with missing values in df_train, df_val and df_test\n",
    "    df_train[df_miss['var']] = si.fit_transform(df_train[df_miss['var']])\n",
    "    df_val[df_miss['var']] = si.transform(df_val[df_miss['var']])\n",
    "    df_test[df_miss['var']] = si.transform(df_test[df_miss['var']])"
   ],
   "metadata": {
    "collapsed": false
   }
  },
  {
   "cell_type": "markdown",
   "source": [
    "## Encoding data"
   ],
   "metadata": {
    "collapsed": false
   }
  },
  {
   "cell_type": "code",
   "execution_count": 15,
   "outputs": [
    {
     "data": {
      "text/plain": "Empty DataFrame\nColumns: [var, nunique]\nIndex: []",
      "text/html": "<div>\n<style scoped>\n    .dataframe tbody tr th:only-of-type {\n        vertical-align: middle;\n    }\n\n    .dataframe tbody tr th {\n        vertical-align: top;\n    }\n\n    .dataframe thead th {\n        text-align: right;\n    }\n</style>\n<table border=\"1\" class=\"dataframe\">\n  <thead>\n    <tr style=\"text-align: right;\">\n      <th></th>\n      <th>var</th>\n      <th>nunique</th>\n    </tr>\n  </thead>\n  <tbody>\n  </tbody>\n</table>\n</div>"
     },
     "execution_count": 15,
     "metadata": {},
     "output_type": "execute_result"
    }
   ],
   "source": [
    "# Combine df_train, df_val and df_test\n",
    "df = pd.concat([df_train, df_val, df_test], sort=False)\n",
    "\n",
    "# Print the unique data type of variables in df\n",
    "pd.DataFrame(df.dtypes.unique(), columns=['dtype'])\n",
    "\n",
    "# Call cat_var_checker on df\n",
    "# See the implementation in pmlm_utilities.ipynb\n",
    "df_cat = util_preprocess.cat_var_checker(df)\n",
    "\n",
    "# Print the dataframe\n",
    "df_cat"
   ],
   "metadata": {
    "collapsed": false
   }
  },
  {
   "cell_type": "code",
   "execution_count": 16,
   "outputs": [],
   "source": [
    "# Separating the training, validation and test data\n",
    "# Separating the training data\n",
    "df_train = df.iloc[:df_train.shape[0], :]\n",
    "\n",
    "# Separating the validation data\n",
    "df_val = df.iloc[df_train.shape[0]:df_train.shape[0] + df_val.shape[0], :]\n",
    "\n",
    "# Separating the test data\n",
    "df_test = df.iloc[df_train.shape[0] + df_val.shape[0]:, :]"
   ],
   "metadata": {
    "collapsed": false
   }
  },
  {
   "cell_type": "code",
   "execution_count": 17,
   "outputs": [],
   "source": [
    "# Get the feature matrix\n",
    "X_train = df_train[np.setdiff1d(df_train.columns, [target])].values\n",
    "X_val = df_val[np.setdiff1d(df_val.columns, [target])].values\n",
    "X_test = df_test[np.setdiff1d(df_test.columns, [target])].values\n",
    "\n",
    "# Get the target vector\n",
    "y_train = df_train[target].values\n",
    "y_val = df_val[target].values\n",
    "y_test = df_test[target].values"
   ],
   "metadata": {
    "collapsed": false
   }
  },
  {
   "cell_type": "code",
   "execution_count": 18,
   "outputs": [],
   "source": [
    "# The StandardScaler\n",
    "from sklearn.preprocessing import StandardScaler\n",
    "ss = StandardScaler()\n",
    "\n",
    "# Standardize the training data\n",
    "X_train = ss.fit_transform(X_train)\n",
    "\n",
    "# Standardize the validation data\n",
    "X_val = ss.transform(X_val)\n",
    "\n",
    "# Standardize the test data\n",
    "X_test = ss.transform(X_test)"
   ],
   "metadata": {
    "collapsed": false
   }
  },
  {
   "cell_type": "code",
   "execution_count": 22,
   "outputs": [
    {
     "data": {
      "text/plain": "MetricVisualizer(layout=Layout(align_self='stretch', height='500px'))",
      "application/vnd.jupyter.widget-view+json": {
       "version_major": 2,
       "version_minor": 0,
       "model_id": "4979d530b7a8412ba02ce616e17705e9"
      }
     },
     "metadata": {},
     "output_type": "display_data"
    },
    {
     "name": "stdout",
     "output_type": "stream",
     "text": [
      "Learning rate set to 0.044698\n",
      "0:\tlearn: 0.8385594\ttest: 0.8153967\tbest: 0.8153967 (0)\ttotal: 3.91ms\tremaining: 3.9s\n",
      "100:\tlearn: 0.9237349\ttest: 0.8888889\tbest: 0.8901363 (95)\ttotal: 332ms\tremaining: 2.96s\n",
      "200:\tlearn: 0.9568781\ttest: 0.9041096\tbest: 0.9048387 (191)\ttotal: 660ms\tremaining: 2.62s\n",
      "300:\tlearn: 0.9771183\ttest: 0.9159184\tbest: 0.9159935 (246)\ttotal: 947ms\tremaining: 2.2s\n",
      "400:\tlearn: 0.9854604\ttest: 0.9189189\tbest: 0.9193154 (367)\ttotal: 1.23s\tremaining: 1.83s\n",
      "500:\tlearn: 0.9918875\ttest: 0.9128289\tbest: 0.9193154 (367)\ttotal: 1.5s\tremaining: 1.49s\n",
      "600:\tlearn: 0.9947568\ttest: 0.9150866\tbest: 0.9193154 (367)\ttotal: 1.78s\tremaining: 1.18s\n",
      "700:\tlearn: 0.9972811\ttest: 0.9192751\tbest: 0.9200330 (663)\ttotal: 2.07s\tremaining: 882ms\n",
      "800:\tlearn: 0.9985481\ttest: 0.9165979\tbest: 0.9200330 (663)\ttotal: 2.33s\tremaining: 580ms\n",
      "900:\tlearn: 0.9996366\ttest: 0.9139073\tbest: 0.9200330 (663)\ttotal: 2.62s\tremaining: 288ms\n",
      "999:\tlearn: 0.9996366\ttest: 0.9139073\tbest: 0.9200330 (663)\ttotal: 2.88s\tremaining: 0us\n",
      "\n",
      "bestTest = 0.9200329761\n",
      "bestIteration = 663\n",
      "\n",
      "Shrink model to first 664 iterations.\n"
     ]
    }
   ],
   "source": [
    "import catboost\n",
    "from catboost import CatBoostClassifier, Pool\n",
    "\n",
    "params = {'loss_function':'Logloss', # objective function\n",
    "          'eval_metric':'F1', # metric\n",
    "          'early_stopping_rounds': 2000, # early stopping\n",
    "          'verbose': 100, # output to stdout info about training process every 200 iterations\n",
    "          'random_seed': random_seed,\n",
    "         }\n",
    "# model = CatBoostClassifier(**params, class_weights=[0.5, 0.5])\n",
    "model = CatBoostClassifier(**params, scale_pos_weight=3)\n",
    "model.fit(X_train, y_train, # data to train on (required parameters, unless we provide X as a pool object, will be shown below)\n",
    "          eval_set=(X_val, y_val), # data to validate on\n",
    "          use_best_model=True, # True if we don't want to save trees created after iteration with the best validation score\n",
    "          plot=True, # True for visualization of the training process (it is not shown in a published kernel - try executing this code)\n",
    "\n",
    "         );"
   ],
   "metadata": {
    "collapsed": false
   }
  },
  {
   "cell_type": "markdown",
   "source": [
    "### Model evaluation"
   ],
   "metadata": {
    "collapsed": false
   }
  },
  {
   "cell_type": "code",
   "execution_count": 22,
   "outputs": [],
   "source": [],
   "metadata": {
    "collapsed": false
   }
  },
  {
   "cell_type": "code",
   "execution_count": 23,
   "outputs": [
    {
     "name": "stdout",
     "output_type": "stream",
     "text": [
      "F1: [0.848314606741573]\n",
      "Recall: [0.8908554572271387]\n",
      "Precision: [0.8096514745308311]\n"
     ]
    }
   ],
   "source": [
    "from catboost.utils import eval_metric\n",
    "# import CatBoost\n",
    "\n",
    "predictions = model.predict(X_test)\n",
    "\n",
    "F1 = eval_metric(y_test, predictions, 'F1')\n",
    "Precision = eval_metric(y_test, predictions, 'Precision')\n",
    "Recall = eval_metric(y_test, predictions, 'Recall')\n",
    "print(\"F1:\", F1)\n",
    "print(\"Recall:\", Recall)\n",
    "print(\"Precision:\", Precision)"
   ],
   "metadata": {
    "collapsed": false
   }
  },
  {
   "cell_type": "code",
   "execution_count": 35,
   "outputs": [],
   "source": [
    "# from sklearn.metrics import classification_report\n",
    "# print(classification_report(y_test, predictions))"
   ],
   "metadata": {
    "collapsed": false
   }
  },
  {
   "cell_type": "code",
   "execution_count": 36,
   "outputs": [],
   "source": [
    "from catboost.utils import get_confusion_matrix\n",
    "\n",
    "test_data = Pool(data=X_test,\n",
    "                  label=y_test,\n",
    "                  )\n",
    "# Set column names\n",
    "col_names = [ 'fs_dist_fs_2020', 'fs_dist_school_2020', 'in_dist_rd_2016',\n",
    "       'in_dist_rd_intersect_2016', 'in_dist_waterway_2016',\n",
    "       'in_night_light_2016', 'ph_bio_dvst_2015', 'ph_climate_risk_2020',\n",
    "       'ph_dist_aq_veg_2015', 'ph_dist_art_surface_2015', 'ph_dist_bare_2015',\n",
    "       'ph_dist_cultivated_2015', 'ph_dist_herb_2015',\n",
    "       'ph_dist_inland_water_2018', 'ph_dist_open_coast_2020',\n",
    "       'ph_dist_shrub_2015', 'ph_dist_sparse_veg_2015',\n",
    "       'ph_dist_woody_tree_2015', 'ph_land_c1_2019', 'ph_land_c2_2020',\n",
    "       'ph_max_tem_2019', 'ph_ndvi_2019', 'ph_pm25_2016', 'ph_slope_2000',\n",
    "       'ses_an_visits_2016', 'ses_child_stunted_2016', 'ses_dpt3_2016',\n",
    "       'ses_hf_delivery_2016', 'ses_impr_water_src_2016', 'ses_ITN_2016',\n",
    "       'ses_m_lit_2016', 'ses_measles_2016', 'ses_odef_2016', 'ses_preg_2016',\n",
    "       'ses_unmet_need_2016', 'ses_w_lit_2016', 'sh_dist_mnr_pofw_2019',\n",
    "       'sh_dist_pofw_2019', 'sh_ethno_den_2020', 'uu_bld_count_2020',\n",
    "       'uu_bld_den_2020', 'ho_impr_housing_2015', 'fs_dist_hf_2019',\n",
    "       'po_hrsl_2018', 'po_wp_2020', 'ph_dist_riv_network_2007',\n",
    "       'uu_urb_bldg_2018', 'ses_dist_gov_office_2022']\n",
    "# test_data.set_feature_names(col_names)\n",
    "\n",
    "# confusion = get_confusion_matrix(model, test_data, thread_count=-1)\n",
    "# confusion"
   ],
   "metadata": {
    "collapsed": false
   }
  },
  {
   "cell_type": "markdown",
   "source": [
    "### Feature of importance"
   ],
   "metadata": {
    "collapsed": false
   }
  },
  {
   "cell_type": "code",
   "execution_count": 37,
   "outputs": [
    {
     "data": {
      "text/plain": "    feature_importance              feature_names\n46           11.733023           uu_urb_bldg_2018\n45            8.195032   ph_dist_riv_network_2007\n39            5.208455          uu_bld_count_2020\n25            4.635594     ses_child_stunted_2016\n24            3.756078         ses_an_visits_2016\n35            3.572054             ses_w_lit_2016\n32            3.399057              ses_odef_2016\n16            2.774916    ph_dist_sparse_veg_2015\n30            2.773803             ses_m_lit_2016\n13            2.749203  ph_dist_inland_water_2018\n42            2.734312            fs_dist_hf_2019\n6             2.698350           ph_bio_dvst_2015\n28            2.571489    ses_impr_water_src_2016\n18            2.431844            ph_land_c1_2019\n37            2.345184          sh_dist_pofw_2019",
      "text/html": "<div>\n<style scoped>\n    .dataframe tbody tr th:only-of-type {\n        vertical-align: middle;\n    }\n\n    .dataframe tbody tr th {\n        vertical-align: top;\n    }\n\n    .dataframe thead th {\n        text-align: right;\n    }\n</style>\n<table border=\"1\" class=\"dataframe\">\n  <thead>\n    <tr style=\"text-align: right;\">\n      <th></th>\n      <th>feature_importance</th>\n      <th>feature_names</th>\n    </tr>\n  </thead>\n  <tbody>\n    <tr>\n      <th>46</th>\n      <td>11.733023</td>\n      <td>uu_urb_bldg_2018</td>\n    </tr>\n    <tr>\n      <th>45</th>\n      <td>8.195032</td>\n      <td>ph_dist_riv_network_2007</td>\n    </tr>\n    <tr>\n      <th>39</th>\n      <td>5.208455</td>\n      <td>uu_bld_count_2020</td>\n    </tr>\n    <tr>\n      <th>25</th>\n      <td>4.635594</td>\n      <td>ses_child_stunted_2016</td>\n    </tr>\n    <tr>\n      <th>24</th>\n      <td>3.756078</td>\n      <td>ses_an_visits_2016</td>\n    </tr>\n    <tr>\n      <th>35</th>\n      <td>3.572054</td>\n      <td>ses_w_lit_2016</td>\n    </tr>\n    <tr>\n      <th>32</th>\n      <td>3.399057</td>\n      <td>ses_odef_2016</td>\n    </tr>\n    <tr>\n      <th>16</th>\n      <td>2.774916</td>\n      <td>ph_dist_sparse_veg_2015</td>\n    </tr>\n    <tr>\n      <th>30</th>\n      <td>2.773803</td>\n      <td>ses_m_lit_2016</td>\n    </tr>\n    <tr>\n      <th>13</th>\n      <td>2.749203</td>\n      <td>ph_dist_inland_water_2018</td>\n    </tr>\n    <tr>\n      <th>42</th>\n      <td>2.734312</td>\n      <td>fs_dist_hf_2019</td>\n    </tr>\n    <tr>\n      <th>6</th>\n      <td>2.698350</td>\n      <td>ph_bio_dvst_2015</td>\n    </tr>\n    <tr>\n      <th>28</th>\n      <td>2.571489</td>\n      <td>ses_impr_water_src_2016</td>\n    </tr>\n    <tr>\n      <th>18</th>\n      <td>2.431844</td>\n      <td>ph_land_c1_2019</td>\n    </tr>\n    <tr>\n      <th>37</th>\n      <td>2.345184</td>\n      <td>sh_dist_pofw_2019</td>\n    </tr>\n  </tbody>\n</table>\n</div>"
     },
     "execution_count": 37,
     "metadata": {},
     "output_type": "execute_result"
    }
   ],
   "source": [
    "data = pd.DataFrame({'feature_importance': model.get_feature_importance(test_data),\n",
    "              'feature_names': col_names}).sort_values(by=['feature_importance'],\n",
    "                                                     ascending=False)\n",
    "data.head(15)"
   ],
   "metadata": {
    "collapsed": false
   }
  },
  {
   "cell_type": "markdown",
   "source": [
    "## Inference"
   ],
   "metadata": {
    "collapsed": false
   }
  },
  {
   "cell_type": "code",
   "execution_count": 38,
   "outputs": [
    {
     "ename": "KeyError",
     "evalue": "\"['ph_gdmhz_2005', 'ph_grd_water_2000', 'ph_hzd_index_2011', 'ph_base_water_2010', 'ses_pfpr_2016'] not found in axis\"",
     "output_type": "error",
     "traceback": [
      "\u001B[0;31m---------------------------------------------------------------------------\u001B[0m",
      "\u001B[0;31mKeyError\u001B[0m                                  Traceback (most recent call last)",
      "Cell \u001B[0;32mIn [38], line 2\u001B[0m\n\u001B[1;32m      1\u001B[0m df_data[\u001B[38;5;124m'\u001B[39m\u001B[38;5;124muid\u001B[39m\u001B[38;5;124m'\u001B[39m] \u001B[38;5;241m=\u001B[39m np\u001B[38;5;241m.\u001B[39marange(start\u001B[38;5;241m=\u001B[39m\u001B[38;5;241m0\u001B[39m,stop \u001B[38;5;241m=\u001B[39m \u001B[38;5;28mlen\u001B[39m(df_data), dtype\u001B[38;5;241m=\u001B[39m\u001B[38;5;28mint\u001B[39m)\n\u001B[0;32m----> 2\u001B[0m df_data \u001B[38;5;241m=\u001B[39m \u001B[43mdf_data\u001B[49m\u001B[38;5;241;43m.\u001B[39;49m\u001B[43mdrop\u001B[49m\u001B[43m(\u001B[49m\u001B[43mcolumns\u001B[49m\u001B[38;5;241;43m=\u001B[39;49m\u001B[43m[\u001B[49m\u001B[38;5;124;43m'\u001B[39;49m\u001B[38;5;124;43mph_gdmhz_2005\u001B[39;49m\u001B[38;5;124;43m'\u001B[39;49m\u001B[43m,\u001B[49m\u001B[43m \u001B[49m\u001B[38;5;124;43m'\u001B[39;49m\u001B[38;5;124;43mph_grd_water_2000\u001B[39;49m\u001B[38;5;124;43m'\u001B[39;49m\u001B[43m,\u001B[49m\u001B[43m \u001B[49m\u001B[38;5;124;43m'\u001B[39;49m\u001B[38;5;124;43mph_hzd_index_2011\u001B[39;49m\u001B[38;5;124;43m'\u001B[39;49m\u001B[43m,\u001B[49m\u001B[43m \u001B[49m\u001B[38;5;124;43m'\u001B[39;49m\u001B[38;5;124;43mph_base_water_2010\u001B[39;49m\u001B[38;5;124;43m'\u001B[39;49m\u001B[43m,\u001B[49m\u001B[43m \u001B[49m\u001B[38;5;124;43m'\u001B[39;49m\u001B[38;5;124;43mses_pfpr_2016\u001B[39;49m\u001B[38;5;124;43m'\u001B[39;49m\u001B[43m]\u001B[49m\u001B[43m)\u001B[49m\n\u001B[1;32m      3\u001B[0m \u001B[38;5;28mprint\u001B[39m(df_data\u001B[38;5;241m.\u001B[39mshape)\n\u001B[1;32m      4\u001B[0m df_data\u001B[38;5;241m.\u001B[39mhead()\n",
      "File \u001B[0;32m~/.local/lib/python3.10/site-packages/pandas/util/_decorators.py:331\u001B[0m, in \u001B[0;36mdeprecate_nonkeyword_arguments.<locals>.decorate.<locals>.wrapper\u001B[0;34m(*args, **kwargs)\u001B[0m\n\u001B[1;32m    325\u001B[0m \u001B[38;5;28;01mif\u001B[39;00m \u001B[38;5;28mlen\u001B[39m(args) \u001B[38;5;241m>\u001B[39m num_allow_args:\n\u001B[1;32m    326\u001B[0m     warnings\u001B[38;5;241m.\u001B[39mwarn(\n\u001B[1;32m    327\u001B[0m         msg\u001B[38;5;241m.\u001B[39mformat(arguments\u001B[38;5;241m=\u001B[39m_format_argument_list(allow_args)),\n\u001B[1;32m    328\u001B[0m         \u001B[38;5;167;01mFutureWarning\u001B[39;00m,\n\u001B[1;32m    329\u001B[0m         stacklevel\u001B[38;5;241m=\u001B[39mfind_stack_level(),\n\u001B[1;32m    330\u001B[0m     )\n\u001B[0;32m--> 331\u001B[0m \u001B[38;5;28;01mreturn\u001B[39;00m \u001B[43mfunc\u001B[49m\u001B[43m(\u001B[49m\u001B[38;5;241;43m*\u001B[39;49m\u001B[43margs\u001B[49m\u001B[43m,\u001B[49m\u001B[43m \u001B[49m\u001B[38;5;241;43m*\u001B[39;49m\u001B[38;5;241;43m*\u001B[39;49m\u001B[43mkwargs\u001B[49m\u001B[43m)\u001B[49m\n",
      "File \u001B[0;32m~/.local/lib/python3.10/site-packages/pandas/core/frame.py:5388\u001B[0m, in \u001B[0;36mDataFrame.drop\u001B[0;34m(self, labels, axis, index, columns, level, inplace, errors)\u001B[0m\n\u001B[1;32m   5240\u001B[0m \u001B[38;5;129m@deprecate_nonkeyword_arguments\u001B[39m(version\u001B[38;5;241m=\u001B[39m\u001B[38;5;28;01mNone\u001B[39;00m, allowed_args\u001B[38;5;241m=\u001B[39m[\u001B[38;5;124m\"\u001B[39m\u001B[38;5;124mself\u001B[39m\u001B[38;5;124m\"\u001B[39m, \u001B[38;5;124m\"\u001B[39m\u001B[38;5;124mlabels\u001B[39m\u001B[38;5;124m\"\u001B[39m])\n\u001B[1;32m   5241\u001B[0m \u001B[38;5;28;01mdef\u001B[39;00m \u001B[38;5;21mdrop\u001B[39m(  \u001B[38;5;66;03m# type: ignore[override]\u001B[39;00m\n\u001B[1;32m   5242\u001B[0m     \u001B[38;5;28mself\u001B[39m,\n\u001B[0;32m   (...)\u001B[0m\n\u001B[1;32m   5249\u001B[0m     errors: IgnoreRaise \u001B[38;5;241m=\u001B[39m \u001B[38;5;124m\"\u001B[39m\u001B[38;5;124mraise\u001B[39m\u001B[38;5;124m\"\u001B[39m,\n\u001B[1;32m   5250\u001B[0m ) \u001B[38;5;241m-\u001B[39m\u001B[38;5;241m>\u001B[39m DataFrame \u001B[38;5;241m|\u001B[39m \u001B[38;5;28;01mNone\u001B[39;00m:\n\u001B[1;32m   5251\u001B[0m     \u001B[38;5;124;03m\"\"\"\u001B[39;00m\n\u001B[1;32m   5252\u001B[0m \u001B[38;5;124;03m    Drop specified labels from rows or columns.\u001B[39;00m\n\u001B[1;32m   5253\u001B[0m \n\u001B[0;32m   (...)\u001B[0m\n\u001B[1;32m   5386\u001B[0m \u001B[38;5;124;03m            weight  1.0     0.8\u001B[39;00m\n\u001B[1;32m   5387\u001B[0m \u001B[38;5;124;03m    \"\"\"\u001B[39;00m\n\u001B[0;32m-> 5388\u001B[0m     \u001B[38;5;28;01mreturn\u001B[39;00m \u001B[38;5;28;43msuper\u001B[39;49m\u001B[43m(\u001B[49m\u001B[43m)\u001B[49m\u001B[38;5;241;43m.\u001B[39;49m\u001B[43mdrop\u001B[49m\u001B[43m(\u001B[49m\n\u001B[1;32m   5389\u001B[0m \u001B[43m        \u001B[49m\u001B[43mlabels\u001B[49m\u001B[38;5;241;43m=\u001B[39;49m\u001B[43mlabels\u001B[49m\u001B[43m,\u001B[49m\n\u001B[1;32m   5390\u001B[0m \u001B[43m        \u001B[49m\u001B[43maxis\u001B[49m\u001B[38;5;241;43m=\u001B[39;49m\u001B[43maxis\u001B[49m\u001B[43m,\u001B[49m\n\u001B[1;32m   5391\u001B[0m \u001B[43m        \u001B[49m\u001B[43mindex\u001B[49m\u001B[38;5;241;43m=\u001B[39;49m\u001B[43mindex\u001B[49m\u001B[43m,\u001B[49m\n\u001B[1;32m   5392\u001B[0m \u001B[43m        \u001B[49m\u001B[43mcolumns\u001B[49m\u001B[38;5;241;43m=\u001B[39;49m\u001B[43mcolumns\u001B[49m\u001B[43m,\u001B[49m\n\u001B[1;32m   5393\u001B[0m \u001B[43m        \u001B[49m\u001B[43mlevel\u001B[49m\u001B[38;5;241;43m=\u001B[39;49m\u001B[43mlevel\u001B[49m\u001B[43m,\u001B[49m\n\u001B[1;32m   5394\u001B[0m \u001B[43m        \u001B[49m\u001B[43minplace\u001B[49m\u001B[38;5;241;43m=\u001B[39;49m\u001B[43minplace\u001B[49m\u001B[43m,\u001B[49m\n\u001B[1;32m   5395\u001B[0m \u001B[43m        \u001B[49m\u001B[43merrors\u001B[49m\u001B[38;5;241;43m=\u001B[39;49m\u001B[43merrors\u001B[49m\u001B[43m,\u001B[49m\n\u001B[1;32m   5396\u001B[0m \u001B[43m    \u001B[49m\u001B[43m)\u001B[49m\n",
      "File \u001B[0;32m~/.local/lib/python3.10/site-packages/pandas/util/_decorators.py:331\u001B[0m, in \u001B[0;36mdeprecate_nonkeyword_arguments.<locals>.decorate.<locals>.wrapper\u001B[0;34m(*args, **kwargs)\u001B[0m\n\u001B[1;32m    325\u001B[0m \u001B[38;5;28;01mif\u001B[39;00m \u001B[38;5;28mlen\u001B[39m(args) \u001B[38;5;241m>\u001B[39m num_allow_args:\n\u001B[1;32m    326\u001B[0m     warnings\u001B[38;5;241m.\u001B[39mwarn(\n\u001B[1;32m    327\u001B[0m         msg\u001B[38;5;241m.\u001B[39mformat(arguments\u001B[38;5;241m=\u001B[39m_format_argument_list(allow_args)),\n\u001B[1;32m    328\u001B[0m         \u001B[38;5;167;01mFutureWarning\u001B[39;00m,\n\u001B[1;32m    329\u001B[0m         stacklevel\u001B[38;5;241m=\u001B[39mfind_stack_level(),\n\u001B[1;32m    330\u001B[0m     )\n\u001B[0;32m--> 331\u001B[0m \u001B[38;5;28;01mreturn\u001B[39;00m \u001B[43mfunc\u001B[49m\u001B[43m(\u001B[49m\u001B[38;5;241;43m*\u001B[39;49m\u001B[43margs\u001B[49m\u001B[43m,\u001B[49m\u001B[43m \u001B[49m\u001B[38;5;241;43m*\u001B[39;49m\u001B[38;5;241;43m*\u001B[39;49m\u001B[43mkwargs\u001B[49m\u001B[43m)\u001B[49m\n",
      "File \u001B[0;32m~/.local/lib/python3.10/site-packages/pandas/core/generic.py:4505\u001B[0m, in \u001B[0;36mNDFrame.drop\u001B[0;34m(self, labels, axis, index, columns, level, inplace, errors)\u001B[0m\n\u001B[1;32m   4503\u001B[0m \u001B[38;5;28;01mfor\u001B[39;00m axis, labels \u001B[38;5;129;01min\u001B[39;00m axes\u001B[38;5;241m.\u001B[39mitems():\n\u001B[1;32m   4504\u001B[0m     \u001B[38;5;28;01mif\u001B[39;00m labels \u001B[38;5;129;01mis\u001B[39;00m \u001B[38;5;129;01mnot\u001B[39;00m \u001B[38;5;28;01mNone\u001B[39;00m:\n\u001B[0;32m-> 4505\u001B[0m         obj \u001B[38;5;241m=\u001B[39m \u001B[43mobj\u001B[49m\u001B[38;5;241;43m.\u001B[39;49m\u001B[43m_drop_axis\u001B[49m\u001B[43m(\u001B[49m\u001B[43mlabels\u001B[49m\u001B[43m,\u001B[49m\u001B[43m \u001B[49m\u001B[43maxis\u001B[49m\u001B[43m,\u001B[49m\u001B[43m \u001B[49m\u001B[43mlevel\u001B[49m\u001B[38;5;241;43m=\u001B[39;49m\u001B[43mlevel\u001B[49m\u001B[43m,\u001B[49m\u001B[43m \u001B[49m\u001B[43merrors\u001B[49m\u001B[38;5;241;43m=\u001B[39;49m\u001B[43merrors\u001B[49m\u001B[43m)\u001B[49m\n\u001B[1;32m   4507\u001B[0m \u001B[38;5;28;01mif\u001B[39;00m inplace:\n\u001B[1;32m   4508\u001B[0m     \u001B[38;5;28mself\u001B[39m\u001B[38;5;241m.\u001B[39m_update_inplace(obj)\n",
      "File \u001B[0;32m~/.local/lib/python3.10/site-packages/pandas/core/generic.py:4546\u001B[0m, in \u001B[0;36mNDFrame._drop_axis\u001B[0;34m(self, labels, axis, level, errors, only_slice)\u001B[0m\n\u001B[1;32m   4544\u001B[0m         new_axis \u001B[38;5;241m=\u001B[39m axis\u001B[38;5;241m.\u001B[39mdrop(labels, level\u001B[38;5;241m=\u001B[39mlevel, errors\u001B[38;5;241m=\u001B[39merrors)\n\u001B[1;32m   4545\u001B[0m     \u001B[38;5;28;01melse\u001B[39;00m:\n\u001B[0;32m-> 4546\u001B[0m         new_axis \u001B[38;5;241m=\u001B[39m \u001B[43maxis\u001B[49m\u001B[38;5;241;43m.\u001B[39;49m\u001B[43mdrop\u001B[49m\u001B[43m(\u001B[49m\u001B[43mlabels\u001B[49m\u001B[43m,\u001B[49m\u001B[43m \u001B[49m\u001B[43merrors\u001B[49m\u001B[38;5;241;43m=\u001B[39;49m\u001B[43merrors\u001B[49m\u001B[43m)\u001B[49m\n\u001B[1;32m   4547\u001B[0m     indexer \u001B[38;5;241m=\u001B[39m axis\u001B[38;5;241m.\u001B[39mget_indexer(new_axis)\n\u001B[1;32m   4549\u001B[0m \u001B[38;5;66;03m# Case for non-unique axis\u001B[39;00m\n\u001B[1;32m   4550\u001B[0m \u001B[38;5;28;01melse\u001B[39;00m:\n",
      "File \u001B[0;32m~/.local/lib/python3.10/site-packages/pandas/core/indexes/base.py:6975\u001B[0m, in \u001B[0;36mIndex.drop\u001B[0;34m(self, labels, errors)\u001B[0m\n\u001B[1;32m   6973\u001B[0m \u001B[38;5;28;01mif\u001B[39;00m mask\u001B[38;5;241m.\u001B[39many():\n\u001B[1;32m   6974\u001B[0m     \u001B[38;5;28;01mif\u001B[39;00m errors \u001B[38;5;241m!=\u001B[39m \u001B[38;5;124m\"\u001B[39m\u001B[38;5;124mignore\u001B[39m\u001B[38;5;124m\"\u001B[39m:\n\u001B[0;32m-> 6975\u001B[0m         \u001B[38;5;28;01mraise\u001B[39;00m \u001B[38;5;167;01mKeyError\u001B[39;00m(\u001B[38;5;124mf\u001B[39m\u001B[38;5;124m\"\u001B[39m\u001B[38;5;132;01m{\u001B[39;00m\u001B[38;5;28mlist\u001B[39m(labels[mask])\u001B[38;5;132;01m}\u001B[39;00m\u001B[38;5;124m not found in axis\u001B[39m\u001B[38;5;124m\"\u001B[39m)\n\u001B[1;32m   6976\u001B[0m     indexer \u001B[38;5;241m=\u001B[39m indexer[\u001B[38;5;241m~\u001B[39mmask]\n\u001B[1;32m   6977\u001B[0m \u001B[38;5;28;01mreturn\u001B[39;00m \u001B[38;5;28mself\u001B[39m\u001B[38;5;241m.\u001B[39mdelete(indexer)\n",
      "\u001B[0;31mKeyError\u001B[0m: \"['ph_gdmhz_2005', 'ph_grd_water_2000', 'ph_hzd_index_2011', 'ph_base_water_2010', 'ses_pfpr_2016'] not found in axis\""
     ]
    }
   ],
   "source": [
    "df_data['uid'] = np.arange(start=0,stop = len(df_data), dtype=int)\n",
    "df_data = df_data.drop(columns=['ph_gdmhz_2005', 'ph_grd_water_2000', 'ph_hzd_index_2011', 'ph_base_water_2010', 'ses_pfpr_2016'])\n",
    "print(df_data.shape)\n",
    "df_data.head()"
   ],
   "metadata": {
    "collapsed": false
   }
  },
  {
   "cell_type": "code",
   "execution_count": 39,
   "outputs": [
    {
     "name": "stdout",
     "output_type": "stream",
     "text": [
      "Column 'fs_dist_fs_2020' have 5 NULL values\n",
      "Column 'fs_dist_school_2020' have 6 NULL values\n",
      "Column 'in_dist_rd_2016' have 17139 NULL values\n",
      "Column 'in_dist_rd_intersect_2016' have 541 NULL values\n",
      "Column 'in_dist_waterway_2016' have 2111 NULL values\n",
      "Column 'ph_dist_aq_veg_2015' have 224 NULL values\n",
      "Column 'ph_dist_art_surface_2015' have 9227 NULL values\n",
      "Column 'ph_dist_bare_2015' have 128 NULL values\n",
      "Column 'ph_dist_cultivated_2015' have 12971 NULL values\n",
      "Column 'ph_dist_herb_2015' have 554 NULL values\n",
      "Column 'ph_dist_inland_water_2018' have 4538 NULL values\n",
      "Column 'ph_dist_shrub_2015' have 3217 NULL values\n",
      "Column 'ph_dist_woody_tree_2015' have 756 NULL values\n",
      "Column 'ph_ndvi_2019' have 76 NULL values\n",
      "Column 'ph_slope_2000' have 25565 NULL values\n",
      "Column 'ses_preg_2016' have 25 NULL values\n",
      "Column 'sh_dist_pofw_2019' have 3 NULL values\n",
      "Column 'sh_ethno_den_2020' have 18259 NULL values\n",
      "Column 'uu_bld_count_2020' have 117946 NULL values\n",
      "Column 'uu_bld_den_2020' have 117946 NULL values\n",
      "Column 'ho_impr_housing_2015' have 16030 NULL values\n",
      "Column 'fs_dist_hf_2019' have 70 NULL values\n",
      "Column 'po_hrsl_2018' have 160636 NULL values\n",
      "Column 'po_wp_2020' have 101836 NULL values\n",
      "Column 'ph_dist_riv_network_2007' have 30540 NULL values\n",
      "Column 'uu_urb_bldg_2018' have 10171 NULL values\n",
      "Column 'ses_dist_gov_office_2022' have 160 NULL values\n",
      "No infinite values in dataframe\n"
     ]
    }
   ],
   "source": [
    "# Handling missing data\n",
    "\n",
    "## Check and count for NaN values by column in the table\n",
    "if df_data.isnull().any().any():\n",
    "    for colomn in list(df_data.columns.values):\n",
    "        if df_data[colomn].isnull().any():\n",
    "            print (\"Column '\"+str(colomn)+\"' have \"+str(df_data[colomn].isnull().sum())+\" NULL values\")\n",
    "else: print (\"No missing values in dataframe\")\n",
    "\n",
    "## Check and count for Inf values by column in the table\n",
    "if np.isinf(df_data).any().any():\n",
    "    for colomn in list(df_data.columns.values):\n",
    "        if np.isinf(df_data[colomn]).any():\n",
    "            print (\"Column '\"+str(colomn)+\"' have \"+str(np.isinf(df_data[colomn]).sum())+\" Infinite values\")\n",
    "else: print (\"No infinite values in dataframe\")"
   ],
   "metadata": {
    "collapsed": false
   }
  },
  {
   "cell_type": "code",
   "execution_count": 40,
   "outputs": [],
   "source": [
    "# df_data['orb_sc40_mean'] = df_data['orb_sc40_mean'].fillna(value=-9999)\n",
    "data_X = df_data.copy()\n",
    "data_X = data_X.loc[ data_X['fs_dist_fs_2020'] != -9999 ]\n",
    "data_uid = data_X\n",
    "data_x  = data_X.drop(columns=['uid'])\n",
    "\n",
    "data_uid['catid'] = np.arange(start=0,stop = len(data_uid), dtype=int)\n",
    "\n"
   ],
   "metadata": {
    "collapsed": false
   }
  },
  {
   "cell_type": "code",
   "execution_count": 41,
   "outputs": [],
   "source": [
    "# # Standardize Testing data\n",
    "data_x_scale = ss.fit_transform(data_x)\n",
    "\n",
    "from sklearn.impute import SimpleImputer\n",
    "\n",
    "# The SimpleImputer\n",
    "si = SimpleImputer(missing_values=np.nan, strategy='mean')\n",
    "data_x_tran = si.fit_transform(data_x_scale)\n"
   ],
   "metadata": {
    "collapsed": false
   }
  },
  {
   "cell_type": "code",
   "execution_count": 42,
   "outputs": [],
   "source": [
    "# REDICTION\n",
    "pred_map = model.predict(data_x_tran)\n"
   ],
   "metadata": {
    "collapsed": false
   }
  },
  {
   "cell_type": "code",
   "execution_count": 43,
   "outputs": [
    {
     "name": "stdout",
     "output_type": "stream",
     "text": [
      "(266528, 2)\n"
     ]
    },
    {
     "data": {
      "text/plain": "   pred  catid\n0     0      0\n1     0      1\n2     0      2\n3     0      3\n4     0      4",
      "text/html": "<div>\n<style scoped>\n    .dataframe tbody tr th:only-of-type {\n        vertical-align: middle;\n    }\n\n    .dataframe tbody tr th {\n        vertical-align: top;\n    }\n\n    .dataframe thead th {\n        text-align: right;\n    }\n</style>\n<table border=\"1\" class=\"dataframe\">\n  <thead>\n    <tr style=\"text-align: right;\">\n      <th></th>\n      <th>pred</th>\n      <th>catid</th>\n    </tr>\n  </thead>\n  <tbody>\n    <tr>\n      <th>0</th>\n      <td>0</td>\n      <td>0</td>\n    </tr>\n    <tr>\n      <th>1</th>\n      <td>0</td>\n      <td>1</td>\n    </tr>\n    <tr>\n      <th>2</th>\n      <td>0</td>\n      <td>2</td>\n    </tr>\n    <tr>\n      <th>3</th>\n      <td>0</td>\n      <td>3</td>\n    </tr>\n    <tr>\n      <th>4</th>\n      <td>0</td>\n      <td>4</td>\n    </tr>\n  </tbody>\n</table>\n</div>"
     },
     "execution_count": 43,
     "metadata": {},
     "output_type": "execute_result"
    }
   ],
   "source": [
    "# Convert narray to dataframe\n",
    "col_name = ['pred']\n",
    "predictions_image = pd.DataFrame(pred_map, columns=col_name)\n",
    "predictions_image['catid'] = np.arange(start=0,stop = len(predictions_image), dtype=int) # add a uniques id to merge\n",
    "print(predictions_image.shape)\n",
    "predictions_image.head()"
   ],
   "metadata": {
    "collapsed": false
   }
  },
  {
   "cell_type": "code",
   "execution_count": 44,
   "outputs": [
    {
     "name": "stdout",
     "output_type": "stream",
     "text": [
      "(266528, 51)\n"
     ]
    }
   ],
   "source": [
    "# merge prediction to data_x (data with useful info)\n",
    "map_data = predictions_image.merge(data_uid, how='inner', on='catid')\n",
    "# map_data = pd.concat([predictions_image, data_x], axis=1 )\n",
    "print (map_data.shape)\n",
    "#\n",
    "# set index for merging with big image data\n",
    "map_data  = map_data.set_index('uid')\n",
    "df1  = df_data.set_index('uid')"
   ],
   "metadata": {
    "collapsed": false
   }
  },
  {
   "cell_type": "code",
   "execution_count": 45,
   "outputs": [
    {
     "name": "stdout",
     "output_type": "stream",
     "text": [
      "(473204,)\n"
     ]
    }
   ],
   "source": [
    "# merge to bg image data\n",
    "predictions_image_merge = pd.merge(df1, map_data, how='outer', right_index=True, left_index=True)\n",
    "\n",
    "\n",
    "predictions_image = predictions_image_merge['pred'].values\n",
    "\n",
    "print(predictions_image.shape)"
   ],
   "metadata": {
    "collapsed": false
   }
  },
  {
   "cell_type": "code",
   "execution_count": 47,
   "outputs": [
    {
     "data": {
      "text/plain": "array([[0.00000e+00, 2.65909e+05],\n       [1.00000e+00, 6.19000e+02],\n       [        nan, 2.06676e+05]])"
     },
     "execution_count": 47,
     "metadata": {},
     "output_type": "execute_result"
    }
   ],
   "source": [
    "(unique, counts) = np.unique(predictions_image, return_counts=True)\n",
    "frequencies = np.asarray((unique, counts)).T\n",
    "frequencies"
   ],
   "metadata": {
    "collapsed": false
   }
  },
  {
   "cell_type": "code",
   "execution_count": 48,
   "outputs": [
    {
     "data": {
      "text/plain": "<Figure size 800x400 with 1 Axes>",
      "image/png": "[encoded data removed]"
     },
     "metadata": {},
     "output_type": "display_data"
    }
   ],
   "source": [
    "from matplotlib.pyplot import figure\n",
    "import matplotlib.patches as mpatches\n",
    "\n",
    "h = img_arr.shape[1]\n",
    "w = img_arr.shape[2]\n",
    "\n",
    "pred_map = predictions_image.reshape(h, w)\n",
    "\n",
    "\n",
    "values = np.unique(pred_map.ravel())\n",
    "\n",
    "plt.figure(figsize=(8,4))\n",
    "im = plt.imshow(pred_map, interpolation='none')\n",
    "\n",
    "# get the colors of the values, according to the\n",
    "# colormap used by imshow\n",
    "colors = [ im.cmap(im.norm(value)) for value in values]\n",
    "# create a patch (proxy artist) for every color\n",
    "patches = [ mpatches.Patch(color=colors[i], label=\"Class {l}\".format(l=values[i]) ) for i in range(len(values)) ]\n",
    "# put those patched as legend-handles into the legend\n",
    "plt.legend(handles=patches, bbox_to_anchor=(1.05, 1), loc=2, borderaxespad=0. )\n",
    "\n",
    "plt.show()"
   ],
   "metadata": {
    "collapsed": false
   }
  },
  {
   "cell_type": "code",
   "execution_count": null,
   "outputs": [],
   "source": [],
   "metadata": {
    "collapsed": false
   }
  },
  {
   "cell_type": "code",
   "execution_count": 175,
   "outputs": [],
   "source": [],
   "metadata": {
    "collapsed": false
   }
  }
 ],
 "metadata": {
  "kernelspec": {
   "display_name": "Python 3",
   "language": "python",
   "name": "python3"
  },
  "language_info": {
   "codemirror_mode": {
    "name": "ipython",
    "version": 2
   },
   "file_extension": ".py",
   "mimetype": "text/x-python",
   "name": "python",
   "nbconvert_exporter": "python",
   "pygments_lexer": "ipython2",
   "version": "2.7.6"
  }
 },
 "nbformat": 4,
 "nbformat_minor": 0
}
