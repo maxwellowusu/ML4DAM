{
 "cells": [
  {
   "cell_type": "markdown",
   "metadata": {},
   "source": [
    "# Machine Learning for Deprived Area Mapping (ML4DAM)"
   ]
  },
  {
   "cell_type": "markdown",
   "metadata": {},
   "source": [
    "## Using Contextual features extracted from Sentinel 2"
   ]
  },
  {
   "cell_type": "code",
   "execution_count": 1,
   "metadata": {},
   "outputs": [],
   "source": [
    "# imprt libraries \n",
    "import os \n",
    "from glob import glob\n",
    "import numpy as np\n",
    "import pandas as pd\n",
    "from osgeo import gdal\n",
    "import rasterio \n",
    "from rasterio.plot import show\n",
    "from rasterio.merge import merge\n",
    "import matplotlib.pyplot as plt\n",
    "\n",
    "from utils import utils\n",
    "from utils import util_preprocess\n"
   ]
  },
  {
   "cell_type": "markdown",
   "metadata": {},
   "source": [
    "Set Working directorate "
   ]
  },
  {
   "cell_type": "code",
   "execution_count": 2,
   "metadata": {},
   "outputs": [],
   "source": [
    "# Get abosolute path of the current folder\n",
    "abspath_curr = 'C:/Users/mowus/Documents/GWU/gwu_work/ML4DAM/'\n",
    "\n",
    "# Target\n",
    "target = 'class'\n",
    "\n",
    "# Random seed\n",
    "random_seed = 42\n",
    "\n",
    "# Set random seed in numpy\n",
    "import numpy as np\n",
    "np.random.seed(random_seed)"
   ]
  },
  {
   "cell_type": "markdown",
   "metadata": {},
   "source": [
    "## Fetch and load contextual features "
   ]
  },
  {
   "cell_type": "code",
   "execution_count": 8,
   "metadata": {},
   "outputs": [],
   "source": [
    "# load contextual ffeature \n",
    "\n",
    "RasterTiles = sorted(glob('C:/Users/mowus/Documents/GWU/gwu_work/ML4DAM/data/nairobi/final/spfea/*.tif'))\n",
    "MaskTiles = sorted(glob('C:/Users/mowus/Documents/GWU/gwu_work/ML4DAM/data/nairobi/final/mask/*.tif'))"
   ]
  },
  {
   "cell_type": "code",
   "execution_count": 113,
   "metadata": {},
   "outputs": [],
   "source": [
    "Tiles = []\n",
    "for item in zip(RasterTiles, MaskTiles):\n",
    "    # print(item)\n",
    "    Tiles.append(item)\n",
    "\n",
    "\n",
    "len(Tiles)\n",
    "\n",
    "import random\n",
    "random.seed(42)\n",
    "random.shuffle(Tiles)"
   ]
  },
  {
   "cell_type": "code",
   "execution_count": 114,
   "metadata": {},
   "outputs": [
    {
     "data": {
      "text/plain": [
       "('C:/Users/mowus/Documents/GWU/gwu_work/ML4DAM/data/nairobi/final/spfea\\\\nai_area7.tif',\n",
       " 'C:/Users/mowus/Documents/GWU/gwu_work/ML4DAM/data/nairobi/final/mask\\\\nai_area7.tif')"
      ]
     },
     "execution_count": 114,
     "metadata": {},
     "output_type": "execute_result"
    }
   ],
   "source": [
    "# import random\n",
    "# random.shuffle(Tiles)\n",
    "\n",
    "Tiles[1]"
   ]
  },
  {
   "cell_type": "code",
   "execution_count": 115,
   "metadata": {},
   "outputs": [],
   "source": [
    "RasterTiles = []\n",
    "MaskTiles = []\n",
    "for raw_image, label in Tiles:\n",
    "    RasterTiles.append(raw_image)\n",
    "    MaskTiles.append(label)\n"
   ]
  },
  {
   "cell_type": "code",
   "execution_count": 118,
   "metadata": {},
   "outputs": [
    {
     "data": {
      "text/plain": [
       "['C:/Users/mowus/Documents/GWU/gwu_work/ML4DAM/data/nairobi/final/mask\\\\nai_area30.tif',\n",
       " 'C:/Users/mowus/Documents/GWU/gwu_work/ML4DAM/data/nairobi/final/mask\\\\nai_area7.tif',\n",
       " 'C:/Users/mowus/Documents/GWU/gwu_work/ML4DAM/data/nairobi/final/mask\\\\nai_area39.tif',\n",
       " 'C:/Users/mowus/Documents/GWU/gwu_work/ML4DAM/data/nairobi/final/mask\\\\nai_area26.tif',\n",
       " 'C:/Users/mowus/Documents/GWU/gwu_work/ML4DAM/data/nairobi/final/mask\\\\nai_area24.tif',\n",
       " 'C:/Users/mowus/Documents/GWU/gwu_work/ML4DAM/data/nairobi/final/mask\\\\nai_area25.tif',\n",
       " 'C:/Users/mowus/Documents/GWU/gwu_work/ML4DAM/data/nairobi/final/mask\\\\nai_area28.tif',\n",
       " 'C:/Users/mowus/Documents/GWU/gwu_work/ML4DAM/data/nairobi/final/mask\\\\nai_area21.tif',\n",
       " 'C:/Users/mowus/Documents/GWU/gwu_work/ML4DAM/data/nairobi/final/mask\\\\nai_area6.tif',\n",
       " 'C:/Users/mowus/Documents/GWU/gwu_work/ML4DAM/data/nairobi/final/mask\\\\nai_area42.tif',\n",
       " 'C:/Users/mowus/Documents/GWU/gwu_work/ML4DAM/data/nairobi/final/mask\\\\nai_area16.tif',\n",
       " 'C:/Users/mowus/Documents/GWU/gwu_work/ML4DAM/data/nairobi/final/mask\\\\nai_area11.tif',\n",
       " 'C:/Users/mowus/Documents/GWU/gwu_work/ML4DAM/data/nairobi/final/mask\\\\nai_area18.tif',\n",
       " 'C:/Users/mowus/Documents/GWU/gwu_work/ML4DAM/data/nairobi/final/mask\\\\nai_area20.tif',\n",
       " 'C:/Users/mowus/Documents/GWU/gwu_work/ML4DAM/data/nairobi/final/mask\\\\nai_area22.tif',\n",
       " 'C:/Users/mowus/Documents/GWU/gwu_work/ML4DAM/data/nairobi/final/mask\\\\nai_area15.tif',\n",
       " 'C:/Users/mowus/Documents/GWU/gwu_work/ML4DAM/data/nairobi/final/mask\\\\nai_area19.tif',\n",
       " 'C:/Users/mowus/Documents/GWU/gwu_work/ML4DAM/data/nairobi/final/mask\\\\nai_area4.tif',\n",
       " 'C:/Users/mowus/Documents/GWU/gwu_work/ML4DAM/data/nairobi/final/mask\\\\nai_area9.tif',\n",
       " 'C:/Users/mowus/Documents/GWU/gwu_work/ML4DAM/data/nairobi/final/mask\\\\nai_area13.tif',\n",
       " 'C:/Users/mowus/Documents/GWU/gwu_work/ML4DAM/data/nairobi/final/mask\\\\nai_area29.tif',\n",
       " 'C:/Users/mowus/Documents/GWU/gwu_work/ML4DAM/data/nairobi/final/mask\\\\nai_area31.tif',\n",
       " 'C:/Users/mowus/Documents/GWU/gwu_work/ML4DAM/data/nairobi/final/mask\\\\nai_area32.tif',\n",
       " 'C:/Users/mowus/Documents/GWU/gwu_work/ML4DAM/data/nairobi/final/mask\\\\nai_area0.tif',\n",
       " 'C:/Users/mowus/Documents/GWU/gwu_work/ML4DAM/data/nairobi/final/mask\\\\nai_area10.tif',\n",
       " 'C:/Users/mowus/Documents/GWU/gwu_work/ML4DAM/data/nairobi/final/mask\\\\nai_area38.tif',\n",
       " 'C:/Users/mowus/Documents/GWU/gwu_work/ML4DAM/data/nairobi/final/mask\\\\nai_area37.tif',\n",
       " 'C:/Users/mowus/Documents/GWU/gwu_work/ML4DAM/data/nairobi/final/mask\\\\nai_area14.tif',\n",
       " 'C:/Users/mowus/Documents/GWU/gwu_work/ML4DAM/data/nairobi/final/mask\\\\nai_area12.tif',\n",
       " 'C:/Users/mowus/Documents/GWU/gwu_work/ML4DAM/data/nairobi/final/mask\\\\nai_area3.tif',\n",
       " 'C:/Users/mowus/Documents/GWU/gwu_work/ML4DAM/data/nairobi/final/mask\\\\nai_area27.tif',\n",
       " 'C:/Users/mowus/Documents/GWU/gwu_work/ML4DAM/data/nairobi/final/mask\\\\nai_area33.tif',\n",
       " 'C:/Users/mowus/Documents/GWU/gwu_work/ML4DAM/data/nairobi/final/mask\\\\nai_area35.tif',\n",
       " 'C:/Users/mowus/Documents/GWU/gwu_work/ML4DAM/data/nairobi/final/mask\\\\nai_area36.tif',\n",
       " 'C:/Users/mowus/Documents/GWU/gwu_work/ML4DAM/data/nairobi/final/mask\\\\nai_area41.tif',\n",
       " 'C:/Users/mowus/Documents/GWU/gwu_work/ML4DAM/data/nairobi/final/mask\\\\nai_area5.tif',\n",
       " 'C:/Users/mowus/Documents/GWU/gwu_work/ML4DAM/data/nairobi/final/mask\\\\nai_area40.tif',\n",
       " 'C:/Users/mowus/Documents/GWU/gwu_work/ML4DAM/data/nairobi/final/mask\\\\nai_area34.tif',\n",
       " 'C:/Users/mowus/Documents/GWU/gwu_work/ML4DAM/data/nairobi/final/mask\\\\nai_area2.tif',\n",
       " 'C:/Users/mowus/Documents/GWU/gwu_work/ML4DAM/data/nairobi/final/mask\\\\nai_area1.tif',\n",
       " 'C:/Users/mowus/Documents/GWU/gwu_work/ML4DAM/data/nairobi/final/mask\\\\nai_area17.tif',\n",
       " 'C:/Users/mowus/Documents/GWU/gwu_work/ML4DAM/data/nairobi/final/mask\\\\nai_area8.tif',\n",
       " 'C:/Users/mowus/Documents/GWU/gwu_work/ML4DAM/data/nairobi/final/mask\\\\nai_area23.tif']"
      ]
     },
     "execution_count": 118,
     "metadata": {},
     "output_type": "execute_result"
    }
   ],
   "source": [
    "MaskTiles"
   ]
  },
  {
   "cell_type": "code",
   "execution_count": 119,
   "metadata": {},
   "outputs": [],
   "source": [
    "X_train_list = RasterTiles[0:30]\n",
    "X_val_list = RasterTiles[31:35]\n",
    "X_test_list = RasterTiles[36:42]\n",
    "\n",
    "\n",
    "y_train_list = MaskTiles[0:30]\n",
    "y_val_list = MaskTiles[31:35]\n",
    "y_test_list = MaskTiles[36:42]\n"
   ]
  },
  {
   "cell_type": "code",
   "execution_count": 131,
   "metadata": {},
   "outputs": [
    {
     "name": "stdout",
     "output_type": "stream",
     "text": [
      "['C:/Users/mowus/Documents/GWU/gwu_work/ML4DAM/data/nairobi/final/spfea\\\\nai_area7.tif', 'C:/Users/mowus/Documents/GWU/gwu_work/ML4DAM/data/nairobi/final/spfea\\\\nai_area39.tif', 'C:/Users/mowus/Documents/GWU/gwu_work/ML4DAM/data/nairobi/final/spfea\\\\nai_area26.tif', 'C:/Users/mowus/Documents/GWU/gwu_work/ML4DAM/data/nairobi/final/spfea\\\\nai_area24.tif', 'C:/Users/mowus/Documents/GWU/gwu_work/ML4DAM/data/nairobi/final/spfea\\\\nai_area25.tif']\n",
      "['C:/Users/mowus/Documents/GWU/gwu_work/ML4DAM/data/nairobi/final/mask\\\\nai_area7.tif', 'C:/Users/mowus/Documents/GWU/gwu_work/ML4DAM/data/nairobi/final/mask\\\\nai_area39.tif', 'C:/Users/mowus/Documents/GWU/gwu_work/ML4DAM/data/nairobi/final/mask\\\\nai_area26.tif', 'C:/Users/mowus/Documents/GWU/gwu_work/ML4DAM/data/nairobi/final/mask\\\\nai_area24.tif', 'C:/Users/mowus/Documents/GWU/gwu_work/ML4DAM/data/nairobi/final/mask\\\\nai_area25.tif']\n"
     ]
    }
   ],
   "source": [
    "print(X_train_list[1:6])\n",
    "print(y_train_list[1:6])"
   ]
  },
  {
   "cell_type": "markdown",
   "metadata": {},
   "source": [
    "### Process train, validationa and test data"
   ]
  },
  {
   "cell_type": "code",
   "execution_count": 120,
   "metadata": {},
   "outputs": [
    {
     "name": "stdout",
     "output_type": "stream",
     "text": [
      "(45, 1686, 2879)\n",
      "(1, 1686, 2879)\n",
      "(45, 1036, 479)\n",
      "(1, 1036, 479)\n",
      "(45, 929, 2087)\n",
      "(1, 929, 2087)\n"
     ]
    }
   ],
   "source": [
    "# Preparing training\n",
    "\n",
    "raster_to_mosiac = []\n",
    "\n",
    "for p in X_train_list:\n",
    "    raster = rasterio.open(p)\n",
    "    raster_to_mosiac.append(raster)\n",
    "\n",
    "\n",
    "Xtrain, out_transform = merge(raster_to_mosiac)\n",
    "print(Xtrain.shape)\n",
    "\n",
    "raster_to_mosiac = []\n",
    "\n",
    "for p in y_train_list:\n",
    "    raster = rasterio.open(p)\n",
    "    raster_to_mosiac.append(raster)\n",
    "\n",
    "ytrain, out_transform = merge(raster_to_mosiac)\n",
    "print(ytrain.shape)\n",
    "\n",
    "# Preparing validation \n",
    "\n",
    "raster_to_mosiac = []\n",
    "\n",
    "for p in X_val_list:\n",
    "    raster = rasterio.open(p)\n",
    "    raster_to_mosiac.append(raster)\n",
    "\n",
    "\n",
    "Xval, out_transform = merge(raster_to_mosiac)\n",
    "print(Xval.shape)\n",
    "\n",
    "raster_to_mosiac = []\n",
    "\n",
    "for p in y_val_list:\n",
    "    raster = rasterio.open(p)\n",
    "    raster_to_mosiac.append(raster)\n",
    "\n",
    "yval, out_transform = merge(raster_to_mosiac)\n",
    "print(yval.shape)\n",
    "\n",
    "\n",
    "\n",
    "# Preparing test data\n",
    "\n",
    "raster_to_mosiac = []\n",
    "\n",
    "for p in X_test_list:\n",
    "    raster = rasterio.open(p)\n",
    "    raster_to_mosiac.append(raster)\n",
    "\n",
    "\n",
    "Xtest, out_transform = merge(raster_to_mosiac)\n",
    "print(Xtest.shape)\n",
    "\n",
    "raster_to_mosiac = []\n",
    "\n",
    "for p in y_test_list:\n",
    "    raster = rasterio.open(p)\n",
    "    raster_to_mosiac.append(raster)\n",
    "\n",
    "ytest, out_transform = merge(raster_to_mosiac)\n",
    "print(ytest.shape)\n"
   ]
  },
  {
   "cell_type": "code",
   "execution_count": 121,
   "metadata": {},
   "outputs": [
    {
     "name": "stdout",
     "output_type": "stream",
     "text": [
      "Training data set\n",
      " [[     0 180732]\n",
      " [     1  90018]]\n",
      "(45, 270750)\n",
      "(1, 270750)\n",
      "\n",
      " Validation data set\n",
      " [[    0 19514]\n",
      " [    1 16586]]\n",
      "(45, 36100)\n",
      "(1, 36100)\n",
      "\n",
      " Test data set\n",
      " [[0.0000e+00 3.4935e+04]\n",
      " [1.0000e+00 1.9215e+04]]\n",
      "(45, 54150)\n",
      "(1, 54150)\n"
     ]
    }
   ],
   "source": [
    "X_train = Xtrain[:, Xtrain[0,...]!=-9999]\n",
    "y_train = ytrain[:, ytrain[0,...]!=-9999]\n",
    "y_train =y_train.astype(int)\n",
    "(unique, counts) = np.unique(y_train, return_counts=True)\n",
    "frequencies = np.asarray((unique, counts)).T\n",
    "print('Training data set\\n', frequencies)\n",
    "print(X_train.shape)\n",
    "print(y_train.shape)\n",
    "\n",
    "\n",
    "X_train = np.transpose(X_train)\n",
    "y_train = np.transpose(y_train)\n",
    "\n",
    "# Validation\n",
    "\n",
    "X_val = Xval[:, Xval[0,...]!=-9999]\n",
    "y_val = yval[:, yval[0,...]!=-9999]\n",
    "y_val = y_val.astype(int)\n",
    "(unique, counts) = np.unique(y_val, return_counts=True)\n",
    "frequencies = np.asarray((unique, counts)).T\n",
    "print('\\n Validation data set\\n', frequencies)\n",
    "\n",
    "print(X_val.shape)\n",
    "print(y_val.shape)\n",
    "\n",
    "\n",
    "X_val = np.transpose(X_val)\n",
    "y_val = np.transpose(y_val)\n",
    "\n",
    "# Test\n",
    "\n",
    "X_test = Xtest[:, Xtest[0,...]!=-9999]\n",
    "y_test = ytest[:, ytest[0,...]!=-9999]\n",
    "y_yest = y_test.astype(int)\n",
    "(unique, counts) = np.unique(y_test, return_counts=True)\n",
    "frequencies = np.asarray((unique, counts)).T\n",
    "print('\\n Test data set\\n', frequencies)\n",
    "\n",
    "print(X_test.shape)\n",
    "print(y_test.shape)\n",
    "\n",
    "\n",
    "X_test = np.transpose(X_test)\n",
    "y_test = np.transpose(y_test)\n"
   ]
  },
  {
   "cell_type": "markdown",
   "metadata": {},
   "source": [
    "### Standardize data"
   ]
  },
  {
   "cell_type": "code",
   "execution_count": 122,
   "metadata": {},
   "outputs": [],
   "source": [
    "from sklearn.preprocessing import StandardScaler\n",
    "from sklearn.impute import SimpleImputer\n",
    "\n",
    "# # Imputing missing values\n",
    "si = SimpleImputer(missing_values=0, strategy='mean')\n",
    "\n",
    "# impute the training data\n",
    "X_train = si.fit_transform(X_train)\n",
    "\n",
    "# impute the validation data\n",
    "X_val = si.fit_transform(X_val)\n",
    "\n",
    "# impute the test data\n",
    "X_test = si.fit_transform(X_test)\n",
    "\n",
    "# The StandardScaler\n",
    "ss = StandardScaler()\n",
    "\n",
    "# Standardize the training data\n",
    "X_train = ss.fit_transform(X_train)\n",
    "\n",
    "# Standardize the validation data\n",
    "X_val = ss.fit_transform(X_val)\n",
    "\n",
    "# Standardize the test data\n",
    "X_test = ss.fit_transform(X_test)"
   ]
  },
  {
   "cell_type": "markdown",
   "metadata": {},
   "source": [
    "### Modelling "
   ]
  },
  {
   "cell_type": "code",
   "execution_count": 68,
   "metadata": {},
   "outputs": [
    {
     "name": "stderr",
     "output_type": "stream",
     "text": [
      "C:\\Users\\mowus\\AppData\\Local\\Temp\\ipykernel_5272\\4036133893.py:7: DataConversionWarning: A column-vector y was passed when a 1d array was expected. Please change the shape of y to (n_samples,), for example using ravel().\n",
      "  model_rf1.fit(x, y)\n"
     ]
    },
    {
     "data": {
      "text/html": [
       "<style>#sk-container-id-1 {color: black;background-color: white;}#sk-container-id-1 pre{padding: 0;}#sk-container-id-1 div.sk-toggleable {background-color: white;}#sk-container-id-1 label.sk-toggleable__label {cursor: pointer;display: block;width: 100%;margin-bottom: 0;padding: 0.3em;box-sizing: border-box;text-align: center;}#sk-container-id-1 label.sk-toggleable__label-arrow:before {content: \"▸\";float: left;margin-right: 0.25em;color: #696969;}#sk-container-id-1 label.sk-toggleable__label-arrow:hover:before {color: black;}#sk-container-id-1 div.sk-estimator:hover label.sk-toggleable__label-arrow:before {color: black;}#sk-container-id-1 div.sk-toggleable__content {max-height: 0;max-width: 0;overflow: hidden;text-align: left;background-color: #f0f8ff;}#sk-container-id-1 div.sk-toggleable__content pre {margin: 0.2em;color: black;border-radius: 0.25em;background-color: #f0f8ff;}#sk-container-id-1 input.sk-toggleable__control:checked~div.sk-toggleable__content {max-height: 200px;max-width: 100%;overflow: auto;}#sk-container-id-1 input.sk-toggleable__control:checked~label.sk-toggleable__label-arrow:before {content: \"▾\";}#sk-container-id-1 div.sk-estimator input.sk-toggleable__control:checked~label.sk-toggleable__label {background-color: #d4ebff;}#sk-container-id-1 div.sk-label input.sk-toggleable__control:checked~label.sk-toggleable__label {background-color: #d4ebff;}#sk-container-id-1 input.sk-hidden--visually {border: 0;clip: rect(1px 1px 1px 1px);clip: rect(1px, 1px, 1px, 1px);height: 1px;margin: -1px;overflow: hidden;padding: 0;position: absolute;width: 1px;}#sk-container-id-1 div.sk-estimator {font-family: monospace;background-color: #f0f8ff;border: 1px dotted black;border-radius: 0.25em;box-sizing: border-box;margin-bottom: 0.5em;}#sk-container-id-1 div.sk-estimator:hover {background-color: #d4ebff;}#sk-container-id-1 div.sk-parallel-item::after {content: \"\";width: 100%;border-bottom: 1px solid gray;flex-grow: 1;}#sk-container-id-1 div.sk-label:hover label.sk-toggleable__label {background-color: #d4ebff;}#sk-container-id-1 div.sk-serial::before {content: \"\";position: absolute;border-left: 1px solid gray;box-sizing: border-box;top: 0;bottom: 0;left: 50%;z-index: 0;}#sk-container-id-1 div.sk-serial {display: flex;flex-direction: column;align-items: center;background-color: white;padding-right: 0.2em;padding-left: 0.2em;position: relative;}#sk-container-id-1 div.sk-item {position: relative;z-index: 1;}#sk-container-id-1 div.sk-parallel {display: flex;align-items: stretch;justify-content: center;background-color: white;position: relative;}#sk-container-id-1 div.sk-item::before, #sk-container-id-1 div.sk-parallel-item::before {content: \"\";position: absolute;border-left: 1px solid gray;box-sizing: border-box;top: 0;bottom: 0;left: 50%;z-index: -1;}#sk-container-id-1 div.sk-parallel-item {display: flex;flex-direction: column;z-index: 1;position: relative;background-color: white;}#sk-container-id-1 div.sk-parallel-item:first-child::after {align-self: flex-end;width: 50%;}#sk-container-id-1 div.sk-parallel-item:last-child::after {align-self: flex-start;width: 50%;}#sk-container-id-1 div.sk-parallel-item:only-child::after {width: 0;}#sk-container-id-1 div.sk-dashed-wrapped {border: 1px dashed gray;margin: 0 0.4em 0.5em 0.4em;box-sizing: border-box;padding-bottom: 0.4em;background-color: white;}#sk-container-id-1 div.sk-label label {font-family: monospace;font-weight: bold;display: inline-block;line-height: 1.2em;}#sk-container-id-1 div.sk-label-container {text-align: center;}#sk-container-id-1 div.sk-container {/* jupyter's `normalize.less` sets `[hidden] { display: none; }` but bootstrap.min.css set `[hidden] { display: none !important; }` so we also need the `!important` here to be able to override the default hidden behavior on the sphinx rendered scikit-learn.org. See: https://github.com/scikit-learn/scikit-learn/issues/21755 */display: inline-block !important;position: relative;}#sk-container-id-1 div.sk-text-repr-fallback {display: none;}</style><div id=\"sk-container-id-1\" class=\"sk-top-container\"><div class=\"sk-text-repr-fallback\"><pre>RandomForestClassifier(class_weight=&#x27;balanced&#x27;, max_depth=2000,\n",
       "                       min_samples_split=3, n_estimators=200, random_state=42)</pre><b>In a Jupyter environment, please rerun this cell to show the HTML representation or trust the notebook. <br />On GitHub, the HTML representation is unable to render, please try loading this page with nbviewer.org.</b></div><div class=\"sk-container\" hidden><div class=\"sk-item\"><div class=\"sk-estimator sk-toggleable\"><input class=\"sk-toggleable__control sk-hidden--visually\" id=\"sk-estimator-id-1\" type=\"checkbox\" checked><label for=\"sk-estimator-id-1\" class=\"sk-toggleable__label sk-toggleable__label-arrow\">RandomForestClassifier</label><div class=\"sk-toggleable__content\"><pre>RandomForestClassifier(class_weight=&#x27;balanced&#x27;, max_depth=2000,\n",
       "                       min_samples_split=3, n_estimators=200, random_state=42)</pre></div></div></div></div></div>"
      ],
      "text/plain": [
       "RandomForestClassifier(class_weight='balanced', max_depth=2000,\n",
       "                       min_samples_split=3, n_estimators=200, random_state=42)"
      ]
     },
     "execution_count": 68,
     "metadata": {},
     "output_type": "execute_result"
    }
   ],
   "source": [
    "# import XGBClassifier\n",
    "from xgboost import XGBClassifier\n",
    "\n",
    "\n",
    "# declare parameters\n",
    "params = {\n",
    "            'objective':'binary:logistic',\n",
    "            'max_depth': 4,\n",
    "            'alpha': 10,\n",
    "            'learning_rate': 1.0,\n",
    "            'n_estimators':100\n",
    "        }\n",
    "            \n",
    "            \n",
    "            \n",
    "# instantiate the classifier \n",
    "xgb_clf = XGBClassifier(**params)\n",
    "\n",
    "\n",
    "\n",
    "# fit the classifier to the training data\n",
    "xgb_clf.fit(X_train, y_train)"
   ]
  },
  {
   "cell_type": "code",
   "execution_count": 77,
   "metadata": {},
   "outputs": [
    {
     "name": "stdout",
     "output_type": "stream",
     "text": [
      "Test accuracy: 0.513130\n",
      "=== Confusion Matrix ===\n",
      "[[18524     0]\n",
      " [17576     0]]\n",
      "\n",
      "\n",
      "=== Classification Report ===\n",
      "              precision    recall  f1-score   support\n",
      "\n",
      "           0       0.51      1.00      0.68     18524\n",
      "           1       0.00      0.00      0.00     17576\n",
      "\n",
      "    accuracy                           0.51     36100\n",
      "   macro avg       0.26      0.50      0.34     36100\n",
      "weighted avg       0.26      0.51      0.35     36100\n",
      "\n"
     ]
    },
    {
     "name": "stderr",
     "output_type": "stream",
     "text": [
      "c:\\Users\\mowus\\.conda\\envs\\mongolia\\lib\\site-packages\\sklearn\\metrics\\_classification.py:1334: UndefinedMetricWarning: Precision and F-score are ill-defined and being set to 0.0 in labels with no predicted samples. Use `zero_division` parameter to control this behavior.\n",
      "  _warn_prf(average, modifier, msg_start, len(result))\n",
      "c:\\Users\\mowus\\.conda\\envs\\mongolia\\lib\\site-packages\\sklearn\\metrics\\_classification.py:1334: UndefinedMetricWarning: Precision and F-score are ill-defined and being set to 0.0 in labels with no predicted samples. Use `zero_division` parameter to control this behavior.\n",
      "  _warn_prf(average, modifier, msg_start, len(result))\n",
      "c:\\Users\\mowus\\.conda\\envs\\mongolia\\lib\\site-packages\\sklearn\\metrics\\_classification.py:1334: UndefinedMetricWarning: Precision and F-score are ill-defined and being set to 0.0 in labels with no predicted samples. Use `zero_division` parameter to control this behavior.\n",
      "  _warn_prf(average, modifier, msg_start, len(result))\n"
     ]
    }
   ],
   "source": [
    "# from sklearn.metrics import classification_report, confusion_matrix, accuracy_score\n",
    "\n",
    "# pred = model_rf1.predict(X_val)\n",
    "# mgl_test = accuracy_score(y_val, pred)\n",
    "# print((\"Test accuracy: %f\") % (mgl_test))\n",
    "# print(\"=== Confusion Matrix ===\")\n",
    "# print(confusion_matrix(y_val, pred))\n",
    "# print('\\n')\n",
    "# print(\"=== Classification Report ===\")\n",
    "# print(classification_report(y_val, pred))"
   ]
  },
  {
   "cell_type": "markdown",
   "metadata": {},
   "source": [
    "### XGBoost"
   ]
  },
  {
   "cell_type": "code",
   "execution_count": 132,
   "metadata": {},
   "outputs": [
    {
     "name": "stdout",
     "output_type": "stream",
     "text": [
      "[0]\tvalidation_0-error:0.26646\tvalidation_1-error:0.16490\n",
      "[1]\tvalidation_0-error:0.25625\tvalidation_1-error:0.16044\n",
      "[2]\tvalidation_0-error:0.25646\tvalidation_1-error:0.16842\n",
      "[3]\tvalidation_0-error:0.25579\tvalidation_1-error:0.16626\n",
      "[4]\tvalidation_0-error:0.25351\tvalidation_1-error:0.16729\n",
      "[5]\tvalidation_0-error:0.25587\tvalidation_1-error:0.16881\n",
      "[6]\tvalidation_0-error:0.25398\tvalidation_1-error:0.16765\n",
      "[7]\tvalidation_0-error:0.25356\tvalidation_1-error:0.16778\n",
      "[8]\tvalidation_0-error:0.25290\tvalidation_1-error:0.16792\n",
      "[9]\tvalidation_0-error:0.25377\tvalidation_1-error:0.16958\n",
      "[10]\tvalidation_0-error:0.25293\tvalidation_1-error:0.16950\n",
      "[11]\tvalidation_0-error:0.25288\tvalidation_1-error:0.16986\n",
      "[12]\tvalidation_0-error:0.25175\tvalidation_1-error:0.16997\n",
      "[13]\tvalidation_0-error:0.25039\tvalidation_1-error:0.16900\n",
      "[14]\tvalidation_0-error:0.25061\tvalidation_1-error:0.16850\n",
      "[15]\tvalidation_0-error:0.25054\tvalidation_1-error:0.16823\n",
      "[16]\tvalidation_0-error:0.25010\tvalidation_1-error:0.16809\n",
      "[17]\tvalidation_0-error:0.24910\tvalidation_1-error:0.16823\n",
      "[18]\tvalidation_0-error:0.24871\tvalidation_1-error:0.17006\n",
      "[19]\tvalidation_0-error:0.24767\tvalidation_1-error:0.17139\n",
      "[20]\tvalidation_0-error:0.24731\tvalidation_1-error:0.17202\n",
      "[21]\tvalidation_0-error:0.24707\tvalidation_1-error:0.17238\n",
      "[22]\tvalidation_0-error:0.24712\tvalidation_1-error:0.17235\n",
      "[23]\tvalidation_0-error:0.24682\tvalidation_1-error:0.17310\n",
      "[24]\tvalidation_0-error:0.24655\tvalidation_1-error:0.17313\n",
      "[25]\tvalidation_0-error:0.24545\tvalidation_1-error:0.17385\n",
      "[26]\tvalidation_0-error:0.24518\tvalidation_1-error:0.17404\n",
      "[27]\tvalidation_0-error:0.24487\tvalidation_1-error:0.17416\n",
      "[28]\tvalidation_0-error:0.24499\tvalidation_1-error:0.17449\n",
      "[29]\tvalidation_0-error:0.24374\tvalidation_1-error:0.17488\n",
      "[30]\tvalidation_0-error:0.24345\tvalidation_1-error:0.17540\n",
      "[31]\tvalidation_0-error:0.24292\tvalidation_1-error:0.17543\n",
      "[32]\tvalidation_0-error:0.24227\tvalidation_1-error:0.17634\n",
      "[33]\tvalidation_0-error:0.24103\tvalidation_1-error:0.17737\n",
      "[34]\tvalidation_0-error:0.24091\tvalidation_1-error:0.17759\n",
      "[35]\tvalidation_0-error:0.24070\tvalidation_1-error:0.17748\n",
      "[36]\tvalidation_0-error:0.24020\tvalidation_1-error:0.17759\n",
      "[37]\tvalidation_0-error:0.23975\tvalidation_1-error:0.17762\n",
      "[38]\tvalidation_0-error:0.23949\tvalidation_1-error:0.17817\n",
      "[39]\tvalidation_0-error:0.23896\tvalidation_1-error:0.17837\n",
      "[40]\tvalidation_0-error:0.23878\tvalidation_1-error:0.17825\n",
      "[41]\tvalidation_0-error:0.23860\tvalidation_1-error:0.17831\n",
      "[42]\tvalidation_0-error:0.23774\tvalidation_1-error:0.17864\n",
      "[43]\tvalidation_0-error:0.23744\tvalidation_1-error:0.17870\n",
      "[44]\tvalidation_0-error:0.23641\tvalidation_1-error:0.17917\n",
      "[45]\tvalidation_0-error:0.23627\tvalidation_1-error:0.17898\n",
      "[46]\tvalidation_0-error:0.23608\tvalidation_1-error:0.17875\n",
      "[47]\tvalidation_0-error:0.23536\tvalidation_1-error:0.17803\n",
      "[48]\tvalidation_0-error:0.23512\tvalidation_1-error:0.17784\n",
      "[49]\tvalidation_0-error:0.23434\tvalidation_1-error:0.17828\n",
      "[50]\tvalidation_0-error:0.23316\tvalidation_1-error:0.17831\n",
      "[51]\tvalidation_0-error:0.23287\tvalidation_1-error:0.17831\n",
      "[52]\tvalidation_0-error:0.23177\tvalidation_1-error:0.17889\n",
      "[53]\tvalidation_0-error:0.23143\tvalidation_1-error:0.17848\n",
      "[54]\tvalidation_0-error:0.23132\tvalidation_1-error:0.17867\n",
      "[55]\tvalidation_0-error:0.23046\tvalidation_1-error:0.17950\n",
      "[56]\tvalidation_0-error:0.23029\tvalidation_1-error:0.17873\n",
      "[57]\tvalidation_0-error:0.23006\tvalidation_1-error:0.17911\n",
      "[58]\tvalidation_0-error:0.23013\tvalidation_1-error:0.18028\n",
      "[59]\tvalidation_0-error:0.23005\tvalidation_1-error:0.18022\n",
      "[60]\tvalidation_0-error:0.22993\tvalidation_1-error:0.18022\n",
      "[61]\tvalidation_0-error:0.22955\tvalidation_1-error:0.18025\n",
      "[62]\tvalidation_0-error:0.22923\tvalidation_1-error:0.18022\n",
      "[63]\tvalidation_0-error:0.22844\tvalidation_1-error:0.18044\n",
      "[64]\tvalidation_0-error:0.22782\tvalidation_1-error:0.18080\n",
      "[65]\tvalidation_0-error:0.22732\tvalidation_1-error:0.18097\n",
      "[66]\tvalidation_0-error:0.22720\tvalidation_1-error:0.18094\n",
      "[67]\tvalidation_0-error:0.22708\tvalidation_1-error:0.18105\n",
      "[68]\tvalidation_0-error:0.22677\tvalidation_1-error:0.18105\n",
      "[69]\tvalidation_0-error:0.22626\tvalidation_1-error:0.18133\n",
      "[70]\tvalidation_0-error:0.22587\tvalidation_1-error:0.18169\n",
      "[71]\tvalidation_0-error:0.22560\tvalidation_1-error:0.18172\n",
      "[72]\tvalidation_0-error:0.22550\tvalidation_1-error:0.18177\n",
      "[73]\tvalidation_0-error:0.22553\tvalidation_1-error:0.18139\n",
      "[74]\tvalidation_0-error:0.22414\tvalidation_1-error:0.18125\n",
      "[75]\tvalidation_0-error:0.22342\tvalidation_1-error:0.18152\n",
      "[76]\tvalidation_0-error:0.22281\tvalidation_1-error:0.18030\n",
      "[77]\tvalidation_0-error:0.22261\tvalidation_1-error:0.18044\n",
      "[78]\tvalidation_0-error:0.22210\tvalidation_1-error:0.17986\n",
      "[79]\tvalidation_0-error:0.22177\tvalidation_1-error:0.18033\n",
      "[80]\tvalidation_0-error:0.22171\tvalidation_1-error:0.18053\n",
      "[81]\tvalidation_0-error:0.22133\tvalidation_1-error:0.18086\n",
      "[82]\tvalidation_0-error:0.22106\tvalidation_1-error:0.18091\n",
      "[83]\tvalidation_0-error:0.22072\tvalidation_1-error:0.18111\n",
      "[84]\tvalidation_0-error:0.22058\tvalidation_1-error:0.18097\n",
      "[85]\tvalidation_0-error:0.22026\tvalidation_1-error:0.18111\n",
      "[86]\tvalidation_0-error:0.22006\tvalidation_1-error:0.18108\n",
      "[87]\tvalidation_0-error:0.21969\tvalidation_1-error:0.18150\n",
      "[88]\tvalidation_0-error:0.21898\tvalidation_1-error:0.18119\n",
      "[89]\tvalidation_0-error:0.21870\tvalidation_1-error:0.18133\n",
      "[90]\tvalidation_0-error:0.21857\tvalidation_1-error:0.18133\n",
      "[91]\tvalidation_0-error:0.21820\tvalidation_1-error:0.18133\n",
      "[92]\tvalidation_0-error:0.21778\tvalidation_1-error:0.18163\n",
      "[93]\tvalidation_0-error:0.21763\tvalidation_1-error:0.18158\n",
      "[94]\tvalidation_0-error:0.21726\tvalidation_1-error:0.18141\n",
      "[95]\tvalidation_0-error:0.21695\tvalidation_1-error:0.18116\n",
      "[96]\tvalidation_0-error:0.21668\tvalidation_1-error:0.18141\n",
      "[97]\tvalidation_0-error:0.21644\tvalidation_1-error:0.18147\n",
      "[98]\tvalidation_0-error:0.21569\tvalidation_1-error:0.18127\n",
      "[99]\tvalidation_0-error:0.21457\tvalidation_1-error:0.18066\n",
      "[100]\tvalidation_0-error:0.21413\tvalidation_1-error:0.18080\n",
      "[101]\tvalidation_0-error:0.21400\tvalidation_1-error:0.18108\n"
     ]
    },
    {
     "data": {
      "text/html": [
       "<style>#sk-container-id-37 {color: black;background-color: white;}#sk-container-id-37 pre{padding: 0;}#sk-container-id-37 div.sk-toggleable {background-color: white;}#sk-container-id-37 label.sk-toggleable__label {cursor: pointer;display: block;width: 100%;margin-bottom: 0;padding: 0.3em;box-sizing: border-box;text-align: center;}#sk-container-id-37 label.sk-toggleable__label-arrow:before {content: \"▸\";float: left;margin-right: 0.25em;color: #696969;}#sk-container-id-37 label.sk-toggleable__label-arrow:hover:before {color: black;}#sk-container-id-37 div.sk-estimator:hover label.sk-toggleable__label-arrow:before {color: black;}#sk-container-id-37 div.sk-toggleable__content {max-height: 0;max-width: 0;overflow: hidden;text-align: left;background-color: #f0f8ff;}#sk-container-id-37 div.sk-toggleable__content pre {margin: 0.2em;color: black;border-radius: 0.25em;background-color: #f0f8ff;}#sk-container-id-37 input.sk-toggleable__control:checked~div.sk-toggleable__content {max-height: 200px;max-width: 100%;overflow: auto;}#sk-container-id-37 input.sk-toggleable__control:checked~label.sk-toggleable__label-arrow:before {content: \"▾\";}#sk-container-id-37 div.sk-estimator input.sk-toggleable__control:checked~label.sk-toggleable__label {background-color: #d4ebff;}#sk-container-id-37 div.sk-label input.sk-toggleable__control:checked~label.sk-toggleable__label {background-color: #d4ebff;}#sk-container-id-37 input.sk-hidden--visually {border: 0;clip: rect(1px 1px 1px 1px);clip: rect(1px, 1px, 1px, 1px);height: 1px;margin: -1px;overflow: hidden;padding: 0;position: absolute;width: 1px;}#sk-container-id-37 div.sk-estimator {font-family: monospace;background-color: #f0f8ff;border: 1px dotted black;border-radius: 0.25em;box-sizing: border-box;margin-bottom: 0.5em;}#sk-container-id-37 div.sk-estimator:hover {background-color: #d4ebff;}#sk-container-id-37 div.sk-parallel-item::after {content: \"\";width: 100%;border-bottom: 1px solid gray;flex-grow: 1;}#sk-container-id-37 div.sk-label:hover label.sk-toggleable__label {background-color: #d4ebff;}#sk-container-id-37 div.sk-serial::before {content: \"\";position: absolute;border-left: 1px solid gray;box-sizing: border-box;top: 0;bottom: 0;left: 50%;z-index: 0;}#sk-container-id-37 div.sk-serial {display: flex;flex-direction: column;align-items: center;background-color: white;padding-right: 0.2em;padding-left: 0.2em;position: relative;}#sk-container-id-37 div.sk-item {position: relative;z-index: 1;}#sk-container-id-37 div.sk-parallel {display: flex;align-items: stretch;justify-content: center;background-color: white;position: relative;}#sk-container-id-37 div.sk-item::before, #sk-container-id-37 div.sk-parallel-item::before {content: \"\";position: absolute;border-left: 1px solid gray;box-sizing: border-box;top: 0;bottom: 0;left: 50%;z-index: -1;}#sk-container-id-37 div.sk-parallel-item {display: flex;flex-direction: column;z-index: 1;position: relative;background-color: white;}#sk-container-id-37 div.sk-parallel-item:first-child::after {align-self: flex-end;width: 50%;}#sk-container-id-37 div.sk-parallel-item:last-child::after {align-self: flex-start;width: 50%;}#sk-container-id-37 div.sk-parallel-item:only-child::after {width: 0;}#sk-container-id-37 div.sk-dashed-wrapped {border: 1px dashed gray;margin: 0 0.4em 0.5em 0.4em;box-sizing: border-box;padding-bottom: 0.4em;background-color: white;}#sk-container-id-37 div.sk-label label {font-family: monospace;font-weight: bold;display: inline-block;line-height: 1.2em;}#sk-container-id-37 div.sk-label-container {text-align: center;}#sk-container-id-37 div.sk-container {/* jupyter's `normalize.less` sets `[hidden] { display: none; }` but bootstrap.min.css set `[hidden] { display: none !important; }` so we also need the `!important` here to be able to override the default hidden behavior on the sphinx rendered scikit-learn.org. See: https://github.com/scikit-learn/scikit-learn/issues/21755 */display: inline-block !important;position: relative;}#sk-container-id-37 div.sk-text-repr-fallback {display: none;}</style><div id=\"sk-container-id-37\" class=\"sk-top-container\"><div class=\"sk-text-repr-fallback\"><pre>XGBClassifier(base_score=0.5, booster=&#x27;gbtree&#x27;, callbacks=None,\n",
       "              colsample_bylevel=1, colsample_bynode=1, colsample_bytree=1,\n",
       "              early_stopping_rounds=100, enable_categorical=False,\n",
       "              eval_metric=&#x27;error&#x27;, feature_types=None, gamma=0, gpu_id=-1,\n",
       "              grow_policy=&#x27;depthwise&#x27;, importance_type=None,\n",
       "              interaction_constraints=&#x27;&#x27;, learning_rate=0.300000012,\n",
       "              max_bin=256, max_cat_threshold=64, max_cat_to_onehot=4,\n",
       "              max_delta_step=0, max_depth=6, max_leaves=0, min_child_weight=1,\n",
       "              missing=nan, monotone_constraints=&#x27;()&#x27;, n_estimators=2000,\n",
       "              n_jobs=0, num_parallel_tree=1, predictor=&#x27;auto&#x27;, random_state=42, ...)</pre><b>In a Jupyter environment, please rerun this cell to show the HTML representation or trust the notebook. <br />On GitHub, the HTML representation is unable to render, please try loading this page with nbviewer.org.</b></div><div class=\"sk-container\" hidden><div class=\"sk-item\"><div class=\"sk-estimator sk-toggleable\"><input class=\"sk-toggleable__control sk-hidden--visually\" id=\"sk-estimator-id-37\" type=\"checkbox\" checked><label for=\"sk-estimator-id-37\" class=\"sk-toggleable__label sk-toggleable__label-arrow\">XGBClassifier</label><div class=\"sk-toggleable__content\"><pre>XGBClassifier(base_score=0.5, booster=&#x27;gbtree&#x27;, callbacks=None,\n",
       "              colsample_bylevel=1, colsample_bynode=1, colsample_bytree=1,\n",
       "              early_stopping_rounds=100, enable_categorical=False,\n",
       "              eval_metric=&#x27;error&#x27;, feature_types=None, gamma=0, gpu_id=-1,\n",
       "              grow_policy=&#x27;depthwise&#x27;, importance_type=None,\n",
       "              interaction_constraints=&#x27;&#x27;, learning_rate=0.300000012,\n",
       "              max_bin=256, max_cat_threshold=64, max_cat_to_onehot=4,\n",
       "              max_delta_step=0, max_depth=6, max_leaves=0, min_child_weight=1,\n",
       "              missing=nan, monotone_constraints=&#x27;()&#x27;, n_estimators=2000,\n",
       "              n_jobs=0, num_parallel_tree=1, predictor=&#x27;auto&#x27;, random_state=42, ...)</pre></div></div></div></div></div>"
      ],
      "text/plain": [
       "XGBClassifier(base_score=0.5, booster='gbtree', callbacks=None,\n",
       "              colsample_bylevel=1, colsample_bynode=1, colsample_bytree=1,\n",
       "              early_stopping_rounds=100, enable_categorical=False,\n",
       "              eval_metric='error', feature_types=None, gamma=0, gpu_id=-1,\n",
       "              grow_policy='depthwise', importance_type=None,\n",
       "              interaction_constraints='', learning_rate=0.300000012,\n",
       "              max_bin=256, max_cat_threshold=64, max_cat_to_onehot=4,\n",
       "              max_delta_step=0, max_depth=6, max_leaves=0, min_child_weight=1,\n",
       "              missing=nan, monotone_constraints='()', n_estimators=2000,\n",
       "              n_jobs=0, num_parallel_tree=1, predictor='auto', random_state=42, ...)"
      ]
     },
     "execution_count": 132,
     "metadata": {},
     "output_type": "execute_result"
    }
   ],
   "source": [
    "# import XGBClassifier\n",
    "from xgboost import XGBClassifier\n",
    "\n",
    "params = {'n_estimators': 2000,\n",
    "          'scale_pos_weight': 2,\n",
    "          'early_stopping_rounds': 100,\n",
    "          'eval_metric':'error',\n",
    "        #   'min_child_weight':5,\n",
    "        #   'subsample': 0.5,\n",
    "        #   'colsample_bytree':0.5\n",
    "        #   'max_depth' : 5,\n",
    "        #   'gamma':0.05\n",
    "         }\n",
    "\n",
    "model = XGBClassifier(**params, validate_parameters=True, random_state=random_seed)\n",
    "model.fit(X_train, y_train,\n",
    "            eval_set=[(X_train, y_train), (X_val, y_val)])"
   ]
  },
  {
   "cell_type": "code",
   "execution_count": 133,
   "metadata": {},
   "outputs": [
    {
     "name": "stdout",
     "output_type": "stream",
     "text": [
      "F1: [0.6698824927986832]\n",
      "Recall: [0.7624772313296904]\n",
      "Precision: [0.59734170505973]\n"
     ]
    },
    {
     "data": {
      "text/plain": [
       "<matplotlib.legend.Legend at 0x1b6e4d6bc10>"
      ]
     },
     "execution_count": 133,
     "metadata": {},
     "output_type": "execute_result"
    },
    {
     "data": {
      "image/png": "[encoded data removed]",
      "text/plain": [
       "<Figure size 1000x700 with 1 Axes>"
      ]
     },
     "metadata": {},
     "output_type": "display_data"
    }
   ],
   "source": [
    "from catboost.utils import eval_metric\n",
    "# import CatBoost\n",
    "\n",
    "predictions = model.predict(X_test)\n",
    "\n",
    "F1 = eval_metric(y_test, predictions, 'F1')\n",
    "Precision = eval_metric(y_test, predictions, 'Precision')\n",
    "Recall = eval_metric(y_test, predictions, 'Recall')\n",
    "print(\"F1:\", F1)\n",
    "print(\"Recall:\", Recall)\n",
    "print(\"Precision:\", Precision)\n",
    "\n",
    "from matplotlib import pyplot as plt\n",
    "results = model.evals_result()\n",
    "\n",
    "plt.figure(figsize=(10,7))\n",
    "plt.plot(results[\"validation_0\"][\"error\"], label=\"Training loss\")\n",
    "plt.plot(results[\"validation_1\"][\"error\"], label=\"Validation loss\")\n",
    "plt.axvline(21, color=\"gray\", label=\"Optimal tree number\")\n",
    "plt.xlabel(\"Number of trees\")\n",
    "plt.ylabel(\"Loss\")\n",
    "plt.legend()"
   ]
  },
  {
   "cell_type": "markdown",
   "metadata": {},
   "source": [
    "### Catboost"
   ]
  },
  {
   "cell_type": "code",
   "execution_count": 129,
   "metadata": {},
   "outputs": [
    {
     "data": {
      "application/vnd.jupyter.widget-view+json": {
       "model_id": "ecce727a8cd44ea0b800820fd8777fc0",
       "version_major": 2,
       "version_minor": 0
      },
      "text/plain": [
       "MetricVisualizer(layout=Layout(align_self='stretch', height='500px'))"
      ]
     },
     "metadata": {},
     "output_type": "display_data"
    },
    {
     "name": "stdout",
     "output_type": "stream",
     "text": [
      "0:\tlearn: 0.7235117\ttest: 0.8566168\tbest: 0.8566168 (0)\ttotal: 44.7ms\tremaining: 2m 58s\n",
      "500:\tlearn: 0.7459556\ttest: 0.8299967\tbest: 0.8566168 (0)\ttotal: 21s\tremaining: 2m 26s\n",
      "1000:\tlearn: 0.7590115\ttest: 0.8265681\tbest: 0.8566168 (0)\ttotal: 42.1s\tremaining: 2m 6s\n",
      "1500:\tlearn: 0.7673300\ttest: 0.8239962\tbest: 0.8566168 (0)\ttotal: 1m 3s\tremaining: 1m 46s\n",
      "2000:\tlearn: 0.7740812\ttest: 0.8218408\tbest: 0.8566168 (0)\ttotal: 1m 25s\tremaining: 1m 25s\n",
      "Stopped by overfitting detector  (2000 iterations wait)\n",
      "\n",
      "bestTest = 0.8566167877\n",
      "bestIteration = 0\n",
      "\n",
      "Shrink model to first 1 iterations.\n"
     ]
    },
    {
     "data": {
      "text/plain": [
       "<catboost.core.CatBoostClassifier at 0x1b6fa3f3b80>"
      ]
     },
     "execution_count": 129,
     "metadata": {},
     "output_type": "execute_result"
    }
   ],
   "source": [
    "from catboost import CatBoostClassifier, Pool\n",
    "\n",
    "params = {'loss_function':'Logloss',\n",
    "          'eval_metric':'F1',\n",
    "          'early_stopping_rounds': 2000,\n",
    "          'iterations': 4000,\n",
    "          'verbose': 500,\n",
    "          'random_seed': random_seed,\n",
    "          'l2_leaf_reg': 9,\n",
    "          'bootstrap_type': 'Bayesian',\n",
    "          # 'learning_rate': 0.1,\n",
    "          'bagging_temperature': 1.5\n",
    "         }\n",
    "\n",
    "model = CatBoostClassifier(**params, class_weights=[0.3, 0.5])\n",
    "# model = CatBoostClassifier(**params, scale_pos_weight=1)\n",
    "\n",
    "model.fit(X_train, y_train, # data to train on (required parameters, unless we provide X as a pool object, will be shown below)\n",
    "          eval_set=(X_val, y_val), # data to validate on\n",
    "          use_best_model=True, # True if we don't want to save trees created after iteration with the best validation score\n",
    "          plot=True, # True for visualization of the training process (it is not shown in a published kernel - try executing this code)\n",
    "\n",
    "         )"
   ]
  },
  {
   "cell_type": "code",
   "execution_count": 130,
   "metadata": {},
   "outputs": [
    {
     "name": "stdout",
     "output_type": "stream",
     "text": [
      "F1: [0.6755565809205214]\n",
      "Recall: [0.7619568045797555]\n",
      "Precision: [0.6067550766680481]\n"
     ]
    }
   ],
   "source": [
    "predictions = model.predict(X_test)\n",
    "\n",
    "F1 = eval_metric(y_test, predictions, 'F1')\n",
    "Precision = eval_metric(y_test, predictions, 'Precision')\n",
    "Recall = eval_metric(y_test, predictions, 'Recall')\n",
    "print(\"F1:\", F1)\n",
    "print(\"Recall:\", Recall)\n",
    "print(\"Precision:\", Precision)\n",
    "\n"
   ]
  },
  {
   "cell_type": "markdown",
   "metadata": {},
   "source": [
    "### Save best model"
   ]
  },
  {
   "cell_type": "code",
   "execution_count": 34,
   "metadata": {},
   "outputs": [],
   "source": [
    "import datetime\n",
    "\n",
    "abspath_curr = 'C:/Users/mowus/Documents/GWU/gwu_work/ML4DAM'\n",
    "\n",
    "# Make directory\n",
    "directory = os.path.dirname(abspath_curr + '/data/nairobi/result/')\n",
    "if not os.path.exists(directory):\n",
    "    os.makedirs(directory)\n",
    "\n",
    "\n",
    "MPATH = f'{abspath_curr}/data/nairobi/result/'\n",
    "T = datetime.datetime.now()\n",
    "time = T.strftime(\"%y%m%d%H%M%S\")\n",
    "filename = 'XGboost_45'\n",
    "out_file = f\"{MPATH}/{filename}_{time}\"\n",
    "\n",
    "model.save_model(out_file)"
   ]
  },
  {
   "cell_type": "markdown",
   "metadata": {},
   "source": [
    "## Inference "
   ]
  },
  {
   "cell_type": "code",
   "execution_count": 24,
   "metadata": {},
   "outputs": [
    {
     "name": "stdout",
     "output_type": "stream",
     "text": [
      "45\n",
      "1000\n",
      "1000\n"
     ]
    }
   ],
   "source": [
    "# PATH= f'{abspath_curr}/data/nairobi/spfea.vrt'\n",
    "# PATH = 'C:/Users/mowus/Documents/GWU/gwu_work/ML4DAM/data/nairobi/final/spfea/nai_area16.tif'\n",
    "PATH = 'C:/Users/mowus/Documents/GWU/gwu_work/ML4DAM/data/nairobi/temp/ImageTiles/tile_0-0.tif'\n",
    "img = utils.read_image(PATH)\n",
    "img_arr=img[0]\n",
    "img_gt=img[1]\n",
    "img_georef=img[2]\n",
    "\n",
    "# Process spfea features, get the width, height and number of bands\n",
    "n = img_arr.shape[0]\n",
    "print (n) # number of bands\n",
    "h = img_arr.shape[1]\n",
    "print (h) # height\n",
    "w = img_arr.shape[2]\n",
    "print (w) # width"
   ]
  },
  {
   "cell_type": "code",
   "execution_count": 46,
   "metadata": {},
   "outputs": [],
   "source": [
    "arr = img_arr[:, img_arr[0,...]!=-9999]\n",
    "# mask = img_arr!=0\n",
    "# img_arr[mask] =  np.transpose(arr)"
   ]
  },
  {
   "cell_type": "code",
   "execution_count": 47,
   "metadata": {},
   "outputs": [
    {
     "data": {
      "text/plain": [
       "(1000000, 45)"
      ]
     },
     "execution_count": 47,
     "metadata": {},
     "output_type": "execute_result"
    }
   ],
   "source": [
    "arr =  np.transpose(arr)\n",
    "mask = arr!=0\n",
    "mask.shape\n",
    "# mask[0]\n"
   ]
  },
  {
   "cell_type": "code",
   "execution_count": 41,
   "metadata": {},
   "outputs": [
    {
     "data": {
      "text/plain": [
       "(27203441,)"
      ]
     },
     "execution_count": 41,
     "metadata": {},
     "output_type": "execute_result"
    }
   ],
   "source": [
    "arr[mask].shape"
   ]
  },
  {
   "cell_type": "code",
   "execution_count": 4,
   "metadata": {},
   "outputs": [],
   "source": [
    "from sklearn.preprocessing import StandardScaler\n",
    "from sklearn.impute import SimpleImputer\n",
    "\n",
    "arr = img_arr[:, img_arr[0,...]!=0]\n",
    "arr =  np.transpose(arr)\n",
    "\n",
    "si = SimpleImputer(missing_values=0, strategy='mean')\n",
    "# impute the training data\n",
    "mapx = si.fit_transform(arr)\n",
    "\n",
    "# Standadized \n",
    "ss = StandardScaler()\n",
    "MapX = ss.fit_transform(mapx)\n",
    "# img_arr[img_arr == 0] = np.nan\n",
    "# # img_arr.shape\n",
    "# nan_mask = np.isnan(img_arr)\n",
    "\n",
    "\n",
    "# # arr_no_nan = img_arr[~nan_mask[:,:]]\n",
    "\n",
    "# # Set all masked pixels to zero\n",
    "# masked = img_arr.copy()\n",
    "# new_arr=masked[nan_mask] \n",
    "# # mapX = ss.fit_transform(arr)"
   ]
  },
  {
   "cell_type": "code",
   "execution_count": 49,
   "metadata": {},
   "outputs": [
    {
     "ename": "ValueError",
     "evalue": "cannot reshape array of size 27203441 into shape (1000,1000)",
     "output_type": "error",
     "traceback": [
      "\u001b[1;31m---------------------------------------------------------------------------\u001b[0m",
      "\u001b[1;31mValueError\u001b[0m                                Traceback (most recent call last)",
      "Cell \u001b[1;32mIn [49], line 14\u001b[0m\n\u001b[0;32m     10\u001b[0m new_model\u001b[39m.\u001b[39mload_model(\u001b[39mf\u001b[39m\u001b[39m'\u001b[39m\u001b[39m{\u001b[39;00mabspath_curr\u001b[39m}\u001b[39;00m\u001b[39m/data/nairobi/result/XGboost_45_221229000952\u001b[39m\u001b[39m'\u001b[39m)\n\u001b[0;32m     11\u001b[0m \u001b[39m# pred_map = new_model.predict(data_x_scale)\u001b[39;00m\n\u001b[0;32m     12\u001b[0m \n\u001b[0;32m     13\u001b[0m \u001b[39m# pred_map = new_model.predict(MapX)\u001b[39;00m\n\u001b[1;32m---> 14\u001b[0m pred_map \u001b[39m=\u001b[39m new_model\u001b[39m.\u001b[39mpredict(arr[mask]\u001b[39m.\u001b[39;49mreshape(h,w))\n",
      "\u001b[1;31mValueError\u001b[0m: cannot reshape array of size 27203441 into shape (1000,1000)"
     ]
    }
   ],
   "source": [
    "# PREDICTION \n",
    "\n",
    "# PREDICTION\n",
    "from catboost import CatBoostClassifier, Pool\n",
    "from xgboost import XGBClassifier\n",
    "\n",
    "# load\n",
    "# C:\\Users\\mowus\\Documents\\GWU\\gwu_work\\ML4DAM\\data\\nairobi\\result\\XGboost_45_221229000952\n",
    "new_model = XGBClassifier()\n",
    "new_model.load_model(f'{abspath_curr}/data/nairobi/result/XGboost_45_221229000952')\n",
    "# pred_map = new_model.predict(data_x_scale)\n",
    "\n",
    "# pred_map = new_model.predict(MapX)\n",
    "pred_map = new_model.predict(arr[mask].reshape(h,w))"
   ]
  },
  {
   "cell_type": "code",
   "execution_count": 34,
   "metadata": {},
   "outputs": [
    {
     "data": {
      "text/plain": [
       "(0, 45)"
      ]
     },
     "execution_count": 34,
     "metadata": {},
     "output_type": "execute_result"
    }
   ],
   "source": []
  },
  {
   "cell_type": "code",
   "execution_count": 28,
   "metadata": {},
   "outputs": [
    {
     "ename": "IndexError",
     "evalue": "too many indices for array: array is 1-dimensional, but 2 were indexed",
     "output_type": "error",
     "traceback": [
      "\u001b[1;31m---------------------------------------------------------------------------\u001b[0m",
      "\u001b[1;31mIndexError\u001b[0m                                Traceback (most recent call last)",
      "Cell \u001b[1;32mIn [28], line 1\u001b[0m\n\u001b[1;32m----> 1\u001b[0m arr[mask]\u001b[39m=\u001b[39mpred_map[mask]\n",
      "\u001b[1;31mIndexError\u001b[0m: too many indices for array: array is 1-dimensional, but 2 were indexed"
     ]
    }
   ],
   "source": [
    "arr[mask]=pred_map[mask]"
   ]
  },
  {
   "cell_type": "code",
   "execution_count": 35,
   "metadata": {},
   "outputs": [
    {
     "data": {
      "image/png": "[encoded data removed]",
      "text/plain": [
       "<Figure size 800x400 with 1 Axes>"
      ]
     },
     "metadata": {},
     "output_type": "display_data"
    }
   ],
   "source": [
    "from matplotlib.pyplot import figure\n",
    "import matplotlib.patches as mpatches\n",
    "\n",
    "pred_map = pred_map.reshape(h, w)\n",
    "\n",
    "\n",
    "values = np.unique(pred_map.ravel())\n",
    "\n",
    "plt.figure(figsize=(8,4))\n",
    "im = plt.imshow(pred_map, interpolation='none')\n",
    "\n",
    "# get the colors of the values, according to the \n",
    "# colormap used by imshow\n",
    "colors = [ im.cmap(im.norm(value)) for value in values]\n",
    "# create a patch (proxy artist) for every color \n",
    "patches = [ mpatches.Patch(color=colors[i], label=\"Class {l}\".format(l=values[i]) ) for i in range(len(values)) ]\n",
    "# put those patched as legend-handles into the legend\n",
    "plt.legend(handles=patches, bbox_to_anchor=(1.05, 1), loc=2, borderaxespad=0. )\n",
    "\n",
    "plt.show()"
   ]
  },
  {
   "cell_type": "code",
   "execution_count": 131,
   "metadata": {},
   "outputs": [
    {
     "data": {
      "image/png": "[encoded data removed]",
      "text/plain": [
       "<Figure size 640x480 with 1 Axes>"
      ]
     },
     "metadata": {},
     "output_type": "display_data"
    },
    {
     "data": {
      "text/plain": [
       "<AxesSubplot: >"
      ]
     },
     "execution_count": 131,
     "metadata": {},
     "output_type": "execute_result"
    }
   ],
   "source": [
    "# PATH= f'{abspath_curr}/data/nairobi/spfea.vrt'\n",
    "PATH = 'C:/Users/mowus/Documents/GWU/gwu_work/ML4DAM/data/nairobi/final/mask/nai_area16.tif'\n",
    "img = utils.read_image(PATH)\n",
    "img_arr=img[0]\n",
    "show(img_arr)\n",
    "# img_gt=img[1]\n",
    "# img_georef=img[2]"
   ]
  },
  {
   "cell_type": "code",
   "execution_count": null,
   "metadata": {},
   "outputs": [],
   "source": []
  }
 ],
 "metadata": {
  "kernelspec": {
   "display_name": "Python 3.10.6 ('mongolia')",
   "language": "python",
   "name": "python3"
  },
  "language_info": {
   "codemirror_mode": {
    "name": "ipython",
    "version": 3
   },
   "file_extension": ".py",
   "mimetype": "text/x-python",
   "name": "python",
   "nbconvert_exporter": "python",
   "pygments_lexer": "ipython3",
   "version": "3.10.6"
  },
  "orig_nbformat": 4,
  "vscode": {
   "interpreter": {
    "hash": "6680f4eed1642b9d4b246223a81cf8ff54f7def8bc9111d136e8a4bf854377b2"
   }
  }
 },
 "nbformat": 4,
 "nbformat_minor": 2
}
