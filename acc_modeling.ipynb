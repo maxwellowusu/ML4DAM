{
 "cells": [
  {
   "cell_type": "markdown",
   "metadata": {},
   "source": [
    "# Machine Learning for Deprived Area Mapping (ML4DAM)"
   ]
  },
  {
   "cell_type": "markdown",
   "metadata": {},
   "source": [
    "## Using Contextual features extracted from Sentinel 2"
   ]
  },
  {
   "cell_type": "code",
   "execution_count": 81,
   "metadata": {},
   "outputs": [],
   "source": [
    "# imprt libraries \n",
    "import os \n",
    "from glob import glob\n",
    "import numpy as np\n",
    "import pandas as pd\n",
    "from osgeo import gdal\n",
    "import rasterio \n",
    "from rasterio.plot import show\n",
    "from rasterio.merge import merge\n",
    "import matplotlib.pyplot as plt\n",
    "\n",
    "from utils import utils\n",
    "from utils import util_preprocess\n"
   ]
  },
  {
   "cell_type": "markdown",
   "metadata": {},
   "source": [
    "Set Working directorate "
   ]
  },
  {
   "cell_type": "code",
   "execution_count": 82,
   "metadata": {},
   "outputs": [],
   "source": [
    "# Get abosolute path of the current folder\n",
    "abspath_curr = 'D:/GWU/ML4DAM/'\n",
    "\n",
    "# Target\n",
    "target = 'class'\n",
    "\n",
    "# Random seed\n",
    "random_seed = 42\n",
    "\n",
    "# Set random seed in numpy\n",
    "import numpy as np\n",
    "np.random.seed(random_seed)"
   ]
  },
  {
   "cell_type": "markdown",
   "metadata": {},
   "source": [
    "## Fetch and load contextual features "
   ]
  },
  {
   "cell_type": "code",
   "execution_count": 83,
   "metadata": {},
   "outputs": [],
   "source": [
    "# load contextual ffeature \n",
    "\n",
    "RasterTiles = sorted(glob('D:/GWU/ML4DAM/data/accra/final/spfea/*.tif'))\n",
    "MaskTiles = sorted(glob('D:/GWU/ML4DAM/data/accra/final//mask/*.tif'))"
   ]
  },
  {
   "cell_type": "code",
   "execution_count": 84,
   "metadata": {},
   "outputs": [],
   "source": [
    "Tiles = []\n",
    "for item in zip(RasterTiles, MaskTiles):\n",
    "    # print(item)\n",
    "    Tiles.append(item)\n",
    "\n",
    "\n",
    "len(Tiles)\n",
    "\n",
    "import random\n",
    "random.seed(42)\n",
    "random.shuffle(Tiles)"
   ]
  },
  {
   "cell_type": "code",
   "execution_count": 85,
   "metadata": {},
   "outputs": [
    {
     "data": {
      "text/plain": [
       "('D:/GWU/ML4DAM/data/accra/final/spfea\\\\acc_area8.tif',\n",
       " 'D:/GWU/ML4DAM/data/accra/final//mask\\\\acc_area8.tif')"
      ]
     },
     "execution_count": 85,
     "metadata": {},
     "output_type": "execute_result"
    }
   ],
   "source": [
    "# import random\n",
    "# random.shuffle(Tiles)\n",
    "\n",
    "Tiles[1]"
   ]
  },
  {
   "cell_type": "code",
   "execution_count": 86,
   "metadata": {},
   "outputs": [],
   "source": [
    "RasterTiles = []\n",
    "MaskTiles = []\n",
    "for raw_image, label in Tiles:\n",
    "    RasterTiles.append(raw_image)\n",
    "    MaskTiles.append(label)\n"
   ]
  },
  {
   "cell_type": "code",
   "execution_count": 87,
   "metadata": {},
   "outputs": [
    {
     "data": {
      "text/plain": [
       "['D:/GWU/ML4DAM/data/accra/final//mask\\\\acc_area4.tif',\n",
       " 'D:/GWU/ML4DAM/data/accra/final//mask\\\\acc_area8.tif',\n",
       " 'D:/GWU/ML4DAM/data/accra/final//mask\\\\acc_area3.tif',\n",
       " 'D:/GWU/ML4DAM/data/accra/final//mask\\\\acc_area2.tif',\n",
       " 'D:/GWU/ML4DAM/data/accra/final//mask\\\\acc_area9.tif',\n",
       " 'D:/GWU/ML4DAM/data/accra/final//mask\\\\acc_area7.tif',\n",
       " 'D:/GWU/ML4DAM/data/accra/final//mask\\\\acc_area13.tif',\n",
       " 'D:/GWU/ML4DAM/data/accra/final//mask\\\\acc_area10.tif',\n",
       " 'D:/GWU/ML4DAM/data/accra/final//mask\\\\acc_area5.tif',\n",
       " 'D:/GWU/ML4DAM/data/accra/final//mask\\\\acc_area11.tif',\n",
       " 'D:/GWU/ML4DAM/data/accra/final//mask\\\\acc_area12.tif',\n",
       " 'D:/GWU/ML4DAM/data/accra/final//mask\\\\acc_area0.tif',\n",
       " 'D:/GWU/ML4DAM/data/accra/final//mask\\\\acc_area1.tif',\n",
       " 'D:/GWU/ML4DAM/data/accra/final//mask\\\\acc_area6.tif']"
      ]
     },
     "execution_count": 87,
     "metadata": {},
     "output_type": "execute_result"
    }
   ],
   "source": [
    "MaskTiles"
   ]
  },
  {
   "cell_type": "code",
   "execution_count": 88,
   "metadata": {},
   "outputs": [],
   "source": [
    "X_train_list = RasterTiles[0:7]\n",
    "X_val_list = RasterTiles[8:10]\n",
    "X_test_list = RasterTiles[11:13]\n",
    "\n",
    "\n",
    "y_train_list = MaskTiles[0:7]\n",
    "y_val_list = MaskTiles[8:10]\n",
    "y_test_list = MaskTiles[11:13]\n"
   ]
  },
  {
   "cell_type": "code",
   "execution_count": 89,
   "metadata": {},
   "outputs": [
    {
     "name": "stdout",
     "output_type": "stream",
     "text": [
      "['D:/GWU/ML4DAM/data/accra/final/spfea\\\\acc_area8.tif', 'D:/GWU/ML4DAM/data/accra/final/spfea\\\\acc_area3.tif', 'D:/GWU/ML4DAM/data/accra/final/spfea\\\\acc_area2.tif', 'D:/GWU/ML4DAM/data/accra/final/spfea\\\\acc_area9.tif', 'D:/GWU/ML4DAM/data/accra/final/spfea\\\\acc_area7.tif']\n",
      "['D:/GWU/ML4DAM/data/accra/final//mask\\\\acc_area8.tif', 'D:/GWU/ML4DAM/data/accra/final//mask\\\\acc_area3.tif', 'D:/GWU/ML4DAM/data/accra/final//mask\\\\acc_area2.tif', 'D:/GWU/ML4DAM/data/accra/final//mask\\\\acc_area9.tif', 'D:/GWU/ML4DAM/data/accra/final//mask\\\\acc_area7.tif']\n"
     ]
    }
   ],
   "source": [
    "print(X_train_list[1:6])\n",
    "print(y_train_list[1:6])"
   ]
  },
  {
   "cell_type": "markdown",
   "metadata": {},
   "source": [
    "### Process train, validationa and test data"
   ]
  },
  {
   "cell_type": "code",
   "execution_count": 90,
   "metadata": {},
   "outputs": [
    {
     "name": "stdout",
     "output_type": "stream",
     "text": [
      "(45, 1081, 1297)\n",
      "(1, 1081, 1297)\n",
      "(45, 1252, 689)\n",
      "(1, 1252, 689)\n",
      "(45, 662, 644)\n",
      "(1, 662, 644)\n"
     ]
    }
   ],
   "source": [
    "# Preparing training\n",
    "\n",
    "raster_to_mosiac = []\n",
    "\n",
    "for p in X_train_list:\n",
    "    raster = rasterio.open(p)\n",
    "    raster_to_mosiac.append(raster)\n",
    "\n",
    "\n",
    "Xtrain, out_transform = merge(raster_to_mosiac)\n",
    "print(Xtrain.shape)\n",
    "\n",
    "raster_to_mosiac = []\n",
    "\n",
    "for p in y_train_list:\n",
    "    raster = rasterio.open(p)\n",
    "    raster_to_mosiac.append(raster)\n",
    "\n",
    "ytrain, out_transform = merge(raster_to_mosiac)\n",
    "print(ytrain.shape)\n",
    "\n",
    "# Preparing validation \n",
    "\n",
    "raster_to_mosiac = []\n",
    "\n",
    "for p in X_val_list:\n",
    "    raster = rasterio.open(p)\n",
    "    raster_to_mosiac.append(raster)\n",
    "\n",
    "\n",
    "Xval, out_transform = merge(raster_to_mosiac)\n",
    "print(Xval.shape)\n",
    "\n",
    "raster_to_mosiac = []\n",
    "\n",
    "for p in y_val_list:\n",
    "    raster = rasterio.open(p)\n",
    "    raster_to_mosiac.append(raster)\n",
    "\n",
    "yval, out_transform = merge(raster_to_mosiac)\n",
    "print(yval.shape)\n",
    "\n",
    "\n",
    "\n",
    "# Preparing test data\n",
    "\n",
    "raster_to_mosiac = []\n",
    "\n",
    "for p in X_test_list:\n",
    "    raster = rasterio.open(p)\n",
    "    raster_to_mosiac.append(raster)\n",
    "\n",
    "\n",
    "Xtest, out_transform = merge(raster_to_mosiac)\n",
    "print(Xtest.shape)\n",
    "\n",
    "raster_to_mosiac = []\n",
    "\n",
    "for p in y_test_list:\n",
    "    raster = rasterio.open(p)\n",
    "    raster_to_mosiac.append(raster)\n",
    "\n",
    "ytest, out_transform = merge(raster_to_mosiac)\n",
    "print(ytest.shape)\n"
   ]
  },
  {
   "cell_type": "code",
   "execution_count": 91,
   "metadata": {},
   "outputs": [
    {
     "name": "stdout",
     "output_type": "stream",
     "text": [
      "Training data set\n",
      " [[     0 251373]\n",
      " [     1  71557]]\n",
      "(45, 322930)\n",
      "(1, 322930)\n",
      "\n",
      " Validation data set\n",
      " [[    0 73732]\n",
      " [    1 18718]]\n",
      "(45, 92450)\n",
      "(1, 92450)\n",
      "\n",
      " Test data set\n",
      " [[0.0000e+00 5.6382e+04]\n",
      " [1.0000e+00 3.5853e+04]]\n",
      "(45, 92235)\n",
      "(1, 92235)\n"
     ]
    }
   ],
   "source": [
    "X_train = Xtrain[:, Xtrain[0,...]!=-9999]\n",
    "y_train = ytrain[:, ytrain[0,...]!=-9999]\n",
    "y_train =y_train.astype(int)\n",
    "(unique, counts) = np.unique(y_train, return_counts=True)\n",
    "frequencies = np.asarray((unique, counts)).T\n",
    "print('Training data set\\n', frequencies)\n",
    "print(X_train.shape)\n",
    "print(y_train.shape)\n",
    "\n",
    "\n",
    "X_train = np.transpose(X_train)\n",
    "y_train = np.transpose(y_train)\n",
    "\n",
    "# Validation\n",
    "\n",
    "X_val = Xval[:, Xval[0,...]!=-9999]\n",
    "y_val = yval[:, yval[0,...]!=-9999]\n",
    "y_val = y_val.astype(int)\n",
    "(unique, counts) = np.unique(y_val, return_counts=True)\n",
    "frequencies = np.asarray((unique, counts)).T\n",
    "print('\\n Validation data set\\n', frequencies)\n",
    "\n",
    "print(X_val.shape)\n",
    "print(y_val.shape)\n",
    "\n",
    "\n",
    "X_val = np.transpose(X_val)\n",
    "y_val = np.transpose(y_val)\n",
    "\n",
    "# Test\n",
    "\n",
    "X_test = Xtest[:, Xtest[0,...]!=-9999]\n",
    "y_test = ytest[:, ytest[0,...]!=-9999]\n",
    "y_yest = y_test.astype(int)\n",
    "(unique, counts) = np.unique(y_test, return_counts=True)\n",
    "frequencies = np.asarray((unique, counts)).T\n",
    "print('\\n Test data set\\n', frequencies)\n",
    "\n",
    "print(X_test.shape)\n",
    "print(y_test.shape)\n",
    "\n",
    "\n",
    "X_test = np.transpose(X_test)\n",
    "y_test = np.transpose(y_test)\n"
   ]
  },
  {
   "cell_type": "markdown",
   "metadata": {},
   "source": [
    "### Standardize data"
   ]
  },
  {
   "cell_type": "code",
   "execution_count": 92,
   "metadata": {},
   "outputs": [],
   "source": [
    "from sklearn.preprocessing import StandardScaler\n",
    "from sklearn.impute import SimpleImputer\n",
    "\n",
    "# # Imputing missing values\n",
    "si = SimpleImputer(missing_values=0, strategy='mean')\n",
    "\n",
    "# impute the training data\n",
    "X_train = si.fit_transform(X_train)\n",
    "\n",
    "# impute the validation data\n",
    "X_val = si.fit_transform(X_val)\n",
    "\n",
    "# impute the test data\n",
    "X_test = si.fit_transform(X_test)\n",
    "\n",
    "# The StandardScaler\n",
    "ss = StandardScaler()\n",
    "\n",
    "# Standardize the training data\n",
    "X_train = ss.fit_transform(X_train)\n",
    "\n",
    "# Standardize the validation data\n",
    "X_val = ss.fit_transform(X_val)\n",
    "\n",
    "# Standardize the test data\n",
    "X_test = ss.fit_transform(X_test)"
   ]
  },
  {
   "cell_type": "markdown",
   "metadata": {},
   "source": [
    "### Modelling "
   ]
  },
  {
   "cell_type": "markdown",
   "metadata": {},
   "source": [
    "### XGBoost"
   ]
  },
  {
   "cell_type": "code",
   "execution_count": 103,
   "metadata": {},
   "outputs": [
    {
     "name": "stdout",
     "output_type": "stream",
     "text": [
      "[0]\tvalidation_0-error:0.41368\tvalidation_1-error:0.52194\n",
      "[1]\tvalidation_0-error:0.40818\tvalidation_1-error:0.51760\n",
      "[2]\tvalidation_0-error:0.38774\tvalidation_1-error:0.49111\n",
      "[3]\tvalidation_0-error:0.38126\tvalidation_1-error:0.47860\n",
      "[4]\tvalidation_0-error:0.38663\tvalidation_1-error:0.48857\n",
      "[5]\tvalidation_0-error:0.37404\tvalidation_1-error:0.47902\n",
      "[6]\tvalidation_0-error:0.37236\tvalidation_1-error:0.47524\n",
      "[7]\tvalidation_0-error:0.37156\tvalidation_1-error:0.47558\n",
      "[8]\tvalidation_0-error:0.37023\tvalidation_1-error:0.47413\n",
      "[9]\tvalidation_0-error:0.36304\tvalidation_1-error:0.46746\n",
      "[10]\tvalidation_0-error:0.35627\tvalidation_1-error:0.46140\n",
      "[11]\tvalidation_0-error:0.35346\tvalidation_1-error:0.45739\n",
      "[12]\tvalidation_0-error:0.35282\tvalidation_1-error:0.45641\n",
      "[13]\tvalidation_0-error:0.34874\tvalidation_1-error:0.45461\n",
      "[14]\tvalidation_0-error:0.34792\tvalidation_1-error:0.45431\n",
      "[15]\tvalidation_0-error:0.34490\tvalidation_1-error:0.45150\n",
      "[16]\tvalidation_0-error:0.34391\tvalidation_1-error:0.45122\n",
      "[17]\tvalidation_0-error:0.34206\tvalidation_1-error:0.45056\n",
      "[18]\tvalidation_0-error:0.34133\tvalidation_1-error:0.45150\n",
      "[19]\tvalidation_0-error:0.33904\tvalidation_1-error:0.44952\n",
      "[20]\tvalidation_0-error:0.33711\tvalidation_1-error:0.44825\n",
      "[21]\tvalidation_0-error:0.33427\tvalidation_1-error:0.44985\n",
      "[22]\tvalidation_0-error:0.33318\tvalidation_1-error:0.44837\n",
      "[23]\tvalidation_0-error:0.33189\tvalidation_1-error:0.44861\n",
      "[24]\tvalidation_0-error:0.33180\tvalidation_1-error:0.45200\n",
      "[25]\tvalidation_0-error:0.33093\tvalidation_1-error:0.45130\n",
      "[26]\tvalidation_0-error:0.32985\tvalidation_1-error:0.45021\n",
      "[27]\tvalidation_0-error:0.33020\tvalidation_1-error:0.45211\n",
      "[28]\tvalidation_0-error:0.32972\tvalidation_1-error:0.45041\n",
      "[29]\tvalidation_0-error:0.32737\tvalidation_1-error:0.44835\n",
      "[30]\tvalidation_0-error:0.32709\tvalidation_1-error:0.44889\n",
      "[31]\tvalidation_0-error:0.32637\tvalidation_1-error:0.44951\n",
      "[32]\tvalidation_0-error:0.32556\tvalidation_1-error:0.45020\n",
      "[33]\tvalidation_0-error:0.32343\tvalidation_1-error:0.44756\n",
      "[34]\tvalidation_0-error:0.32336\tvalidation_1-error:0.44760\n",
      "[35]\tvalidation_0-error:0.32132\tvalidation_1-error:0.44584\n",
      "[36]\tvalidation_0-error:0.32021\tvalidation_1-error:0.44438\n",
      "[37]\tvalidation_0-error:0.31884\tvalidation_1-error:0.44414\n",
      "[38]\tvalidation_0-error:0.31793\tvalidation_1-error:0.44397\n",
      "[39]\tvalidation_0-error:0.31761\tvalidation_1-error:0.44425\n",
      "[40]\tvalidation_0-error:0.31736\tvalidation_1-error:0.44438\n",
      "[41]\tvalidation_0-error:0.31620\tvalidation_1-error:0.44492\n",
      "[42]\tvalidation_0-error:0.31540\tvalidation_1-error:0.44426\n",
      "[43]\tvalidation_0-error:0.31521\tvalidation_1-error:0.44379\n",
      "[44]\tvalidation_0-error:0.31500\tvalidation_1-error:0.44363\n",
      "[45]\tvalidation_0-error:0.31442\tvalidation_1-error:0.44335\n",
      "[46]\tvalidation_0-error:0.31347\tvalidation_1-error:0.44228\n",
      "[47]\tvalidation_0-error:0.31256\tvalidation_1-error:0.44167\n",
      "[48]\tvalidation_0-error:0.31266\tvalidation_1-error:0.44153\n",
      "[49]\tvalidation_0-error:0.31119\tvalidation_1-error:0.44022\n",
      "[50]\tvalidation_0-error:0.31126\tvalidation_1-error:0.44052\n",
      "[51]\tvalidation_0-error:0.31099\tvalidation_1-error:0.44076\n",
      "[52]\tvalidation_0-error:0.31030\tvalidation_1-error:0.43975\n",
      "[53]\tvalidation_0-error:0.30945\tvalidation_1-error:0.44001\n",
      "[54]\tvalidation_0-error:0.30850\tvalidation_1-error:0.43956\n",
      "[55]\tvalidation_0-error:0.30758\tvalidation_1-error:0.43974\n",
      "[56]\tvalidation_0-error:0.30725\tvalidation_1-error:0.43957\n",
      "[57]\tvalidation_0-error:0.30774\tvalidation_1-error:0.44074\n",
      "[58]\tvalidation_0-error:0.30842\tvalidation_1-error:0.44143\n",
      "[59]\tvalidation_0-error:0.30768\tvalidation_1-error:0.44059\n",
      "[60]\tvalidation_0-error:0.30700\tvalidation_1-error:0.44065\n",
      "[61]\tvalidation_0-error:0.30761\tvalidation_1-error:0.44131\n",
      "[62]\tvalidation_0-error:0.30687\tvalidation_1-error:0.44085\n",
      "[63]\tvalidation_0-error:0.30659\tvalidation_1-error:0.44098\n",
      "[64]\tvalidation_0-error:0.30567\tvalidation_1-error:0.44118\n",
      "[65]\tvalidation_0-error:0.30482\tvalidation_1-error:0.44058\n",
      "[66]\tvalidation_0-error:0.30464\tvalidation_1-error:0.44088\n",
      "[67]\tvalidation_0-error:0.30411\tvalidation_1-error:0.44027\n",
      "[68]\tvalidation_0-error:0.30414\tvalidation_1-error:0.44038\n",
      "[69]\tvalidation_0-error:0.30329\tvalidation_1-error:0.44019\n",
      "[70]\tvalidation_0-error:0.30289\tvalidation_1-error:0.44051\n",
      "[71]\tvalidation_0-error:0.30230\tvalidation_1-error:0.44008\n",
      "[72]\tvalidation_0-error:0.30166\tvalidation_1-error:0.43995\n",
      "[73]\tvalidation_0-error:0.30198\tvalidation_1-error:0.44059\n",
      "[74]\tvalidation_0-error:0.30196\tvalidation_1-error:0.44077\n",
      "[75]\tvalidation_0-error:0.30158\tvalidation_1-error:0.43971\n",
      "[76]\tvalidation_0-error:0.30128\tvalidation_1-error:0.43936\n",
      "[77]\tvalidation_0-error:0.30153\tvalidation_1-error:0.43992\n",
      "[78]\tvalidation_0-error:0.30134\tvalidation_1-error:0.43968\n",
      "[79]\tvalidation_0-error:0.30004\tvalidation_1-error:0.43818\n",
      "[80]\tvalidation_0-error:0.29875\tvalidation_1-error:0.43625\n",
      "[81]\tvalidation_0-error:0.29892\tvalidation_1-error:0.43681\n",
      "[82]\tvalidation_0-error:0.29834\tvalidation_1-error:0.43711\n",
      "[83]\tvalidation_0-error:0.29764\tvalidation_1-error:0.43618\n",
      "[84]\tvalidation_0-error:0.29799\tvalidation_1-error:0.43762\n",
      "[85]\tvalidation_0-error:0.29844\tvalidation_1-error:0.43784\n",
      "[86]\tvalidation_0-error:0.29830\tvalidation_1-error:0.43793\n",
      "[87]\tvalidation_0-error:0.29746\tvalidation_1-error:0.43737\n",
      "[88]\tvalidation_0-error:0.29699\tvalidation_1-error:0.43726\n",
      "[89]\tvalidation_0-error:0.29674\tvalidation_1-error:0.43761\n",
      "[90]\tvalidation_0-error:0.29647\tvalidation_1-error:0.43718\n",
      "[91]\tvalidation_0-error:0.29611\tvalidation_1-error:0.43721\n",
      "[92]\tvalidation_0-error:0.29549\tvalidation_1-error:0.43654\n",
      "[93]\tvalidation_0-error:0.29503\tvalidation_1-error:0.43599\n",
      "[94]\tvalidation_0-error:0.29475\tvalidation_1-error:0.43561\n",
      "[95]\tvalidation_0-error:0.29452\tvalidation_1-error:0.43546\n",
      "[96]\tvalidation_0-error:0.29405\tvalidation_1-error:0.43472\n",
      "[97]\tvalidation_0-error:0.29377\tvalidation_1-error:0.43378\n",
      "[98]\tvalidation_0-error:0.29362\tvalidation_1-error:0.43327\n",
      "[99]\tvalidation_0-error:0.29336\tvalidation_1-error:0.43380\n"
     ]
    },
    {
     "data": {
      "text/html": [
       "<style>#sk-container-id-11 {color: black;background-color: white;}#sk-container-id-11 pre{padding: 0;}#sk-container-id-11 div.sk-toggleable {background-color: white;}#sk-container-id-11 label.sk-toggleable__label {cursor: pointer;display: block;width: 100%;margin-bottom: 0;padding: 0.3em;box-sizing: border-box;text-align: center;}#sk-container-id-11 label.sk-toggleable__label-arrow:before {content: \"▸\";float: left;margin-right: 0.25em;color: #696969;}#sk-container-id-11 label.sk-toggleable__label-arrow:hover:before {color: black;}#sk-container-id-11 div.sk-estimator:hover label.sk-toggleable__label-arrow:before {color: black;}#sk-container-id-11 div.sk-toggleable__content {max-height: 0;max-width: 0;overflow: hidden;text-align: left;background-color: #f0f8ff;}#sk-container-id-11 div.sk-toggleable__content pre {margin: 0.2em;color: black;border-radius: 0.25em;background-color: #f0f8ff;}#sk-container-id-11 input.sk-toggleable__control:checked~div.sk-toggleable__content {max-height: 200px;max-width: 100%;overflow: auto;}#sk-container-id-11 input.sk-toggleable__control:checked~label.sk-toggleable__label-arrow:before {content: \"▾\";}#sk-container-id-11 div.sk-estimator input.sk-toggleable__control:checked~label.sk-toggleable__label {background-color: #d4ebff;}#sk-container-id-11 div.sk-label input.sk-toggleable__control:checked~label.sk-toggleable__label {background-color: #d4ebff;}#sk-container-id-11 input.sk-hidden--visually {border: 0;clip: rect(1px 1px 1px 1px);clip: rect(1px, 1px, 1px, 1px);height: 1px;margin: -1px;overflow: hidden;padding: 0;position: absolute;width: 1px;}#sk-container-id-11 div.sk-estimator {font-family: monospace;background-color: #f0f8ff;border: 1px dotted black;border-radius: 0.25em;box-sizing: border-box;margin-bottom: 0.5em;}#sk-container-id-11 div.sk-estimator:hover {background-color: #d4ebff;}#sk-container-id-11 div.sk-parallel-item::after {content: \"\";width: 100%;border-bottom: 1px solid gray;flex-grow: 1;}#sk-container-id-11 div.sk-label:hover label.sk-toggleable__label {background-color: #d4ebff;}#sk-container-id-11 div.sk-serial::before {content: \"\";position: absolute;border-left: 1px solid gray;box-sizing: border-box;top: 0;bottom: 0;left: 50%;z-index: 0;}#sk-container-id-11 div.sk-serial {display: flex;flex-direction: column;align-items: center;background-color: white;padding-right: 0.2em;padding-left: 0.2em;position: relative;}#sk-container-id-11 div.sk-item {position: relative;z-index: 1;}#sk-container-id-11 div.sk-parallel {display: flex;align-items: stretch;justify-content: center;background-color: white;position: relative;}#sk-container-id-11 div.sk-item::before, #sk-container-id-11 div.sk-parallel-item::before {content: \"\";position: absolute;border-left: 1px solid gray;box-sizing: border-box;top: 0;bottom: 0;left: 50%;z-index: -1;}#sk-container-id-11 div.sk-parallel-item {display: flex;flex-direction: column;z-index: 1;position: relative;background-color: white;}#sk-container-id-11 div.sk-parallel-item:first-child::after {align-self: flex-end;width: 50%;}#sk-container-id-11 div.sk-parallel-item:last-child::after {align-self: flex-start;width: 50%;}#sk-container-id-11 div.sk-parallel-item:only-child::after {width: 0;}#sk-container-id-11 div.sk-dashed-wrapped {border: 1px dashed gray;margin: 0 0.4em 0.5em 0.4em;box-sizing: border-box;padding-bottom: 0.4em;background-color: white;}#sk-container-id-11 div.sk-label label {font-family: monospace;font-weight: bold;display: inline-block;line-height: 1.2em;}#sk-container-id-11 div.sk-label-container {text-align: center;}#sk-container-id-11 div.sk-container {/* jupyter's `normalize.less` sets `[hidden] { display: none; }` but bootstrap.min.css set `[hidden] { display: none !important; }` so we also need the `!important` here to be able to override the default hidden behavior on the sphinx rendered scikit-learn.org. See: https://github.com/scikit-learn/scikit-learn/issues/21755 */display: inline-block !important;position: relative;}#sk-container-id-11 div.sk-text-repr-fallback {display: none;}</style><div id=\"sk-container-id-11\" class=\"sk-top-container\"><div class=\"sk-text-repr-fallback\"><pre>XGBClassifier(base_score=0.5, booster=&#x27;gbtree&#x27;, callbacks=None,\n",
       "              colsample_bylevel=1, colsample_bynode=1, colsample_bytree=0.5,\n",
       "              early_stopping_rounds=100, enable_categorical=False,\n",
       "              eval_metric=&#x27;error&#x27;, feature_types=None, gamma=0.05, gpu_id=-1,\n",
       "              grow_policy=&#x27;depthwise&#x27;, importance_type=None,\n",
       "              interaction_constraints=&#x27;&#x27;, learning_rate=0.300000012,\n",
       "              max_bin=256, max_cat_threshold=64, max_cat_to_onehot=4,\n",
       "              max_delta_step=0, max_depth=5, max_leaves=0, min_child_weight=5,\n",
       "              missing=nan, monotone_constraints=&#x27;()&#x27;, n_estimators=100,\n",
       "              n_jobs=0, num_parallel_tree=1, predictor=&#x27;auto&#x27;, random_state=42, ...)</pre><b>In a Jupyter environment, please rerun this cell to show the HTML representation or trust the notebook. <br />On GitHub, the HTML representation is unable to render, please try loading this page with nbviewer.org.</b></div><div class=\"sk-container\" hidden><div class=\"sk-item\"><div class=\"sk-estimator sk-toggleable\"><input class=\"sk-toggleable__control sk-hidden--visually\" id=\"sk-estimator-id-11\" type=\"checkbox\" checked><label for=\"sk-estimator-id-11\" class=\"sk-toggleable__label sk-toggleable__label-arrow\">XGBClassifier</label><div class=\"sk-toggleable__content\"><pre>XGBClassifier(base_score=0.5, booster=&#x27;gbtree&#x27;, callbacks=None,\n",
       "              colsample_bylevel=1, colsample_bynode=1, colsample_bytree=0.5,\n",
       "              early_stopping_rounds=100, enable_categorical=False,\n",
       "              eval_metric=&#x27;error&#x27;, feature_types=None, gamma=0.05, gpu_id=-1,\n",
       "              grow_policy=&#x27;depthwise&#x27;, importance_type=None,\n",
       "              interaction_constraints=&#x27;&#x27;, learning_rate=0.300000012,\n",
       "              max_bin=256, max_cat_threshold=64, max_cat_to_onehot=4,\n",
       "              max_delta_step=0, max_depth=5, max_leaves=0, min_child_weight=5,\n",
       "              missing=nan, monotone_constraints=&#x27;()&#x27;, n_estimators=100,\n",
       "              n_jobs=0, num_parallel_tree=1, predictor=&#x27;auto&#x27;, random_state=42, ...)</pre></div></div></div></div></div>"
      ],
      "text/plain": [
       "XGBClassifier(base_score=0.5, booster='gbtree', callbacks=None,\n",
       "              colsample_bylevel=1, colsample_bynode=1, colsample_bytree=0.5,\n",
       "              early_stopping_rounds=100, enable_categorical=False,\n",
       "              eval_metric='error', feature_types=None, gamma=0.05, gpu_id=-1,\n",
       "              grow_policy='depthwise', importance_type=None,\n",
       "              interaction_constraints='', learning_rate=0.300000012,\n",
       "              max_bin=256, max_cat_threshold=64, max_cat_to_onehot=4,\n",
       "              max_delta_step=0, max_depth=5, max_leaves=0, min_child_weight=5,\n",
       "              missing=nan, monotone_constraints='()', n_estimators=100,\n",
       "              n_jobs=0, num_parallel_tree=1, predictor='auto', random_state=42, ...)"
      ]
     },
     "execution_count": 103,
     "metadata": {},
     "output_type": "execute_result"
    }
   ],
   "source": [
    "# import XGBClassifier\n",
    "from xgboost import XGBClassifier\n",
    "\n",
    "params = {'n_estimators': 100,\n",
    "          'scale_pos_weight': 5,\n",
    "          'early_stopping_rounds': 100,\n",
    "          'eval_metric':'error',\n",
    "          'min_child_weight':5,\n",
    "          'subsample': 0.5,\n",
    "          'colsample_bytree':0.5,\n",
    "          'max_depth' : 5,\n",
    "          'gamma':0.05\n",
    "         }\n",
    "\n",
    "model = XGBClassifier(**params, validate_parameters=True, random_state=random_seed)\n",
    "model.fit(X_train, y_train,\n",
    "            eval_set=[(X_train, y_train), (X_val, y_val)])"
   ]
  },
  {
   "cell_type": "code",
   "execution_count": 104,
   "metadata": {},
   "outputs": [
    {
     "name": "stdout",
     "output_type": "stream",
     "text": [
      "F1: [0.7035675295830143]\n",
      "Recall: [0.7819150419769615]\n",
      "Precision: [0.6394908526848853]\n"
     ]
    },
    {
     "data": {
      "text/plain": [
       "<matplotlib.legend.Legend at 0x222ad2fbca0>"
      ]
     },
     "execution_count": 104,
     "metadata": {},
     "output_type": "execute_result"
    },
    {
     "data": {
      "image/png": "[encoded data removed]",
      "text/plain": [
       "<Figure size 1000x700 with 1 Axes>"
      ]
     },
     "metadata": {},
     "output_type": "display_data"
    }
   ],
   "source": [
    "from catboost.utils import eval_metric\n",
    "# import CatBoost\n",
    "\n",
    "predictions = model.predict(X_test)\n",
    "\n",
    "# best_iteration = model.get_booster().best_ntree_limit\n",
    "# predict(X_test, ntree_limit=best_iteration)\n",
    "\n",
    "F1 = eval_metric(y_test, predictions, 'F1')\n",
    "Precision = eval_metric(y_test, predictions, 'Precision')\n",
    "Recall = eval_metric(y_test, predictions, 'Recall')\n",
    "print(\"F1:\", F1)\n",
    "print(\"Recall:\", Recall)\n",
    "print(\"Precision:\", Precision)\n",
    "\n",
    "from matplotlib import pyplot as plt\n",
    "results = model.evals_result()\n",
    "\n",
    "plt.figure(figsize=(10,7))\n",
    "plt.plot(results[\"validation_0\"][\"error\"], label=\"Training loss\")\n",
    "plt.plot(results[\"validation_1\"][\"error\"], label=\"Validation loss\")\n",
    "plt.axvline(21, color=\"gray\", label=\"Optimal tree number\")\n",
    "plt.xlabel(\"Number of trees\")\n",
    "plt.ylabel(\"Loss\")\n",
    "plt.legend()"
   ]
  },
  {
   "cell_type": "markdown",
   "metadata": {},
   "source": [
    "### Catboost"
   ]
  },
  {
   "cell_type": "code",
   "execution_count": 124,
   "metadata": {},
   "outputs": [
    {
     "data": {
      "application/vnd.jupyter.widget-view+json": {
       "model_id": "9f9547d4aaff4709afc3f1355f4026c3",
       "version_major": 2,
       "version_minor": 0
      },
      "text/plain": [
       "MetricVisualizer(layout=Layout(align_self='stretch', height='500px'))"
      ]
     },
     "metadata": {},
     "output_type": "display_data"
    },
    {
     "name": "stdout",
     "output_type": "stream",
     "text": [
      "0:\tlearn: 0.6405170\ttest: 0.6671019\tbest: 0.6671019 (0)\ttotal: 59.1ms\tremaining: 4m 55s\n",
      "100:\tlearn: 0.6474893\ttest: 0.6214044\tbest: 0.6718479 (7)\ttotal: 5.26s\tremaining: 4m 15s\n",
      "200:\tlearn: 0.6669996\ttest: 0.6095564\tbest: 0.6718479 (7)\ttotal: 10.1s\tremaining: 4m 2s\n",
      "Stopped by overfitting detector  (200 iterations wait)\n",
      "\n",
      "bestTest = 0.6718479197\n",
      "bestIteration = 7\n",
      "\n",
      "Shrink model to first 8 iterations.\n"
     ]
    },
    {
     "data": {
      "text/plain": [
       "<catboost.core.CatBoostClassifier at 0x222bd1836a0>"
      ]
     },
     "execution_count": 124,
     "metadata": {},
     "output_type": "execute_result"
    }
   ],
   "source": [
    "from catboost import CatBoostClassifier, Pool\n",
    "\n",
    "params = {'loss_function':'Logloss',\n",
    "          'eval_metric':'F1',\n",
    "          'early_stopping_rounds': 200,\n",
    "          'iterations': 5000,\n",
    "          'verbose': 100,\n",
    "          'random_seed': random_seed,\n",
    "          'l2_leaf_reg': 15,\n",
    "          'bootstrap_type': 'Bernoulli',\n",
    "          'learning_rate': 0.0955,\n",
    "        #   'bagging_temperature': 4.5\n",
    "         }\n",
    "\n",
    "# model = CatBoostClassifier(**params, class_weights=[0.3, 0.5])\n",
    "model = CatBoostClassifier(**params, scale_pos_weight=2)\n",
    "\n",
    "model.fit(X_train, y_train, # data to train on (required parameters, unless we provide X as a pool object, will be shown below)\n",
    "          eval_set=(X_val, y_val), # data to validate on\n",
    "          use_best_model=True, # True if we don't want to save trees created after iteration with the best validation score\n",
    "          plot=True, # True for visualization of the training process (it is not shown in a published kernel - try executing this code)\n",
    "\n",
    "         )"
   ]
  },
  {
   "cell_type": "code",
   "execution_count": 125,
   "metadata": {},
   "outputs": [
    {
     "name": "stdout",
     "output_type": "stream",
     "text": [
      "F1: [0.7076676851447693]\n",
      "Recall: [0.6782974925389786]\n",
      "Precision: [0.7396964443227788]\n"
     ]
    }
   ],
   "source": [
    "predictions = model.predict(X_test)\n",
    "\n",
    "F1 = eval_metric(y_test, predictions, 'F1')\n",
    "Precision = eval_metric(y_test, predictions, 'Precision')\n",
    "Recall = eval_metric(y_test, predictions, 'Recall')\n",
    "print(\"F1:\", F1)\n",
    "print(\"Recall:\", Recall)\n",
    "print(\"Precision:\", Precision)\n",
    "\n"
   ]
  },
  {
   "cell_type": "markdown",
   "metadata": {},
   "source": [
    "### Save best model"
   ]
  },
  {
   "cell_type": "code",
   "execution_count": 50,
   "metadata": {},
   "outputs": [],
   "source": [
    "import datetime\n",
    "\n",
    "abspath_curr = 'D:/GWU/ML4DAM/'\n",
    "\n",
    "# Make directory\n",
    "directory = os.path.dirname(abspath_curr + '/data/accra/result/')\n",
    "if not os.path.exists(directory):\n",
    "    os.makedirs(directory)\n",
    "\n",
    "\n",
    "MPATH = f'{abspath_curr}/data/accra/result/'\n",
    "T = datetime.datetime.now()\n",
    "time = T.strftime(\"%y%m%d%H%M%S\")\n",
    "filename = 'XGboost_45'\n",
    "out_file = f\"{MPATH}/{filename}_{time}\"\n",
    "\n",
    "model.save_model(out_file)"
   ]
  },
  {
   "cell_type": "markdown",
   "metadata": {},
   "source": [
    "## Inference "
   ]
  },
  {
   "cell_type": "code",
   "execution_count": 71,
   "metadata": {},
   "outputs": [
    {
     "name": "stdout",
     "output_type": "stream",
     "text": [
      "45\n",
      "215\n",
      "215\n"
     ]
    }
   ],
   "source": [
    "# PATH= f'{abspath_curr}/data/nairobi/spfea.vrt'\n",
    "# PATH = 'C:/Users/mowus/Documents/GWU/gwu_work/ML4DAM/data/nairobi/final/spfea/nai_area16.tif'\n",
    "PATH = 'D:/GWU/ML4DAM/data/accra/final/spfea/acc_area10.tif'\n",
    "img = utils.read_image(PATH)\n",
    "img_arr=img[0]\n",
    "img_gt=img[1]\n",
    "img_georef=img[2]\n",
    "\n",
    "# Process spfea features, get the width, height and number of bands\n",
    "n = img_arr.shape[0]\n",
    "print (n) # number of bands\n",
    "h = img_arr.shape[1]\n",
    "print (h) # height\n",
    "w = img_arr.shape[2]\n",
    "print (w) # width"
   ]
  },
  {
   "cell_type": "code",
   "execution_count": 72,
   "metadata": {},
   "outputs": [],
   "source": [
    "arr = img_arr[:, img_arr[0,...]!=-9999]\n",
    "# mask = img_arr!=0\n",
    "# img_arr[mask] =  np.transpose(arr)"
   ]
  },
  {
   "cell_type": "code",
   "execution_count": 73,
   "metadata": {},
   "outputs": [
    {
     "data": {
      "text/plain": [
       "(46225, 45)"
      ]
     },
     "execution_count": 73,
     "metadata": {},
     "output_type": "execute_result"
    }
   ],
   "source": [
    "arr =  np.transpose(arr)\n",
    "mask = arr!=0\n",
    "mask.shape\n",
    "# mask[0]\n"
   ]
  },
  {
   "cell_type": "code",
   "execution_count": 74,
   "metadata": {},
   "outputs": [
    {
     "data": {
      "text/plain": [
       "(2080125,)"
      ]
     },
     "execution_count": 74,
     "metadata": {},
     "output_type": "execute_result"
    }
   ],
   "source": [
    "arr[mask].shape"
   ]
  },
  {
   "cell_type": "code",
   "execution_count": 75,
   "metadata": {},
   "outputs": [],
   "source": [
    "from sklearn.preprocessing import StandardScaler\n",
    "from sklearn.impute import SimpleImputer\n",
    "\n",
    "arr = img_arr[:, img_arr[0,...]!=0]\n",
    "arr =  np.transpose(arr)\n",
    "\n",
    "si = SimpleImputer(missing_values=0, strategy='mean')\n",
    "# impute the training data\n",
    "mapx = si.fit_transform(arr)\n",
    "\n",
    "# Standadized \n",
    "ss = StandardScaler()\n",
    "MapX = ss.fit_transform(mapx)\n",
    "# img_arr[img_arr == 0] = np.nan\n",
    "# # img_arr.shape\n",
    "# nan_mask = np.isnan(img_arr)\n",
    "\n",
    "\n",
    "# # arr_no_nan = img_arr[~nan_mask[:,:]]\n",
    "\n",
    "# # Set all masked pixels to zero\n",
    "# masked = img_arr.copy()\n",
    "# new_arr=masked[nan_mask] \n",
    "# # mapX = ss.fit_transform(arr)"
   ]
  },
  {
   "cell_type": "code",
   "execution_count": 79,
   "metadata": {},
   "outputs": [],
   "source": [
    "# PREDICTION \n",
    "\n",
    "# PREDICTION\n",
    "from catboost import CatBoostClassifier, Pool\n",
    "from xgboost import XGBClassifier\n",
    "\n",
    "# load\n",
    "# C:\\Users\\mowus\\Documents\\GWU\\gwu_work\\ML4DAM\\data\\nairobi\\result\\XGboost_45_221229000952\n",
    "new_model = XGBClassifier()\n",
    "new_model.load_model(f'C:/Users/mowus/Documents/GWU/gwu_work/ML4DAM/data/nairobi/result/XGboost_45_221229000952')\n",
    "# new_model.load_model(f'{abspath_curr}/data/accra/result/XGboost_45_230116101040')\n",
    "# pred_map = new_model.predict(data_x_scale)\n",
    "\n",
    "pred_map = new_model.predict(MapX)\n",
    "# pred_map = new_model.predict(arr[mask].reshape(h,w))"
   ]
  },
  {
   "cell_type": "code",
   "execution_count": 34,
   "metadata": {},
   "outputs": [
    {
     "data": {
      "text/plain": [
       "(0, 45)"
      ]
     },
     "execution_count": 34,
     "metadata": {},
     "output_type": "execute_result"
    }
   ],
   "source": []
  },
  {
   "cell_type": "code",
   "execution_count": 80,
   "metadata": {},
   "outputs": [
    {
     "data": {
      "image/png": "[encoded data removed]",
      "text/plain": [
       "<Figure size 800x400 with 1 Axes>"
      ]
     },
     "metadata": {},
     "output_type": "display_data"
    }
   ],
   "source": [
    "from matplotlib.pyplot import figure\n",
    "import matplotlib.patches as mpatches\n",
    "\n",
    "pred_map = pred_map.reshape(h, w)\n",
    "\n",
    "\n",
    "values = np.unique(pred_map.ravel())\n",
    "\n",
    "plt.figure(figsize=(8,4))\n",
    "im = plt.imshow(pred_map, interpolation='none')\n",
    "\n",
    "# get the colors of the values, according to the \n",
    "# colormap used by imshow\n",
    "colors = [ im.cmap(im.norm(value)) for value in values]\n",
    "# create a patch (proxy artist) for every color \n",
    "patches = [ mpatches.Patch(color=colors[i], label=\"Class {l}\".format(l=values[i]) ) for i in range(len(values)) ]\n",
    "# put those patched as legend-handles into the legend\n",
    "plt.legend(handles=patches, bbox_to_anchor=(1.05, 1), loc=2, borderaxespad=0. )\n",
    "\n",
    "plt.show()"
   ]
  },
  {
   "cell_type": "code",
   "execution_count": 78,
   "metadata": {},
   "outputs": [
    {
     "data": {
      "image/png": "[encoded data removed]",
      "text/plain": [
       "<Figure size 640x480 with 1 Axes>"
      ]
     },
     "metadata": {},
     "output_type": "display_data"
    },
    {
     "data": {
      "text/plain": [
       "<AxesSubplot: >"
      ]
     },
     "execution_count": 78,
     "metadata": {},
     "output_type": "execute_result"
    }
   ],
   "source": [
    "PATH= f'D:/GWU/ML4DAM/data/accra/final/mask/acc_area10.tif'\n",
    "# PATH = 'C:/Users/mowus/Documents/GWU/gwu_work/ML4DAM/data/nairobi/final/mask/nai_area16.tif'\n",
    "img = utils.read_image(PATH)\n",
    "img_arr=img[0]\n",
    "show(img_arr)\n",
    "# img_gt=img[1]\n",
    "# img_georef=img[2]"
   ]
  },
  {
   "cell_type": "code",
   "execution_count": null,
   "metadata": {},
   "outputs": [],
   "source": []
  }
 ],
 "metadata": {
  "kernelspec": {
   "display_name": "Python 3.10.6 ('mongolia')",
   "language": "python",
   "name": "python3"
  },
  "language_info": {
   "codemirror_mode": {
    "name": "ipython",
    "version": 3
   },
   "file_extension": ".py",
   "mimetype": "text/x-python",
   "name": "python",
   "nbconvert_exporter": "python",
   "pygments_lexer": "ipython3",
   "version": "3.10.6"
  },
  "orig_nbformat": 4,
  "vscode": {
   "interpreter": {
    "hash": "6680f4eed1642b9d4b246223a81cf8ff54f7def8bc9111d136e8a4bf854377b2"
   }
  }
 },
 "nbformat": 4,
 "nbformat_minor": 2
}
