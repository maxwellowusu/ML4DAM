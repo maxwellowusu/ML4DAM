{
 "cells": [
  {
   "cell_type": "markdown",
   "metadata": {},
   "source": [
    "# Machine Learning for Deprived Area Mapping (ML4DAM)\n",
    "\n",
    "### Using Contextual features extracted from Sentinel 2"
   ]
  },
  {
   "cell_type": "markdown",
   "metadata": {},
   "source": [
    "## Contextual features preparation "
   ]
  },
  {
   "cell_type": "code",
   "execution_count": 2,
   "metadata": {},
   "outputs": [],
   "source": [
    "# imprt libraries \n",
    "import os \n",
    "from glob import glob\n",
    "import numpy as np\n",
    "import pandas as pd\n",
    "from osgeo import gdal\n",
    "import rasterio \n",
    "\n"
   ]
  },
  {
   "cell_type": "markdown",
   "metadata": {},
   "source": [
    "Set Working directorate "
   ]
  },
  {
   "cell_type": "code",
   "execution_count": 19,
   "metadata": {},
   "outputs": [],
   "source": [
    "# Get abosolute path of the current folder\n",
    "abspath_curr = 'C:/Users/mowus/Documents/GWU/gwu_work/ML4DAM/'\n",
    "\n",
    "# Target\n",
    "target = 'class'\n",
    "\n",
    "# Random seed\n",
    "random_seed = 42\n",
    "\n",
    "# Set random seed in numpy\n",
    "import numpy as np\n",
    "np.random.seed(random_seed)"
   ]
  },
  {
   "cell_type": "markdown",
   "metadata": {},
   "source": [
    "## Prepare contextual features \n",
    "\n",
    "We select the uses 45 of out 145 features after detailed visual inspection. These are user defined features.  "
   ]
  },
  {
   "cell_type": "code",
   "execution_count": 5,
   "metadata": {},
   "outputs": [],
   "source": [
    "# Load data to VRT for processing \n",
    "files = sorted(glob(f'D:/GWU/ML4DAM/data/accra/accra_spfeas_10m/*/*.tif'))\n",
    "# print(files)"
   ]
  },
  {
   "cell_type": "code",
   "execution_count": 6,
   "metadata": {},
   "outputs": [
    {
     "name": "stdout",
     "output_type": "stream",
     "text": [
      "45\n"
     ]
    }
   ],
   "source": [
    "# list use defined features\n",
    "\n",
    "gabor = ['D:/GWU/ML4DAM/data/accra/accra_spfeas_10m/gabor/gabor_sc3_filter_1.tif',\n",
    "                'D:/GWU/ML4DAM/data/accra/accra_spfeas_10m/gabor/gabor_sc3_filter_3.tif',\n",
    "                'D:/GWU/ML4DAM/data/accra/accra_spfeas_10m/gabor/gabor_sc3_filter_5.tif',\n",
    "                'D:/GWU/ML4DAM/data/accra/accra_spfeas_10m/gabor/gabor_sc3_filter_7.tif',\n",
    "                'D:/GWU/ML4DAM/data/accra/accra_spfeas_10m/gabor/gabor_sc3_filter_9.tif',\n",
    "                'D:/GWU/ML4DAM/data/accra/accra_spfeas_10m/gabor/gabor_sc3_filter_11.tif',\n",
    "                'D:/GWU/ML4DAM/data/accra/accra_spfeas_10m/gabor/gabor_sc3_filter_13.tif',\n",
    "                'D:/GWU/ML4DAM/data/accra/accra_spfeas_10m/gabor/gabor_sc3_mean.tif',\n",
    "                'D:/GWU/ML4DAM/data/accra/accra_spfeas_10m/gabor/gabor_sc5_filter_1.tif',\n",
    "                'D:/GWU/ML4DAM/data/accra/accra_spfeas_10m/gabor/gabor_sc5_filter_3.tif',\n",
    "                'D:/GWU/ML4DAM/data/accra/accra_spfeas_10m/gabor/gabor_sc5_filter_5.tif',\n",
    "                'D:/GWU/ML4DAM/data/accra/accra_spfeas_10m/gabor/gabor_sc5_filter_7.tif',\n",
    "                'D:/GWU/ML4DAM/data/accra/accra_spfeas_10m/gabor/gabor_sc5_filter_9.tif',\n",
    "                'D:/GWU/ML4DAM/data/accra/accra_spfeas_10m/gabor/gabor_sc5_filter_11.tif',\n",
    "                'D:/GWU/ML4DAM/data/accra/accra_spfeas_10m/gabor/gabor_sc5_filter_13.tif',\n",
    "                'D:/GWU/ML4DAM/data/accra/accra_spfeas_10m/gabor/gabor_sc5_mean.tif',\n",
    "                'D:/GWU/ML4DAM/data/accra/accra_spfeas_10m/gabor/gabor_sc7_filter_1.tif',\n",
    "                'D:/GWU/ML4DAM/data/accra/accra_spfeas_10m/gabor/gabor_sc7_filter_3.tif',\n",
    "                'D:/GWU/ML4DAM/data/accra/accra_spfeas_10m/gabor/gabor_sc7_filter_5.tif',\n",
    "                'D:/GWU/ML4DAM/data/accra/accra_spfeas_10m/gabor/gabor_sc7_filter_7.tif',\n",
    "                'D:/GWU/ML4DAM/data/accra/accra_spfeas_10m/gabor/gabor_sc7_filter_9.tif',\n",
    "                'D:/GWU/ML4DAM/data/accra/accra_spfeas_10m/gabor/gabor_sc7_filter_11.tif',\n",
    "                'D:/GWU/ML4DAM/data/accra/accra_spfeas_10m/gabor/gabor_sc7_filter_13.tif',\n",
    "                'D:/GWU/ML4DAM/data/accra/accra_spfeas_10m/gabor/gabor_sc7_mean.tif']\n",
    "\n",
    "\n",
    "Ibpm = ['D:/GWU/ML4DAM/data/accra/accra_spfeas_10m/lbpm/lbpm_sc7_max.tif',\n",
    "        'D:/GWU/ML4DAM/data/accra/accra_spfeas_10m/lbpm/lbpm_sc7_skew.tif',\n",
    "        'D:/GWU/ML4DAM/data/accra/accra_spfeas_10m/lbpm/lbpm_sc7_kurtosis.tif']\n",
    "\n",
    "mean = ['D:/GWU/ML4DAM/data/accra/accra_spfeas_10m/mean/mean_sc3_mean.tif',\n",
    "        'D:/GWU/ML4DAM/data/accra/accra_spfeas_10m/mean/mean_sc5_mean.tif',\n",
    "        'D:/GWU/ML4DAM/data/accra/accra_spfeas_10m/mean/mean_sc7_mean.tif',]\n",
    "\n",
    "ndvi = ['D:/GWU/ML4DAM/data/accra/accra_spfeas_10m/ndvi/ndvi_sc3_mean.tif',\n",
    "        'D:/GWU/ML4DAM/data/accra/accra_spfeas_10m/ndvi/ndvi_sc5_mean.tif',\n",
    "        'D:/GWU/ML4DAM/data/accra/accra_spfeas_10m/ndvi/ndvi_sc7_mean.tif']\n",
    "\n",
    "sfs = [ 'D:/GWU/ML4DAM/data/accra/accra_spfeas_10m/sfs/sfs_sc31_max_line_length.tif',\n",
    "        'D:/GWU/ML4DAM/data/accra/accra_spfeas_10m/sfs/sfs_sc31_max_ratio_of_orthogonal_angles.tif',\n",
    "        'D:/GWU/ML4DAM/data/accra/accra_spfeas_10m/sfs/sfs_sc31_mean.tif',\n",
    "        'D:/GWU/ML4DAM/data/accra/accra_spfeas_10m/sfs/sfs_sc31_std.tif',\n",
    "         'D:/GWU/ML4DAM/data/accra/accra_spfeas_10m/sfs/sfs_sc51_max_line_length.tif',\n",
    "        'D:/GWU/ML4DAM/data/accra/accra_spfeas_10m/sfs/sfs_sc51_max_ratio_of_orthogonal_angles.tif',\n",
    "        'D:/GWU/ML4DAM/data/accra/accra_spfeas_10m/sfs/sfs_sc51_mean.tif',\n",
    "        'D:/GWU/ML4DAM/data/accra/accra_spfeas_10m/sfs/sfs_sc51_std.tif',\n",
    "         'D:/GWU/ML4DAM/data/accra/accra_spfeas_10m/sfs/sfs_sc71_max_line_length.tif',\n",
    "        'D:/GWU/ML4DAM/data/accra/accra_spfeas_10m/sfs/sfs_sc71_max_ratio_of_orthogonal_angles.tif',\n",
    "        'D:/GWU/ML4DAM/data/accra/accra_spfeas_10m/sfs/sfs_sc71_mean.tif',\n",
    "        'D:/GWU/ML4DAM/data/accra/accra_spfeas_10m/sfs/sfs_sc71_std.tif',]\n",
    "\n",
    "\n",
    "spfea = gabor + Ibpm + mean + ndvi + sfs \n",
    "spfea =sorted(spfea)\n",
    "print (len(spfea))"
   ]
  },
  {
   "cell_type": "markdown",
   "metadata": {},
   "source": [
    "### Convert features to VRT "
   ]
  },
  {
   "cell_type": "code",
   "execution_count": 7,
   "metadata": {},
   "outputs": [],
   "source": [
    "\n",
    "# # Make directory\n",
    "# directory = os.path.dirname(abspath_curr + '/data/nairobi/')\n",
    "# if not os.path.exists(directory):\n",
    "#     os.makedirs(directory)\n",
    "\n",
    "\n",
    "vrt_options = gdal.BuildVRTOptions(separate=True)\n",
    "vrt =  gdal.BuildVRT(f'D:/GWU/ML4DAM/data/accra/acc_spfea.vrt', spfea, options=vrt_options)\n",
    "vrt = None"
   ]
  },
  {
   "cell_type": "markdown",
   "metadata": {},
   "source": [
    "### Convert VRT to Tiff\n",
    "\n",
    "Code needs improvement. use gdal_translate "
   ]
  },
  {
   "cell_type": "code",
   "execution_count": 8,
   "metadata": {},
   "outputs": [],
   "source": [
    "#Open existing dataset\n",
    "input_filename = f'D:/GWU/ML4DAM/data/accra/acc_spfea.vrt'\n",
    "src_ds = gdal.Open(input_filename)\n",
    "\n",
    "#Open output format driver, see gdal_translate --formats for list\n",
    "format = \"GTiff\"\n",
    "driver = gdal.GetDriverByName(format)\n",
    "\n",
    "#Output to new format\n",
    "dst_filename = f'D:/GWU/ML4DAM/data/accra/acc_spfea.tiff'\n",
    "dst_ds = driver.CreateCopy( dst_filename, src_ds, 0 )\n",
    "\n",
    "#Properly close the datasets to flush to disk\n",
    "dst_ds = None\n",
    "src_ds = None"
   ]
  },
  {
   "cell_type": "code",
   "execution_count": 21,
   "metadata": {},
   "outputs": [
    {
     "name": "stdout",
     "output_type": "stream",
     "text": [
      "45\n",
      "7400\n",
      "6550\n"
     ]
    }
   ],
   "source": [
    "# PATH= f'{abspath_curr}/data/nairobi/spfea.vrt'\n",
    "# img = utils.read_image(PATH)\n",
    "# img_arr=img[0]\n",
    "# img_gt=img[1]\n",
    "# img_georef=img[2]\n",
    "\n",
    "# # Process spfea features, get the width, height and number of bands\n",
    "# n = img_arr.shape[0]\n",
    "# print (n) # number of bands\n",
    "# h = img_arr.shape[1]\n",
    "# print (h) # height\n",
    "# w = img_arr.shape[2]\n",
    "# print (w) # width"
   ]
  },
  {
   "cell_type": "markdown",
   "metadata": {},
   "source": [
    "### Ctreate tiles for processing.\n",
    "\n",
    "This is done to ensure images are loaded gradually to deal with memory problems. \n",
    "\n",
    "Not necessary if you have a powerful computer with large memory "
   ]
  },
  {
   "cell_type": "code",
   "execution_count": 17,
   "metadata": {},
   "outputs": [
    {
     "name": "stdout",
     "output_type": "stream",
     "text": [
      "Window(col_off=0, row_off=0, width=1000, height=1000)\n",
      "Window(col_off=0, row_off=1000, width=1000, height=1000)\n",
      "Window(col_off=0, row_off=2000, width=1000, height=1000)\n",
      "Window(col_off=0, row_off=3000, width=1000, height=1000)\n",
      "Window(col_off=0, row_off=4000, width=1000, height=1000)\n",
      "Window(col_off=0, row_off=5000, width=1000, height=1000)\n",
      "Window(col_off=0, row_off=6000, width=1000, height=1000)\n",
      "Window(col_off=0, row_off=7000, width=1000, height=400)\n",
      "Window(col_off=1000, row_off=0, width=1000, height=1000)\n",
      "Window(col_off=1000, row_off=1000, width=1000, height=1000)\n",
      "Window(col_off=1000, row_off=2000, width=1000, height=1000)\n",
      "Window(col_off=1000, row_off=3000, width=1000, height=1000)\n",
      "Window(col_off=1000, row_off=4000, width=1000, height=1000)\n",
      "Window(col_off=1000, row_off=5000, width=1000, height=1000)\n",
      "Window(col_off=1000, row_off=6000, width=1000, height=1000)\n",
      "Window(col_off=1000, row_off=7000, width=1000, height=400)\n",
      "Window(col_off=2000, row_off=0, width=1000, height=1000)\n",
      "Window(col_off=2000, row_off=1000, width=1000, height=1000)\n",
      "Window(col_off=2000, row_off=2000, width=1000, height=1000)\n",
      "Window(col_off=2000, row_off=3000, width=1000, height=1000)\n",
      "Window(col_off=2000, row_off=4000, width=1000, height=1000)\n",
      "Window(col_off=2000, row_off=5000, width=1000, height=1000)\n",
      "Window(col_off=2000, row_off=6000, width=1000, height=1000)\n",
      "Window(col_off=2000, row_off=7000, width=1000, height=400)\n",
      "Window(col_off=3000, row_off=0, width=1000, height=1000)\n",
      "Window(col_off=3000, row_off=1000, width=1000, height=1000)\n",
      "Window(col_off=3000, row_off=2000, width=1000, height=1000)\n",
      "Window(col_off=3000, row_off=3000, width=1000, height=1000)\n",
      "Window(col_off=3000, row_off=4000, width=1000, height=1000)\n",
      "Window(col_off=3000, row_off=5000, width=1000, height=1000)\n",
      "Window(col_off=3000, row_off=6000, width=1000, height=1000)\n",
      "Window(col_off=3000, row_off=7000, width=1000, height=400)\n",
      "Window(col_off=4000, row_off=0, width=1000, height=1000)\n",
      "Window(col_off=4000, row_off=1000, width=1000, height=1000)\n",
      "Window(col_off=4000, row_off=2000, width=1000, height=1000)\n",
      "Window(col_off=4000, row_off=3000, width=1000, height=1000)\n",
      "Window(col_off=4000, row_off=4000, width=1000, height=1000)\n",
      "Window(col_off=4000, row_off=5000, width=1000, height=1000)\n",
      "Window(col_off=4000, row_off=6000, width=1000, height=1000)\n",
      "Window(col_off=4000, row_off=7000, width=1000, height=400)\n",
      "Window(col_off=5000, row_off=0, width=1000, height=1000)\n",
      "Window(col_off=5000, row_off=1000, width=1000, height=1000)\n",
      "Window(col_off=5000, row_off=2000, width=1000, height=1000)\n",
      "Window(col_off=5000, row_off=3000, width=1000, height=1000)\n",
      "Window(col_off=5000, row_off=4000, width=1000, height=1000)\n",
      "Window(col_off=5000, row_off=5000, width=1000, height=1000)\n",
      "Window(col_off=5000, row_off=6000, width=1000, height=1000)\n",
      "Window(col_off=5000, row_off=7000, width=1000, height=400)\n",
      "Window(col_off=6000, row_off=0, width=550, height=1000)\n",
      "Window(col_off=6000, row_off=1000, width=550, height=1000)\n",
      "Window(col_off=6000, row_off=2000, width=550, height=1000)\n",
      "Window(col_off=6000, row_off=3000, width=550, height=1000)\n",
      "Window(col_off=6000, row_off=4000, width=550, height=1000)\n",
      "Window(col_off=6000, row_off=5000, width=550, height=1000)\n",
      "Window(col_off=6000, row_off=6000, width=550, height=1000)\n",
      "Window(col_off=6000, row_off=7000, width=550, height=400)\n"
     ]
    }
   ],
   "source": [
    "import os\n",
    "from itertools import product\n",
    "import rasterio as rio\n",
    "from rasterio import windows\n",
    "\n",
    "\n",
    "# Get abosolute path of the current folder\n",
    "abspath_curr = 'C:/Users/mowus/Documents/GWU/gwu_work/ML4DAM/'\n",
    "# in_path = '/path/to/indata/'\n",
    "input_filename = f'{abspath_curr}/data/nairobi/spfea.tiff'\n",
    "# input_filename = 'C:/Users/mowus/Documents/GWU/gwu_work/ML4DAM/data/nairobi/raw_image/nai_bgrn.tif'\n",
    "\n",
    "out_path = 'C:/Users/mowus/Documents/GWU/gwu_work/ML4DAM/data/nairobi/temp/ImageTiles/'\n",
    "output_filename = 'tile_{}-{}.tif'\n",
    "\n",
    "def get_tiles(ds, width=1000, height=1000):\n",
    "    '''\n",
    "    Function create tiles from geotiff. \n",
    "    param: width and height\n",
    "    return tiles and transform \n",
    "    '''\n",
    "    nols, nrows = ds.meta['width'], ds.meta['height']\n",
    "    offsets = product(range(0, nols, width), range(0, nrows, height))\n",
    "    big_window = windows.Window(col_off=0, row_off=0, width=nols, height=nrows)\n",
    "    for col_off, row_off in  offsets:\n",
    "        window =windows.Window(col_off=col_off, row_off=row_off, width=width, height=height).intersection(big_window)\n",
    "        transform = windows.transform(window, ds.transform)\n",
    "        yield window, transform\n",
    "\n",
    "with rio.open(input_filename) as inds:\n",
    "    tile_width, tile_height = 1000, 1000\n",
    "\n",
    "    meta = inds.meta.copy()\n",
    "\n",
    "    for window, transform in get_tiles(inds):\n",
    "        print(window)\n",
    "        meta['transform'] = transform\n",
    "        meta['width'], meta['height'] = window.width, window.height\n",
    "        outpath = os.path.join(out_path,output_filename.format(int(window.col_off), int(window.row_off)))\n",
    "        with rio.open(outpath, 'w', **meta) as outds:\n",
    "            outds.write(inds.read(window=window))"
   ]
  },
  {
   "cell_type": "code",
   "execution_count": 3,
   "metadata": {},
   "outputs": [],
   "source": []
  }
 ],
 "metadata": {
  "kernelspec": {
   "display_name": "Python 3.10.6 ('mongolia')",
   "language": "python",
   "name": "python3"
  },
  "language_info": {
   "codemirror_mode": {
    "name": "ipython",
    "version": 3
   },
   "file_extension": ".py",
   "mimetype": "text/x-python",
   "name": "python",
   "nbconvert_exporter": "python",
   "pygments_lexer": "ipython3",
   "version": "3.10.6"
  },
  "orig_nbformat": 4,
  "vscode": {
   "interpreter": {
    "hash": "6680f4eed1642b9d4b246223a81cf8ff54f7def8bc9111d136e8a4bf854377b2"
   }
  }
 },
 "nbformat": 4,
 "nbformat_minor": 2
}
